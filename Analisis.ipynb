{
 "cells": [
  {
   "cell_type": "markdown",
   "metadata": {},
   "source": [
    "# Análisis de la Base de Datos de Vulnerabilidades\n",
    "\n",
    "Este notebook está dedicado al análisis de una base de datos que contiene información sobre vulnerabilidades extraídas de la API CVE de NIST. La base de datos se ha construido para organizar mejor la información obtenida de las consultas a la API, permitiendo un análisis más estructurado y eficiente.\n",
    "\n",
    "## Contexto\n",
    "\n",
    "La base de datos se compone de varias tablas relacionadas que almacenan diferentes aspectos de las vulnerabilidades. A continuación, se presenta la estructura de la base de datos y sus tablas.\n",
    "\n",
    "### Estructura de la Base de Datos\n",
    "\n",
    "#### Tabla cve_data\n",
    "\n",
    "| Columna           | Tipo de Dato    |\n",
    "|-------------------|-----------------|\n",
    "| id                | VARCHAR(50)     |\n",
    "| sourceIdentifier  | VARCHAR(255)    |\n",
    "| published         | DATETIME        |\n",
    "| lastModified      | DATETIME        |\n",
    "| vulnStatus        | VARCHAR(50)     |\n",
    "| description_en    | TEXT            |\n",
    "| description_es    | TEXT            |\n",
    "| vendor            | VARCHAR(255)    |\n",
    "\n",
    "#### Tabla cvss_metrics\n",
    "\n",
    "| Columna               | Tipo de Dato    |\n",
    "|-----------------------|-----------------|\n",
    "| id                    | INT AUTO_INCREMENT |\n",
    "| cve_id                | VARCHAR(50)     |\n",
    "| version               | VARCHAR(10)     |\n",
    "| vectorString          | TEXT            |\n",
    "| attackVector          | VARCHAR(50)     |\n",
    "| attackComplexity      | VARCHAR(50)     |\n",
    "| privilegesRequired    | VARCHAR(50)     |\n",
    "| userInteraction       | VARCHAR(50)     |\n",
    "| scope                 | VARCHAR(50)     |\n",
    "| confidentialityImpact | VARCHAR(50)     |\n",
    "| integrityImpact       | VARCHAR(50)     |\n",
    "| availabilityImpact    | VARCHAR(50)     |\n",
    "| baseScore             | FLOAT           |\n",
    "| baseSeverity          | VARCHAR(50)     |\n",
    "| exploitabilityScore   | FLOAT           |\n",
    "| impactScore           | FLOAT           |\n",
    "\n",
    "#### Tabla cwe\n",
    "\n",
    "| Columna | Tipo de Dato    |\n",
    "|---------|-----------------|\n",
    "| id      | INT AUTO_INCREMENT |\n",
    "| cve_id  | VARCHAR(50)     |\n",
    "| cwe_id  | VARCHAR(50)     |\n",
    "\n",
    "#### Tabla references\n",
    "\n",
    "| Columna | Tipo de Dato    |\n",
    "|---------|-----------------|\n",
    "| id      | INT AUTO_INCREMENT |\n",
    "| cve_id  | VARCHAR(50)     |\n",
    "| url     | TEXT            |\n",
    "| source  | VARCHAR(255)    |\n",
    "| tags    | TEXT            |\n",
    "\n",
    "Cada tabla está diseñada para almacenar diferentes aspectos de las vulnerabilidades, desde la información básica hasta los detalles de las métricas CVSS, las debilidades CWE y las referencias externas. Esta estructura permite una organización eficiente y una fácil consulta de los datos extraídos de la API CVE de NIST."
   ]
  },
  {
   "cell_type": "markdown",
   "metadata": {},
   "source": [
    "## Pasos para el Análisis\n",
    "1. **Conexión a la Base de Datos**: Primero, se establecerá una conexión a la base de datos para poder extraer la información necesaria."
   ]
  },
  {
   "cell_type": "code",
   "execution_count": 6,
   "metadata": {},
   "outputs": [],
   "source": [
    "import mysql.connector\n",
    "import pandas as pd\n",
    "from Tools.Functions import *\n",
    "\n",
    "\n",
    "\n",
    "db_config = load_config('./Config/Parameters.json')\n",
    "db_config = db_config['database']\n",
    "\n",
    "# Conectar a la base de datos\n",
    "conn = mysql.connector.connect(**db_config)"
   ]
  },
  {
   "cell_type": "markdown",
   "metadata": {},
   "source": [
    "Una vez establecida la conexión a la base de datos (conn), se procede a realizar el primer análisis enfocado en la descripción de las vulnerabilidades almacenadas. Para ello, se ejecuta una consulta a la tabla cve_data, que contiene las descripciones de las vulnerabilidades. Posteriormente, se lleva a cabo un análisis de sentimientos en inglés utilizando técnicas de procesamiento de lenguaje natural (NLP) para determinar si el tono general de las descripciones es negativo, neutro o positivo.\n",
    "\n",
    "El análisis de sentimientos con TextBlob generará un valor de polaridad para cada descripción:\n",
    "\n",
    "- **Polaridad**: Un valor entre -1.0 (muy negativo) y 1.0 (muy positivo).\n",
    "\n",
    "Por ejemplo, si el valor de sentiment_en es:\n",
    "\n",
    "- Cercano a 1.0: El tono de la descripción es positivo.\n",
    "- Cercano a -1.0: El tono de la descripción es negativo.\n",
    "- Cercano a 0: El tono es neutro."
   ]
  },
  {
   "cell_type": "code",
   "execution_count": 7,
   "metadata": {},
   "outputs": [
    {
     "name": "stderr",
     "output_type": "stream",
     "text": [
      "C:\\Users\\MSI-Sebas\\AppData\\Local\\Temp\\ipykernel_6716\\3894355837.py:4: UserWarning:\n",
      "\n",
      "pandas only supports SQLAlchemy connectable (engine/connection) or database string URI or sqlite3 DBAPI2 connection. Other DBAPI2 objects are not tested. Please consider using SQLAlchemy.\n",
      "\n"
     ]
    },
    {
     "name": "stdout",
     "output_type": "stream",
     "text": [
      "Resumen de sentimientos de las descripciones en inglés:\n",
      "count    1123.000000\n",
      "mean       -0.003767\n",
      "std         0.120456\n",
      "min        -0.500000\n",
      "25%        -0.066667\n",
      "50%         0.000000\n",
      "75%         0.038839\n",
      "max         0.800000\n",
      "Name: sentiment_en, dtype: float64\n",
      "                 id  sentiment_en sentiment_class\n",
      "0     CVE-2002-0367     -0.041667          Neutra\n",
      "1     CVE-2004-0210      0.028571          Neutra\n",
      "2     CVE-2004-1464     -0.050000          Neutra\n",
      "3     CVE-2005-2773     -0.100000          Neutra\n",
      "4     CVE-2006-1547     -0.033333          Neutra\n",
      "...             ...           ...             ...\n",
      "1118  CVE-2024-4671      0.092000          Neutra\n",
      "1119  CVE-2024-4761      0.020000          Neutra\n",
      "1120  CVE-2024-4947     -0.010000          Neutra\n",
      "1121  CVE-2024-4978      0.000000          Neutra\n",
      "1122  CVE-2024-5274     -0.010000          Neutra\n",
      "\n",
      "[1123 rows x 3 columns]\n"
     ]
    }
   ],
   "source": [
    "query = \"SELECT id, description_en FROM cve_data\"\n",
    "\n",
    "# Ejecutar la consulta y cargar los resultados en un DataFrame de pandas\n",
    "data = pd.read_sql(query, conn)\n",
    "\n",
    "\n",
    "\n",
    "# Aplicar el análisis de sentimientos a las descripciones en inglés\n",
    "data['sentiment_en'] = data['description_en'].apply(analyze_sentiment)\n",
    "sentiment_summary = data['sentiment_en'].describe()\n",
    "print(\"Resumen de sentimientos de las descripciones en inglés:\")\n",
    "print(sentiment_summary)\n",
    "data['sentiment_class'] = data['sentiment_en'].apply(classify_sentiment)\n",
    "print(data[['id', 'sentiment_en', 'sentiment_class']])"
   ]
  },
  {
   "cell_type": "markdown",
   "metadata": {},
   "source": [
    "## Resultados del Análisis\n",
    "\n",
    "### Resumen de sentimientos de las descripciones en inglés:\n",
    "\n",
    "| Métrica | Valor       |\n",
    "|---------|-------------|\n",
    "| count   | 1123.000000 |\n",
    "| mean    | -0.003767   |\n",
    "| std     | 0.120456    |\n",
    "| min     | -0.500000   |\n",
    "| 25%     | -0.066667   |\n",
    "| 50%     | 0.000000    |\n",
    "| 75%     | 0.038839    |\n",
    "| max     | 0.800000    |\n",
    "\n",
    "### Interpretación de los Resultados\n",
    "\n",
    "- **count (1123)**: Indica que se analizaron 1123 descripciones de vulnerabilidades.\n",
    "- **mean (-0.003767)**: La media de la polaridad es ligeramente negativa, cercana a 0, lo que sugiere que, en promedio, las descripciones tienen un tono neutro.\n",
    "- **std (0.120456)**: La desviación estándar es 0.120456, lo que indica que hay cierta variabilidad en los sentimientos de las descripciones.\n",
    "- **min (-0.500000)**: La polaridad mínima es -0.5, lo que indica que la descripción más negativa tiene un tono moderadamente negativo.\n",
    "- **25% (-0.066667)**: El 25% de las descripciones tienen una polaridad menor o igual a -0.066667, lo que sugiere que una cuarta parte de las descripciones tienen un tono ligeramente negativo.\n",
    "- **50% (0.000000)**: La mediana es 0, lo que indica que la mitad de las descripciones tienen un tono neutro.\n",
    "- **75% (0.038839)**: El 75% de las descripciones tienen una polaridad menor o igual a 0.038839, lo que sugiere que la mayoría de las descripciones tienen un tono neutro o ligeramente positivo.\n",
    "- **max (0.800000)**: La polaridad máxima es 0.8, lo que indica que la descripción más positiva tiene un tono bastante positivo.\n",
    "\n",
    "### Clasificación de Sentimientos\n",
    "\n",
    "Además de calcular la polaridad, se clasificaron los sentimientos en categorías (negativo, neutro, positivo) utilizando la función classify_sentiment. Los resultados de esta clasificación se imprimieron junto con los identificadores de las vulnerabilidades (id), la polaridad (sentiment_en) y la clase de sentimiento (sentiment_class).\n",
    "\n",
    "Este análisis proporciona una visión general del tono de las descripciones de vulnerabilidades, lo que puede ser útil para entender cómo se presentan y perciben las vulnerabilidades en términos de su gravedad y urgencia.\n",
    "\n",
    "Dado que los resultados están muy cerca del valor neutro (0) y no alcanzan el valor máximo de 1, se puede considerar que los valores más altos son prioritarios en comparación con los valores menores o negativos."
   ]
  },
  {
   "cell_type": "code",
   "execution_count": 8,
   "metadata": {},
   "outputs": [
    {
     "name": "stdout",
     "output_type": "stream",
     "text": [
      "Palabras más comunes en descripciones en inglés:\n",
      "vulnerability: 973\n",
      "windows: 635\n",
      "remote: 622\n",
      "code: 561\n",
      "attacker: 528\n",
      "via: 438\n",
      "arbitrary: 429\n",
      "server: 399\n",
      "allows: 397\n",
      "execute: 344\n",
      "crafted: 342\n",
      "could: 333\n",
      "issue: 321\n",
      "versions: 309\n",
      "x: 300\n",
      "cve: 288\n",
      "execution: 287\n",
      "affected: 282\n",
      "attackers: 269\n",
      "allow: 254\n",
      "microsoft: 240\n",
      "system: 217\n",
      "memory: 217\n",
      "may: 216\n",
      "exploit: 213\n",
      "ios: 209\n",
      "user: 206\n",
      "aka: 206\n",
      "access: 205\n",
      "web: 190\n",
      "privilege: 187\n",
      "prior: 185\n",
      "cisco: 180\n",
      "exploited: 166\n",
      "sp2: 165\n",
      "service: 160\n",
      "elevation: 157\n",
      "version: 154\n",
      "unauthenticated: 153\n",
      "file: 152\n",
      "device: 152\n",
      "privileges: 143\n",
      "cause: 143\n",
      "security: 143\n",
      "sp1: 141\n",
      "earlier: 136\n",
      "software: 129\n",
      "corruption: 122\n",
      "office: 114\n",
      "kernel: 111\n"
     ]
    },
    {
     "name": "stderr",
     "output_type": "stream",
     "text": [
      "[nltk_data] Downloading package stopwords to C:\\Users\\MSI-\n",
      "[nltk_data]     Sebas\\AppData\\Roaming\\nltk_data...\n",
      "[nltk_data]   Package stopwords is already up-to-date!\n"
     ]
    },
    {
     "data": {
      "application/vnd.plotly.v1+json": {
       "config": {
        "plotlyServerURL": "https://plot.ly"
       },
       "data": [
        {
         "marker": {
          "color": "skyblue"
         },
         "type": "bar",
         "x": [
          "vulnerability",
          "windows",
          "remote",
          "code",
          "attacker",
          "via",
          "arbitrary",
          "server",
          "allows",
          "execute",
          "crafted",
          "could",
          "issue",
          "versions",
          "x",
          "cve",
          "execution",
          "affected",
          "attackers",
          "allow",
          "microsoft",
          "system",
          "memory",
          "may",
          "exploit",
          "ios",
          "user",
          "aka",
          "access",
          "web",
          "privilege",
          "prior",
          "cisco",
          "exploited",
          "sp2",
          "service",
          "elevation",
          "version",
          "unauthenticated",
          "file",
          "device",
          "privileges",
          "cause",
          "security",
          "sp1",
          "earlier",
          "software",
          "corruption",
          "office",
          "kernel"
         ],
         "y": [
          973,
          635,
          622,
          561,
          528,
          438,
          429,
          399,
          397,
          344,
          342,
          333,
          321,
          309,
          300,
          288,
          287,
          282,
          269,
          254,
          240,
          217,
          217,
          216,
          213,
          209,
          206,
          206,
          205,
          190,
          187,
          185,
          180,
          166,
          165,
          160,
          157,
          154,
          153,
          152,
          152,
          143,
          143,
          143,
          141,
          136,
          129,
          122,
          114,
          111
         ]
        }
       ],
       "layout": {
        "bargap": 0.15,
        "bargroupgap": 0.1,
        "barmode": "group",
        "hovermode": "x",
        "template": {
         "data": {
          "bar": [
           {
            "error_x": {
             "color": "#2a3f5f"
            },
            "error_y": {
             "color": "#2a3f5f"
            },
            "marker": {
             "line": {
              "color": "#E5ECF6",
              "width": 0.5
             },
             "pattern": {
              "fillmode": "overlay",
              "size": 10,
              "solidity": 0.2
             }
            },
            "type": "bar"
           }
          ],
          "barpolar": [
           {
            "marker": {
             "line": {
              "color": "#E5ECF6",
              "width": 0.5
             },
             "pattern": {
              "fillmode": "overlay",
              "size": 10,
              "solidity": 0.2
             }
            },
            "type": "barpolar"
           }
          ],
          "carpet": [
           {
            "aaxis": {
             "endlinecolor": "#2a3f5f",
             "gridcolor": "white",
             "linecolor": "white",
             "minorgridcolor": "white",
             "startlinecolor": "#2a3f5f"
            },
            "baxis": {
             "endlinecolor": "#2a3f5f",
             "gridcolor": "white",
             "linecolor": "white",
             "minorgridcolor": "white",
             "startlinecolor": "#2a3f5f"
            },
            "type": "carpet"
           }
          ],
          "choropleth": [
           {
            "colorbar": {
             "outlinewidth": 0,
             "ticks": ""
            },
            "type": "choropleth"
           }
          ],
          "contour": [
           {
            "colorbar": {
             "outlinewidth": 0,
             "ticks": ""
            },
            "colorscale": [
             [
              0,
              "#0d0887"
             ],
             [
              0.1111111111111111,
              "#46039f"
             ],
             [
              0.2222222222222222,
              "#7201a8"
             ],
             [
              0.3333333333333333,
              "#9c179e"
             ],
             [
              0.4444444444444444,
              "#bd3786"
             ],
             [
              0.5555555555555556,
              "#d8576b"
             ],
             [
              0.6666666666666666,
              "#ed7953"
             ],
             [
              0.7777777777777778,
              "#fb9f3a"
             ],
             [
              0.8888888888888888,
              "#fdca26"
             ],
             [
              1,
              "#f0f921"
             ]
            ],
            "type": "contour"
           }
          ],
          "contourcarpet": [
           {
            "colorbar": {
             "outlinewidth": 0,
             "ticks": ""
            },
            "type": "contourcarpet"
           }
          ],
          "heatmap": [
           {
            "colorbar": {
             "outlinewidth": 0,
             "ticks": ""
            },
            "colorscale": [
             [
              0,
              "#0d0887"
             ],
             [
              0.1111111111111111,
              "#46039f"
             ],
             [
              0.2222222222222222,
              "#7201a8"
             ],
             [
              0.3333333333333333,
              "#9c179e"
             ],
             [
              0.4444444444444444,
              "#bd3786"
             ],
             [
              0.5555555555555556,
              "#d8576b"
             ],
             [
              0.6666666666666666,
              "#ed7953"
             ],
             [
              0.7777777777777778,
              "#fb9f3a"
             ],
             [
              0.8888888888888888,
              "#fdca26"
             ],
             [
              1,
              "#f0f921"
             ]
            ],
            "type": "heatmap"
           }
          ],
          "heatmapgl": [
           {
            "colorbar": {
             "outlinewidth": 0,
             "ticks": ""
            },
            "colorscale": [
             [
              0,
              "#0d0887"
             ],
             [
              0.1111111111111111,
              "#46039f"
             ],
             [
              0.2222222222222222,
              "#7201a8"
             ],
             [
              0.3333333333333333,
              "#9c179e"
             ],
             [
              0.4444444444444444,
              "#bd3786"
             ],
             [
              0.5555555555555556,
              "#d8576b"
             ],
             [
              0.6666666666666666,
              "#ed7953"
             ],
             [
              0.7777777777777778,
              "#fb9f3a"
             ],
             [
              0.8888888888888888,
              "#fdca26"
             ],
             [
              1,
              "#f0f921"
             ]
            ],
            "type": "heatmapgl"
           }
          ],
          "histogram": [
           {
            "marker": {
             "pattern": {
              "fillmode": "overlay",
              "size": 10,
              "solidity": 0.2
             }
            },
            "type": "histogram"
           }
          ],
          "histogram2d": [
           {
            "colorbar": {
             "outlinewidth": 0,
             "ticks": ""
            },
            "colorscale": [
             [
              0,
              "#0d0887"
             ],
             [
              0.1111111111111111,
              "#46039f"
             ],
             [
              0.2222222222222222,
              "#7201a8"
             ],
             [
              0.3333333333333333,
              "#9c179e"
             ],
             [
              0.4444444444444444,
              "#bd3786"
             ],
             [
              0.5555555555555556,
              "#d8576b"
             ],
             [
              0.6666666666666666,
              "#ed7953"
             ],
             [
              0.7777777777777778,
              "#fb9f3a"
             ],
             [
              0.8888888888888888,
              "#fdca26"
             ],
             [
              1,
              "#f0f921"
             ]
            ],
            "type": "histogram2d"
           }
          ],
          "histogram2dcontour": [
           {
            "colorbar": {
             "outlinewidth": 0,
             "ticks": ""
            },
            "colorscale": [
             [
              0,
              "#0d0887"
             ],
             [
              0.1111111111111111,
              "#46039f"
             ],
             [
              0.2222222222222222,
              "#7201a8"
             ],
             [
              0.3333333333333333,
              "#9c179e"
             ],
             [
              0.4444444444444444,
              "#bd3786"
             ],
             [
              0.5555555555555556,
              "#d8576b"
             ],
             [
              0.6666666666666666,
              "#ed7953"
             ],
             [
              0.7777777777777778,
              "#fb9f3a"
             ],
             [
              0.8888888888888888,
              "#fdca26"
             ],
             [
              1,
              "#f0f921"
             ]
            ],
            "type": "histogram2dcontour"
           }
          ],
          "mesh3d": [
           {
            "colorbar": {
             "outlinewidth": 0,
             "ticks": ""
            },
            "type": "mesh3d"
           }
          ],
          "parcoords": [
           {
            "line": {
             "colorbar": {
              "outlinewidth": 0,
              "ticks": ""
             }
            },
            "type": "parcoords"
           }
          ],
          "pie": [
           {
            "automargin": true,
            "type": "pie"
           }
          ],
          "scatter": [
           {
            "fillpattern": {
             "fillmode": "overlay",
             "size": 10,
             "solidity": 0.2
            },
            "type": "scatter"
           }
          ],
          "scatter3d": [
           {
            "line": {
             "colorbar": {
              "outlinewidth": 0,
              "ticks": ""
             }
            },
            "marker": {
             "colorbar": {
              "outlinewidth": 0,
              "ticks": ""
             }
            },
            "type": "scatter3d"
           }
          ],
          "scattercarpet": [
           {
            "marker": {
             "colorbar": {
              "outlinewidth": 0,
              "ticks": ""
             }
            },
            "type": "scattercarpet"
           }
          ],
          "scattergeo": [
           {
            "marker": {
             "colorbar": {
              "outlinewidth": 0,
              "ticks": ""
             }
            },
            "type": "scattergeo"
           }
          ],
          "scattergl": [
           {
            "marker": {
             "colorbar": {
              "outlinewidth": 0,
              "ticks": ""
             }
            },
            "type": "scattergl"
           }
          ],
          "scattermapbox": [
           {
            "marker": {
             "colorbar": {
              "outlinewidth": 0,
              "ticks": ""
             }
            },
            "type": "scattermapbox"
           }
          ],
          "scatterpolar": [
           {
            "marker": {
             "colorbar": {
              "outlinewidth": 0,
              "ticks": ""
             }
            },
            "type": "scatterpolar"
           }
          ],
          "scatterpolargl": [
           {
            "marker": {
             "colorbar": {
              "outlinewidth": 0,
              "ticks": ""
             }
            },
            "type": "scatterpolargl"
           }
          ],
          "scatterternary": [
           {
            "marker": {
             "colorbar": {
              "outlinewidth": 0,
              "ticks": ""
             }
            },
            "type": "scatterternary"
           }
          ],
          "surface": [
           {
            "colorbar": {
             "outlinewidth": 0,
             "ticks": ""
            },
            "colorscale": [
             [
              0,
              "#0d0887"
             ],
             [
              0.1111111111111111,
              "#46039f"
             ],
             [
              0.2222222222222222,
              "#7201a8"
             ],
             [
              0.3333333333333333,
              "#9c179e"
             ],
             [
              0.4444444444444444,
              "#bd3786"
             ],
             [
              0.5555555555555556,
              "#d8576b"
             ],
             [
              0.6666666666666666,
              "#ed7953"
             ],
             [
              0.7777777777777778,
              "#fb9f3a"
             ],
             [
              0.8888888888888888,
              "#fdca26"
             ],
             [
              1,
              "#f0f921"
             ]
            ],
            "type": "surface"
           }
          ],
          "table": [
           {
            "cells": {
             "fill": {
              "color": "#EBF0F8"
             },
             "line": {
              "color": "white"
             }
            },
            "header": {
             "fill": {
              "color": "#C8D4E3"
             },
             "line": {
              "color": "white"
             }
            },
            "type": "table"
           }
          ]
         },
         "layout": {
          "annotationdefaults": {
           "arrowcolor": "#2a3f5f",
           "arrowhead": 0,
           "arrowwidth": 1
          },
          "autotypenumbers": "strict",
          "coloraxis": {
           "colorbar": {
            "outlinewidth": 0,
            "ticks": ""
           }
          },
          "colorscale": {
           "diverging": [
            [
             0,
             "#8e0152"
            ],
            [
             0.1,
             "#c51b7d"
            ],
            [
             0.2,
             "#de77ae"
            ],
            [
             0.3,
             "#f1b6da"
            ],
            [
             0.4,
             "#fde0ef"
            ],
            [
             0.5,
             "#f7f7f7"
            ],
            [
             0.6,
             "#e6f5d0"
            ],
            [
             0.7,
             "#b8e186"
            ],
            [
             0.8,
             "#7fbc41"
            ],
            [
             0.9,
             "#4d9221"
            ],
            [
             1,
             "#276419"
            ]
           ],
           "sequential": [
            [
             0,
             "#0d0887"
            ],
            [
             0.1111111111111111,
             "#46039f"
            ],
            [
             0.2222222222222222,
             "#7201a8"
            ],
            [
             0.3333333333333333,
             "#9c179e"
            ],
            [
             0.4444444444444444,
             "#bd3786"
            ],
            [
             0.5555555555555556,
             "#d8576b"
            ],
            [
             0.6666666666666666,
             "#ed7953"
            ],
            [
             0.7777777777777778,
             "#fb9f3a"
            ],
            [
             0.8888888888888888,
             "#fdca26"
            ],
            [
             1,
             "#f0f921"
            ]
           ],
           "sequentialminus": [
            [
             0,
             "#0d0887"
            ],
            [
             0.1111111111111111,
             "#46039f"
            ],
            [
             0.2222222222222222,
             "#7201a8"
            ],
            [
             0.3333333333333333,
             "#9c179e"
            ],
            [
             0.4444444444444444,
             "#bd3786"
            ],
            [
             0.5555555555555556,
             "#d8576b"
            ],
            [
             0.6666666666666666,
             "#ed7953"
            ],
            [
             0.7777777777777778,
             "#fb9f3a"
            ],
            [
             0.8888888888888888,
             "#fdca26"
            ],
            [
             1,
             "#f0f921"
            ]
           ]
          },
          "colorway": [
           "#636efa",
           "#EF553B",
           "#00cc96",
           "#ab63fa",
           "#FFA15A",
           "#19d3f3",
           "#FF6692",
           "#B6E880",
           "#FF97FF",
           "#FECB52"
          ],
          "font": {
           "color": "#2a3f5f"
          },
          "geo": {
           "bgcolor": "white",
           "lakecolor": "white",
           "landcolor": "#E5ECF6",
           "showlakes": true,
           "showland": true,
           "subunitcolor": "white"
          },
          "hoverlabel": {
           "align": "left"
          },
          "hovermode": "closest",
          "mapbox": {
           "style": "light"
          },
          "paper_bgcolor": "white",
          "plot_bgcolor": "#E5ECF6",
          "polar": {
           "angularaxis": {
            "gridcolor": "white",
            "linecolor": "white",
            "ticks": ""
           },
           "bgcolor": "#E5ECF6",
           "radialaxis": {
            "gridcolor": "white",
            "linecolor": "white",
            "ticks": ""
           }
          },
          "scene": {
           "xaxis": {
            "backgroundcolor": "#E5ECF6",
            "gridcolor": "white",
            "gridwidth": 2,
            "linecolor": "white",
            "showbackground": true,
            "ticks": "",
            "zerolinecolor": "white"
           },
           "yaxis": {
            "backgroundcolor": "#E5ECF6",
            "gridcolor": "white",
            "gridwidth": 2,
            "linecolor": "white",
            "showbackground": true,
            "ticks": "",
            "zerolinecolor": "white"
           },
           "zaxis": {
            "backgroundcolor": "#E5ECF6",
            "gridcolor": "white",
            "gridwidth": 2,
            "linecolor": "white",
            "showbackground": true,
            "ticks": "",
            "zerolinecolor": "white"
           }
          },
          "shapedefaults": {
           "line": {
            "color": "#2a3f5f"
           }
          },
          "ternary": {
           "aaxis": {
            "gridcolor": "white",
            "linecolor": "white",
            "ticks": ""
           },
           "baxis": {
            "gridcolor": "white",
            "linecolor": "white",
            "ticks": ""
           },
           "bgcolor": "#E5ECF6",
           "caxis": {
            "gridcolor": "white",
            "linecolor": "white",
            "ticks": ""
           }
          },
          "title": {
           "x": 0.05
          },
          "xaxis": {
           "automargin": true,
           "gridcolor": "white",
           "linecolor": "white",
           "ticks": "",
           "title": {
            "standoff": 15
           },
           "zerolinecolor": "white",
           "zerolinewidth": 2
          },
          "yaxis": {
           "automargin": true,
           "gridcolor": "white",
           "linecolor": "white",
           "ticks": "",
           "title": {
            "standoff": 15
           },
           "zerolinecolor": "white",
           "zerolinewidth": 2
          }
         }
        },
        "title": {
         "text": "10 Palabras más comunes en las descripciones en inglés"
        },
        "xaxis": {
         "title": {
          "text": "Palabras clave"
         }
        },
        "yaxis": {
         "title": {
          "text": "Frecuencia"
         }
        }
       }
      }
     },
     "metadata": {},
     "output_type": "display_data"
    }
   ],
   "source": [
    "from collections import Counter\n",
    "import re\n",
    "import matplotlib.pyplot as plt\n",
    "from nltk.corpus import stopwords\n",
    "import plotly.graph_objects as go\n",
    "\n",
    "# Descargar stopwords de NLTK si no las tienes\n",
    "import nltk\n",
    "nltk.download('stopwords')\n",
    "\n",
    "# Obtener las stopwords en inglés\n",
    "stop_words = set(stopwords.words('english'))\n",
    "\n",
    "# Función para contar palabras en las descripciones excluyendo stop words y números\n",
    "def word_frequency(descriptions):\n",
    "    words = []\n",
    "    for desc in descriptions:\n",
    "        if desc:  # Evitar descripciones nulas\n",
    "            # Extraer palabras, evitar números y convertir todo a minúsculas\n",
    "            filtered_words = [word for word in re.findall(r'\\w+', desc.lower()) \n",
    "                              if word not in stop_words and not word.isdigit()]\n",
    "            words.extend(filtered_words)\n",
    "    return Counter(words)\n",
    "\n",
    "# Analizar frecuencia de palabras en las descripciones en inglés\n",
    "en_word_freq = word_frequency(data['description_en'])\n",
    "\n",
    "# Obtener las 10 palabras más comunes\n",
    "common_words = en_word_freq.most_common(50)\n",
    "\n",
    "# Mostrar las palabras más comunes\n",
    "print(\"Palabras más comunes en descripciones en inglés:\")\n",
    "for word, freq in common_words:\n",
    "    print(f\"{word}: {freq}\")\n",
    "\n",
    "# Extraer palabras y frecuencias para el gráfico\n",
    "words, frequencies = zip(*common_words)\n",
    "\n",
    "\n",
    "\n",
    "# Crear gráfico interactivo de barras con Plotly\n",
    "fig = go.Figure(data=[go.Bar(x=words, y=frequencies, marker_color='skyblue')])\n",
    "\n",
    "fig.update_layout(\n",
    "    title='10 Palabras más comunes en las descripciones en inglés',\n",
    "    xaxis=dict(title='Palabras clave'),\n",
    "    yaxis=dict(title='Frecuencia'),\n",
    "    hovermode='x',  # Mostrar leyenda al pasar el puntero por la barra\n",
    "    barmode='group',\n",
    "    bargap=0.15,\n",
    "    bargroupgap=0.1\n",
    ")\n",
    "\n",
    "fig.show()\n",
    "\n",
    "\n"
   ]
  },
  {
   "cell_type": "markdown",
   "metadata": {},
   "source": [
    "## Métricas CVSS\n",
    "\n",
    "El Sistema de Puntuación de Vulnerabilidades Común (CVSS) es un marco abierto diseñado para comunicar las características y la gravedad de las vulnerabilidades en el software. CVSS se compone de cuatro grupos de métricas: Base, Amenaza, Ambiental y Suplementaria. Estas métricas son proporcionadas por la API de la NVD (National Vulnerability Database) y se presentan en diferentes versiones, siendo CVSSv2 y CVSSv3.1 las más comunes al trabajar con la API de vulnerabilidades del NIST.\n",
    "\n",
    "### a. Puntuación de Explotabilidad\n",
    "\n",
    "Esta métrica evalúa el estado actual de las técnicas de explotación o la disponibilidad del código de explotación. La disponibilidad pública de código de explotación fácil de usar incrementa el número de posibles atacantes, incluyendo aquellos sin habilidades especializadas, lo que aumenta la gravedad de la vulnerabilidad."
   ]
  },
  {
   "cell_type": "code",
   "execution_count": 9,
   "metadata": {},
   "outputs": [
    {
     "name": "stdout",
     "output_type": "stream",
     "text": [
      "Resumen estadístico de Exploitability Score (v3.1 vs v2.0):\n",
      "count    920.000000\n",
      "mean       5.137283\n",
      "std        1.717969\n",
      "min        0.000000\n",
      "25%        4.700000\n",
      "50%        6.100000\n",
      "75%        6.100000\n",
      "max        7.900000\n",
      "Name: difference, dtype: float64\n",
      "\n",
      "\n"
     ]
    },
    {
     "data": {
      "image/png": "[encoded data removed]",
      "text/plain": [
       "<Figure size 1000x600 with 1 Axes>"
      ]
     },
     "metadata": {},
     "output_type": "display_data"
    },
    {
     "name": "stdout",
     "output_type": "stream",
     "text": [
      "Resumen estadístico de Impact Score (v3.1 vs v2.0):\n",
      "count    920.000000\n",
      "mean       2.116413\n",
      "std        1.977639\n",
      "min       -3.100000\n",
      "25%        0.500000\n",
      "50%        2.400000\n",
      "75%        4.100000\n",
      "max        6.400000\n",
      "Name: difference, dtype: float64\n",
      "\n",
      "\n"
     ]
    },
    {
     "data": {
      "image/png": "[encoded data removed]",
      "text/plain": [
       "<Figure size 1000x600 with 1 Axes>"
      ]
     },
     "metadata": {},
     "output_type": "display_data"
    },
    {
     "name": "stdout",
     "output_type": "stream",
     "text": [
      "Resumen estadístico de Base Score (v3.1 vs v2.0):\n",
      "count    920.000000\n",
      "mean      -1.033804\n",
      "std        1.511853\n",
      "min       -5.700000\n",
      "25%       -2.300000\n",
      "50%       -0.800000\n",
      "75%        0.200000\n",
      "max        3.800000\n",
      "Name: difference, dtype: float64\n",
      "\n",
      "\n"
     ]
    },
    {
     "data": {
      "image/png": "[encoded data removed]",
      "text/plain": [
       "<Figure size 1000x600 with 1 Axes>"
      ]
     },
     "metadata": {},
     "output_type": "display_data"
    },
    {
     "name": "stdout",
     "output_type": "stream",
     "text": [
      "Resumen estadístico de Base Severity (v3.1 vs v2.0):\n",
      "count    920.000000\n",
      "mean       1.545978\n",
      "std        1.577448\n",
      "min       -3.900000\n",
      "25%        0.000000\n",
      "50%        2.000000\n",
      "75%        3.000000\n",
      "max        7.000000\n",
      "Name: difference, dtype: float64\n",
      "\n",
      "\n"
     ]
    },
    {
     "data": {
      "image/png": "[encoded data removed]",
      "text/plain": [
       "<Figure size 1000x600 with 1 Axes>"
      ]
     },
     "metadata": {},
     "output_type": "display_data"
    }
   ],
   "source": [
    "import seaborn as sns\n",
    "\n",
    "conn = mysql.connector.connect(**db_config)\n",
    "cursor = conn.cursor()\n",
    "\n",
    "# Consultas para cada tipo de score\n",
    "queries = {\n",
    "    'Exploitability Score': \"\"\"\n",
    "        SELECT\n",
    "            cve_data.id AS cve_id,\n",
    "            cvss_v31.exploitabilityScore AS exploitability_v31,\n",
    "            cvss_v2.exploitabilityScore AS exploitability_v2\n",
    "        FROM\n",
    "            cve_data\n",
    "        JOIN\n",
    "            cvss_metrics_v31 AS cvss_v31 ON cve_data.id = cvss_v31.cve_id\n",
    "        JOIN\n",
    "            cvss_metrics_v2 AS cvss_v2 ON cve_data.id = cvss_v2.cve_id;\n",
    "    \"\"\",\n",
    "    'Impact Score': \"\"\"\n",
    "        SELECT\n",
    "            cve_data.id AS cve_id,\n",
    "            cvss_v31.impactScore AS impact_v31,\n",
    "            cvss_v2.impactScore AS impact_v2\n",
    "        FROM\n",
    "            cve_data\n",
    "        JOIN\n",
    "            cvss_metrics_v31 AS cvss_v31 ON cve_data.id = cvss_v31.cve_id\n",
    "        JOIN\n",
    "            cvss_metrics_v2 AS cvss_v2 ON cve_data.id = cvss_v2.cve_id;\n",
    "    \"\"\",\n",
    "    'Base Score': \"\"\"\n",
    "        SELECT\n",
    "            cve_data.id AS cve_id,\n",
    "            cvss_v31.baseScore AS base_score_v31,\n",
    "            cvss_v2.baseScore AS base_score_v2\n",
    "        FROM\n",
    "            cve_data\n",
    "        JOIN\n",
    "            cvss_metrics_v31 AS cvss_v31 ON cve_data.id = cvss_v31.cve_id\n",
    "        JOIN\n",
    "            cvss_metrics_v2 AS cvss_v2 ON cve_data.id = cvss_v2.cve_id;\n",
    "    \"\"\",\n",
    "    'Base Severity': \"\"\"\n",
    "        SELECT\n",
    "            cve_data.id AS cve_id,\n",
    "            cvss_v31.baseSeverity AS base_severity_v31,\n",
    "            cvss_v2.baseSeverity AS base_severity_v2\n",
    "        FROM\n",
    "            cve_data\n",
    "        JOIN\n",
    "            cvss_metrics_v31 AS cvss_v31 ON cve_data.id = cvss_v31.cve_id\n",
    "        JOIN\n",
    "            cvss_metrics_v2 AS cvss_v2 ON cve_data.id = cvss_v2.cve_id;\n",
    "    \"\"\"\n",
    "}\n",
    "\n",
    "# Función para ejecutar consulta y analizar diferencias\n",
    "def analyze_scores(query, title, severity_map_v2=None, severity_map_v31=None):\n",
    "    cursor = conn.cursor()\n",
    "    cursor.execute(query)\n",
    "    results = cursor.fetchall()\n",
    "    columns = [col.split(' AS ')[1].strip() for col in query.split('SELECT')[1].split('FROM')[0].split(',')]\n",
    "\n",
    "    df = pd.DataFrame(results, columns=columns)\n",
    "    cursor.close()\n",
    "    \n",
    "    if title == 'Base Severity':\n",
    "        # Verificar si las columnas existen en el DataFrame\n",
    "        if 'base_severity_v2' in df.columns and 'base_severity_v31' in df.columns:\n",
    "            # Mapear severidades a puntuaciones numéricas\n",
    "            severity_map_v2 = {\n",
    "                'NONE': 0.0,\n",
    "                'LOW': 0.0,\n",
    "                'MEDIUM': 4.0,\n",
    "                'HIGH': 7.0\n",
    "            }\n",
    "\n",
    "            severity_map_v31 = {\n",
    "                'NONE': 0.0,\n",
    "                'LOW': 0.1,\n",
    "                'MEDIUM': 4.0,\n",
    "                'HIGH': 7.0,\n",
    "                'CRITICAL': 9.0\n",
    "            }\n",
    "            df['base_severity_v2'] = df['base_severity_v2'].map(severity_map_v2)\n",
    "            df['base_severity_v31'] = df['base_severity_v31'].map(severity_map_v31)\n",
    "            df['difference'] = df['base_severity_v31'] - df['base_severity_v2']\n",
    "        else:\n",
    "            print(f\"Las columnas 'base_severity_v2' o 'base_severity_v31' no están en el DataFrame para {title}.\")\n",
    "            return\n",
    "    else:\n",
    "        # Convertir columnas a float y manejar errores\n",
    "        df[columns[1]] = pd.to_numeric(df[columns[1]], errors='coerce')\n",
    "        df[columns[2]] = pd.to_numeric(df[columns[2]], errors='coerce')\n",
    "        # Calcular diferencias\n",
    "        df['difference'] = df[columns[2]] - df[columns[1]]\n",
    "    \n",
    "    # Imprimir el resumen estadístico de las diferencias\n",
    "    print(f\"Resumen estadístico de {title} (v3.1 vs v2.0):\")\n",
    "    print(df['difference'].describe())\n",
    "    print(\"\\n\")\n",
    "    \n",
    "    # Visualizar la distribución de las diferencias\n",
    "    plt.figure(figsize=(10, 6))\n",
    "    sns.histplot(df['difference'], kde=True)\n",
    "    plt.title(f\"Distribución de las diferencias entre {title} (v3.1 vs v2.0)\")\n",
    "    plt.xlabel(f\"Diferencia de {title} (v3.1 - v2.0)\")\n",
    "    plt.ylabel(\"Frecuencia\")\n",
    "    plt.show()\n",
    "\n",
    "# Ejecutar análisis para todos los scores\n",
    "for title, query in queries.items():\n",
    "    analyze_scores(query, title)\n",
    "\n",
    "# Cerrar la conexión\n",
    "conn.close()"
   ]
  },
  {
   "cell_type": "markdown",
   "metadata": {},
   "source": [
    "### Calificaciones de CVSS v2.0\n",
    "\n",
    "| Severidad | Rango de puntuación de gravedad |\n",
    "|-----------|---------------------------------|\n",
    "| Ninguno*  | 0.0                             |\n",
    "| Bajo      | 0.0-3.9                         |\n",
    "| Medio     | 4.0-6.9                         |\n",
    "| Alto      | 7.0-10.0                        |\n",
    "\n",
    "### Calificaciones de CVSS v3.x\n",
    "\n",
    "| Severidad | Rango de puntuación de gravedad |\n",
    "|-----------|---------------------------------|\n",
    "| Ninguno*  | 0.0                             |\n",
    "| Bajo      | 0.1-3.9                         |\n",
    "| Medio     | 4.0-6.9                         |\n",
    "| Alto      | 7.0-8.9                         |\n",
    "| Crítico   | 9.0-10.0                        |\n",
    "\n",
    "La gráfica del Exploitability Score presenta dos picos notables en los valores de diferencia de 2 y 6. Esto sugiere que, en muchas vulnerabilidades, la discrepancia entre los exploitability scores de CVSS v3.1 y v2.0 suele rondar entre 2 y 6 puntos. Para el Impact Score, las diferencias se concentran en torno a 0 y 4 puntos. En cuanto al Base Score, las diferencias oscilan entre -3 y 0, siendo este valor negativo posiblemente debido a ajustes en la ponderación de ciertos factores en CVSS v3.1... Por último, en el Base Severity, las diferencias se encuentran entre 0 y 3 puntos, reflejando un ajuste más moderado entre ambas versiones.\n",
    "\n",
    "Además, la mayoría de los datos están concentrados en el lado positivo del eje X, lo que sugiere que CVSS v2.0 generalmente tiene puntuaciones de explotabilidad, impacto y base severuty más altas que CVSS v3.1. Esto significa que, en general, CVSS v3.1 reduce los enfasis en las metricas en comparación con CVSS v2.0. Esta reducción podría deberse a que CVSS v3.1 toma en cuenta más factores o ajusta los pesos para ciertos atributos en su cálculo.\n",
    "\n",
    "La gráfica de Base Score muestra dos picos significativos alrededor de los valores -2 y 0, lo que sugiere que existen dos grupos de vulnerabilidades: uno donde el score de CVSS v3.1 es menor que el de v2.0, y otro donde ambos scores son prácticamente iguales. Esto sugiere que, para muchas vulnerabilidades, no hay grandes cambios entre ambas versiones.Además, la gráfica es asimétrica, con una cola hacia la izquierda (diferencias negativas), indicando que, en algunos casos, CVSS v3.1 tiende a asignar scores más bajos que v2.0. Las diferencias negativas más pronunciadas alcanzan valores cercanos a -5, aunque no son muy frecuentes, lo que podría estar relacionado con ajustes en cómo CVSS v3.1 pondera ciertos factores de riesgo comparado con v2.0.\n",
    "\n",
    "En resumen, las diferencias observadas sugieren un ajuste en la evaluación del riesgo de las vulnerabilidades entre las dos versiones, con CVSS v3.1 mostrando un enfoque más moderado. Las vulnerabilidades con grandes diferencias deberían ser analizadas individualmente para entender qué cambios específicos están afectando sus puntajes."
   ]
  },
  {
   "cell_type": "markdown",
   "metadata": {},
   "source": [
    "# Vector String en CVE de NIST\n",
    "\n",
    "El vectorString en el contexto de CVEs (Common Vulnerabilities and Exposures) se refiere a la representación textual del vector de ataque de una vulnerabilidad según el sistema de puntuación CVSS (Common Vulnerability Scoring System).\n",
    "\n",
    "## CVSS v2\n",
    "\n",
    "El vector string en CVSS v2 incluye las siguientes métricas:\n",
    "\n",
    "- **AV (Access Vector)**: Tipo de acceso necesario\n",
    "  - Network\n",
    "  - Local\n",
    "  - Adjacent Network\n",
    "\n",
    "- **AC (Access Complexity)**: Complejidad del acceso\n",
    "  - Low\n",
    "  - High\n",
    "\n",
    "- **Au (Authentication)**: Número de autenticaciones necesarias\n",
    "  - None\n",
    "  - Single\n",
    "  - Multiple\n",
    "\n",
    "- **C (Confidentiality Impact)**: Impacto en la confidencialidad\n",
    "  - None\n",
    "  - Partial\n",
    "  - Complete\n",
    "\n",
    "- **I (Integrity Impact)**: Impacto en la integridad\n",
    "  - None\n",
    "  - Partial\n",
    "  - Complete\n",
    "\n",
    "- **A (Availability Impact)**: Impacto en la disponibilidad\n",
    "  - None\n",
    "  - Partial\n",
    "  - Complete\n",
    "\n",
    "## CVSS v3.1\n",
    "\n",
    "El vector string en CVSS v3.1 incluye las siguientes métricas:\n",
    "\n",
    "- **AV (Attack Vector)**: Tipo de acceso necesario\n",
    "  - Network\n",
    "  - Adjacent Network\n",
    "  - Local\n",
    "  - Physical\n",
    "\n",
    "- **AC (Attack Complexity)**: Complejidad del ataque\n",
    "  - Low\n",
    "  - High\n",
    "\n",
    "- **PR (Privileges Required)**: Privilegios requeridos\n",
    "  - None\n",
    "  - Low\n",
    "  - High\n",
    "\n",
    "- **UI (User Interaction)**: Requiere interacción del usuario\n",
    "  - None\n",
    "  - Required\n",
    "\n",
    "- **S (Scope)**: Cambia el alcance\n",
    "  - Unchanged\n",
    "  - Changed\n",
    "\n",
    "- **C (Confidentiality Impact)**: Impacto en la confidencialidad\n",
    "  - None\n",
    "  - Low\n",
    "  - High\n",
    "\n",
    "- **I (Integrity Impact)**: Impacto en la integridad\n",
    "  - None\n",
    "  - Low\n",
    "  - High\n",
    "\n",
    "- **A (Availability Impact)**: Impacto en la disponibilidad\n",
    "  - None\n",
    "  - Low\n",
    "  - High\n",
    "\n",
    "El vector string resume las características clave de una vulnerabilidad de forma compacta, facilitando su evaluación y comparación. A partir de él, se obtienen valores como el CVSS Base Score, el Impact Subscore y el Exploitability Subscore, que ayudan a cuantificar la gravedad y la facilidad de explotación de la vulnerabilidad."
   ]
  },
  {
   "cell_type": "code",
   "execution_count": 10,
   "metadata": {},
   "outputs": [],
   "source": [
    "conn = mysql.connector.connect(**db_config)\n",
    "cursor = conn.cursor()\n",
    "\n",
    "# Define la consulta SQL\n",
    "query = \"\"\"\n",
    "SELECT cve_id, vectorString, baseScore, impactScore, exploitabilityScore\n",
    "FROM cvss_metrics_v31\n",
    "\n",
    "LIMIT 3\n",
    "\"\"\"\n",
    "\n",
    "# Ejecutar la consulta\n",
    "cursor.execute(query)\n",
    "\n",
    "# Recuperar los resultados\n",
    "results = cursor.fetchall()\n",
    "\n",
    "# Cerrar la conexión\n",
    "cursor.close()\n",
    "conn.close()"
   ]
  },
  {
   "cell_type": "code",
   "execution_count": 11,
   "metadata": {},
   "outputs": [
    {
     "name": "stdout",
     "output_type": "stream",
     "text": [
      "CVE ID: CVE-2021-27104\n",
      "Vector String: CVSS:3.1/AV:N/AC:L/PR:N/UI:N/S:U/C:H/I:H/A:H\n",
      "Base Score (calculated): 9.8\n",
      "Exploitability (calculated): 3.8870427750000003\n",
      "Impact Score (calculated): 5.873118720000001\n",
      "Base Score (from database): 9.8\n",
      "Exploitability (from database): 3.9\n",
      "Impact Score (from database): 5.9\n",
      "\n",
      "CVE ID: CVE-2021-27102\n",
      "Vector String: CVSS:3.1/AV:L/AC:L/PR:L/UI:N/S:U/C:H/I:H/A:H\n",
      "Base Score (calculated): 7.8\n",
      "Exploitability (calculated): 1.8345765900000002\n",
      "Impact Score (calculated): 5.873118720000001\n",
      "Base Score (from database): 7.8\n",
      "Exploitability (from database): 1.8\n",
      "Impact Score (from database): 5.9\n",
      "\n",
      "CVE ID: CVE-2021-27101\n",
      "Vector String: CVSS:3.1/AV:N/AC:L/PR:N/UI:N/S:U/C:H/I:H/A:H\n",
      "Base Score (calculated): 9.8\n",
      "Exploitability (calculated): 3.8870427750000003\n",
      "Impact Score (calculated): 5.873118720000001\n",
      "Base Score (from database): 9.8\n",
      "Exploitability (from database): 3.9\n",
      "Impact Score (from database): 5.9\n",
      "\n"
     ]
    }
   ],
   "source": [
    "\n",
    "import math\n",
    "\n",
    "# Define the weights as constants\n",
    "WEIGHTS = {\n",
    "    'AV': {'N': 0.85, 'A': 0.62, 'L': 0.55, 'P': 0.2},\n",
    "    'AC': {'H': 0.44, 'L': 0.77},\n",
    "    'PR': {'U': {'N': 0.85, 'L': 0.62, 'H': 0.27}, 'C': {'N': 0.85, 'L': 0.68, 'H': 0.5}},\n",
    "    'UI': {'N': 0.85, 'R': 0.62},\n",
    "    'S': {'U': 6.42, 'C': 7.52},\n",
    "    'CIA': {'N': 0, 'L': 0.22, 'H': 0.56},\n",
    "    'E': {'X': 1, 'U': 0.91, 'P': 0.94, 'F': 0.97, 'H': 1},\n",
    "    'RL': {'X': 1, 'O': 0.95, 'T': 0.96, 'W': 0.97, 'U': 1},\n",
    "    'RC': {'X': 1, 'U': 0.92, 'R': 0.96, 'C': 1},\n",
    "    'CIAR': {'X': 1, 'L': 0.5, 'M': 1, 'H': 1.5}\n",
    "}\n",
    "\n",
    "def parse_vector_string(vector_string):\n",
    "    \"\"\"Parse the CVSS vector string into a dictionary of metrics.\"\"\"\n",
    "    metrics = {}\n",
    "    for part in vector_string.split('/'):\n",
    "        key, value = part.split(':')\n",
    "        metrics[key] = value\n",
    "    return metrics\n",
    "\n",
    "def round_up1(value):\n",
    "    \"\"\"Round up to the nearest 0.1\"\"\"\n",
    "    return math.ceil(value * 10) / 10.0\n",
    "\n",
    "def calculate_cvss_v3_1(vector_string):\n",
    "    \"\"\"\n",
    "    Calculate the CVSS Base Score, Exploitability, and Impact Score based on the given vector string.\n",
    "\n",
    "    Parameters:\n",
    "    - vector_string (str): The CVSS vector string.\n",
    "\n",
    "    Returns:\n",
    "    - tuple: (Base Score, Exploitability, Impact Score)\n",
    "    \"\"\"\n",
    "    # Parse the vector string\n",
    "    metrics = parse_vector_string(vector_string)\n",
    "    \n",
    "    # Extract the metric weights\n",
    "    metricWeightAV = WEIGHTS['AV'][metrics['AV']]\n",
    "    metricWeightAC = WEIGHTS['AC'][metrics['AC']]\n",
    "    metricWeightPR = WEIGHTS['PR'][metrics['S']][metrics['PR']]\n",
    "    metricWeightUI = WEIGHTS['UI'][metrics['UI']]\n",
    "    metricWeightC = WEIGHTS['CIA'][metrics['C']]\n",
    "    metricWeightI = WEIGHTS['CIA'][metrics['I']]\n",
    "    metricWeightA = WEIGHTS['CIA'][metrics['A']]\n",
    "    metricWeightS = WEIGHTS['S'][metrics['S']]\n",
    "    \n",
    "    # Calculate Impact Sub-Score (ISS)\n",
    "    iss = 1 - ((1 - metricWeightC) * (1 - metricWeightI) * (1 - metricWeightA))\n",
    "    \n",
    "    # Calculate Impact Score\n",
    "    if metrics['S'] == 'U':\n",
    "        impact_score = metricWeightS * iss\n",
    "    else:\n",
    "        impact_score = metricWeightS * (iss - 0.029) - 3.25 * math.pow(iss - 0.02, 15)\n",
    "    \n",
    "    # Calculate Exploitability\n",
    "    exploitability = 8.22 * metricWeightAV * metricWeightAC * metricWeightPR * metricWeightUI\n",
    "    \n",
    "    # Calculate Base Score\n",
    "    if impact_score <= 0:\n",
    "        base_score = 0\n",
    "    else:\n",
    "        if metrics['S'] == 'U':\n",
    "            base_score = round_up1(min((exploitability + impact_score), 10))\n",
    "        else:\n",
    "            base_score = round_up1(min(WEIGHTS['CIAR']['H'] * (exploitability + impact_score), 10))\n",
    "    \n",
    "    return base_score, exploitability, impact_score\n",
    "\n",
    "\n",
    "\n",
    "# Process and print the results\n",
    "for row in results:\n",
    "    cve_id, vector_string, base_score, impact_score,exploitability_score = row\n",
    "    # Calculate the values using the vectorString\n",
    "    calculated_base_score, calculated_exploitability, calculated_impact_score = calculate_cvss_v3_1(vector_string)\n",
    "    \n",
    "    # Print results\n",
    "    print(f\"CVE ID: {cve_id}\")\n",
    "    print(f\"Vector String: {vector_string}\")\n",
    "    print(f\"Base Score (calculated): {calculated_base_score}\")\n",
    "    print(f\"Exploitability (calculated): {calculated_exploitability}\")\n",
    "    print(f\"Impact Score (calculated): {calculated_impact_score}\")\n",
    "    print(f\"Base Score (from database): {base_score}\")\n",
    "    print(f\"Exploitability (from database): {exploitability_score}\")\n",
    "    print(f\"Impact Score (from database): {impact_score}\")\n",
    "\n",
    "    print()\n",
    "\n",
    "# Close the connection\n",
    "cursor.close()\n",
    "conn.close()\n",
    "\n"
   ]
  },
  {
   "cell_type": "markdown",
   "metadata": {},
   "source": [
    "## Conclusión del Análisis\n",
    "\n",
    "En el análisis del sistema CVSS, el **Vector String** emerge como un componente crucial para el cálculo del **Impact Score**, la **Explotabilidad** y el **Puntaje Base**. Al consolidar las características específicas de una vulnerabilidad en un formato estandarizado, el Vector String permite una evaluación uniforme y objetiva del riesgo asociado.\n",
    "\n",
    "Esta estandarización facilita la comparación y priorización de vulnerabilidades, proporcionando una base sólida para la toma de decisiones informadas respecto a las medidas de mitigación. La capacidad del Vector String para encapsular diversos factores de riesgo asegura que las evaluaciones sean coherentes y precisas, optimizando así el proceso de gestión de vulnerabilidades y fortaleciendo la seguridad general del sistema.\n",
    "\n"
   ]
  },
  {
   "cell_type": "code",
   "execution_count": 12,
   "metadata": {},
   "outputs": [
    {
     "data": {
      "application/vnd.plotly.v1+json": {
       "config": {
        "plotlyServerURL": "https://plot.ly"
       },
       "data": [
        {
         "line": {
          "smoothing": 0.3
         },
         "mode": "lines+markers",
         "name": "NVD-CWE-noinfo",
         "type": "scatter",
         "x": [
          2002,
          2004,
          2005,
          2006,
          2007,
          2008,
          2009,
          2010,
          2011,
          2012,
          2013,
          2014,
          2015,
          2016,
          2017,
          2018,
          2019,
          2020,
          2021,
          2022,
          2023,
          2024
         ],
         "y": [
          1,
          1,
          1,
          1,
          1,
          2,
          2,
          9,
          3,
          9,
          8,
          10,
          12,
          24,
          33,
          17,
          28,
          10,
          26,
          12,
          27,
          7
         ]
        },
        {
         "line": {
          "smoothing": 0.3
         },
         "mode": "lines+markers",
         "name": "CWE-120",
         "type": "scatter",
         "x": [
          2004,
          2006,
          2007,
          2010,
          2013,
          2016,
          2017,
          2018,
          2019,
          2020,
          2021,
          2023
         ],
         "y": [
          1,
          1,
          1,
          1,
          2,
          3,
          2,
          1,
          1,
          1,
          1,
          5
         ]
        },
        {
         "line": {
          "smoothing": 0.3
         },
         "mode": "lines+markers",
         "name": "CWE-787",
         "type": "scatter",
         "x": [
          2008,
          2009,
          2010,
          2011,
          2012,
          2013,
          2014,
          2015,
          2016,
          2017,
          2018,
          2019,
          2020,
          2021,
          2022,
          2023,
          2024
         ],
         "y": [
          1,
          4,
          5,
          1,
          3,
          3,
          2,
          9,
          5,
          3,
          10,
          8,
          22,
          22,
          16,
          16,
          10
         ]
        },
        {
         "line": {
          "smoothing": 0.3
         },
         "mode": "lines+markers",
         "name": "CWE-20",
         "type": "scatter",
         "x": [
          2009,
          2012,
          2013,
          2015,
          2017,
          2018,
          2019,
          2020,
          2021,
          2022,
          2023,
          2024
         ],
         "y": [
          2,
          2,
          2,
          1,
          8,
          16,
          4,
          7,
          9,
          5,
          6,
          2
         ]
        },
        {
         "line": {
          "smoothing": 0.3
         },
         "mode": "lines+markers",
         "name": "CWE-416",
         "type": "scatter",
         "x": [
          2009,
          2013,
          2014,
          2015,
          2016,
          2017,
          2018,
          2019,
          2020,
          2021,
          2022,
          2023,
          2024
         ],
         "y": [
          1,
          3,
          2,
          4,
          4,
          2,
          2,
          8,
          5,
          25,
          8,
          15,
          6
         ]
        },
        {
         "line": {
          "smoothing": 0.3
         },
         "mode": "lines+markers",
         "name": "CWE-94",
         "type": "scatter",
         "x": [
          2009,
          2012,
          2013,
          2014,
          2015,
          2017,
          2018,
          2019,
          2020,
          2021,
          2022,
          2023,
          2024
         ],
         "y": [
          2,
          1,
          2,
          2,
          1,
          2,
          3,
          6,
          5,
          7,
          7,
          10,
          5
         ]
        },
        {
         "line": {
          "smoothing": 0.3
         },
         "mode": "lines+markers",
         "name": "CWE-1284",
         "type": "scatter",
         "x": [
          2010,
          2022
         ],
         "y": [
          1,
          1
         ]
        },
        {
         "line": {
          "smoothing": 0.3
         },
         "mode": "lines+markers",
         "name": "CWE-22",
         "type": "scatter",
         "x": [
          2010,
          2013,
          2014,
          2015,
          2016,
          2018,
          2019,
          2020,
          2021,
          2022,
          2023
         ],
         "y": [
          1,
          1,
          2,
          4,
          2,
          7,
          10,
          11,
          12,
          9,
          5
         ]
        },
        {
         "line": {
          "smoothing": 0.3
         },
         "mode": "lines+markers",
         "name": "CWE-77",
         "type": "scatter",
         "x": [
          2010,
          2015,
          2016,
          2018,
          2019,
          2020,
          2021,
          2022,
          2023,
          2024
         ],
         "y": [
          1,
          2,
          3,
          2,
          1,
          2,
          3,
          1,
          4,
          4
         ]
        },
        {
         "line": {
          "smoothing": 0.3
         },
         "mode": "lines+markers",
         "name": "CWE-917",
         "type": "scatter",
         "x": [
          2010,
          2020,
          2021,
          2022
         ],
         "y": [
          1,
          2,
          4,
          3
         ]
        },
        {
         "line": {
          "smoothing": 0.3
         },
         "mode": "lines+markers",
         "name": "CWE-119",
         "type": "scatter",
         "x": [
          2011,
          2012,
          2013,
          2014,
          2015,
          2016,
          2017,
          2018,
          2019,
          2020,
          2021,
          2022,
          2023
         ],
         "y": [
          1,
          1,
          3,
          2,
          3,
          1,
          22,
          7,
          3,
          3,
          6,
          1,
          5
         ]
        },
        {
         "line": {
          "smoothing": 0.3
         },
         "mode": "lines+markers",
         "name": "CWE-190",
         "type": "scatter",
         "x": [
          2011,
          2012,
          2013,
          2015,
          2016,
          2018,
          2021,
          2023
         ],
         "y": [
          1,
          1,
          2,
          1,
          1,
          1,
          2,
          7
         ]
        },
        {
         "line": {
          "smoothing": 0.3
         },
         "mode": "lines+markers",
         "name": "CWE-310",
         "type": "scatter",
         "x": [
          2011
         ],
         "y": [
          1
         ]
        },
        {
         "line": {
          "smoothing": 0.3
         },
         "mode": "lines+markers",
         "name": "CWE-843",
         "type": "scatter",
         "x": [
          2011,
          2016,
          2017,
          2018,
          2019,
          2020,
          2021,
          2022,
          2023,
          2024
         ],
         "y": [
          2,
          1,
          4,
          1,
          4,
          3,
          5,
          6,
          6,
          5
         ]
        },
        {
         "line": {
          "smoothing": 0.3
         },
         "mode": "lines+markers",
         "name": "CWE-601",
         "type": "scatter",
         "x": [
          2012,
          2021
         ],
         "y": [
          1,
          1
         ]
        },
        {
         "line": {
          "smoothing": 0.3
         },
         "mode": "lines+markers",
         "name": "CWE-79",
         "type": "scatter",
         "x": [
          2012,
          2013,
          2018,
          2019,
          2020,
          2021,
          2022,
          2023
         ],
         "y": [
          1,
          1,
          5,
          4,
          3,
          1,
          1,
          5
         ]
        },
        {
         "line": {
          "smoothing": 0.3
         },
         "mode": "lines+markers",
         "name": "NVD-CWE-Other",
         "type": "scatter",
         "x": [
          2012,
          2014,
          2020,
          2021,
          2022,
          2023,
          2024
         ],
         "y": [
          1,
          1,
          9,
          20,
          8,
          9,
          3
         ]
        },
        {
         "line": {
          "smoothing": 0.3
         },
         "mode": "lines+markers",
         "name": "CWE-189",
         "type": "scatter",
         "x": [
          2013
         ],
         "y": [
          1
         ]
        },
        {
         "line": {
          "smoothing": 0.3
         },
         "mode": "lines+markers",
         "name": "CWE-200",
         "type": "scatter",
         "x": [
          2013,
          2015,
          2016,
          2019,
          2020,
          2021,
          2022,
          2023,
          2024
         ],
         "y": [
          1,
          1,
          2,
          1,
          1,
          1,
          1,
          3,
          1
         ]
        },
        {
         "line": {
          "smoothing": 0.3
         },
         "mode": "lines+markers",
         "name": "CWE-264",
         "type": "scatter",
         "x": [
          2013,
          2015,
          2016
         ],
         "y": [
          1,
          2,
          1
         ]
        },
        {
         "line": {
          "smoothing": 0.3
         },
         "mode": "lines+markers",
         "name": "CWE-276",
         "type": "scatter",
         "x": [
          2013
         ],
         "y": [
          1
         ]
        },
        {
         "line": {
          "smoothing": 0.3
         },
         "mode": "lines+markers",
         "name": "CWE-287",
         "type": "scatter",
         "x": [
          2013,
          2015,
          2018,
          2019,
          2020,
          2021,
          2022,
          2023,
          2024
         ],
         "y": [
          1,
          1,
          1,
          1,
          6,
          11,
          2,
          6,
          1
         ]
        },
        {
         "line": {
          "smoothing": 0.3
         },
         "mode": "lines+markers",
         "name": "CWE-665",
         "type": "scatter",
         "x": [
          2013,
          2020,
          2022
         ],
         "y": [
          1,
          1,
          2
         ]
        },
        {
         "line": {
          "smoothing": 0.3
         },
         "mode": "lines+markers",
         "name": "CWE-74",
         "type": "scatter",
         "x": [
          2013,
          2018,
          2019,
          2020,
          2022,
          2023
         ],
         "y": [
          1,
          1,
          3,
          3,
          3,
          2
         ]
        },
        {
         "line": {
          "smoothing": 0.3
         },
         "mode": "lines+markers",
         "name": "CWE-125",
         "type": "scatter",
         "x": [
          2014,
          2016,
          2017,
          2020,
          2021,
          2022,
          2023,
          2024
         ],
         "y": [
          1,
          3,
          1,
          1,
          3,
          1,
          3,
          1
         ]
        },
        {
         "line": {
          "smoothing": 0.3
         },
         "mode": "lines+markers",
         "name": "CWE-255",
         "type": "scatter",
         "x": [
          2014
         ],
         "y": [
          1
         ]
        },
        {
         "line": {
          "smoothing": 0.3
         },
         "mode": "lines+markers",
         "name": "CWE-284",
         "type": "scatter",
         "x": [
          2014,
          2019,
          2020,
          2021,
          2022,
          2023
         ],
         "y": [
          1,
          1,
          3,
          1,
          1,
          6
         ]
        },
        {
         "line": {
          "smoothing": 0.3
         },
         "mode": "lines+markers",
         "name": "CWE-352",
         "type": "scatter",
         "x": [
          2014,
          2016,
          2020
         ],
         "y": [
          2,
          1,
          1
         ]
        },
        {
         "line": {
          "smoothing": 0.3
         },
         "mode": "lines+markers",
         "name": "CWE-362",
         "type": "scatter",
         "x": [
          2014,
          2016,
          2020,
          2021,
          2022,
          2023
         ],
         "y": [
          1,
          1,
          2,
          4,
          1,
          2
         ]
        },
        {
         "line": {
          "smoothing": 0.3
         },
         "mode": "lines+markers",
         "name": "CWE-399",
         "type": "scatter",
         "x": [
          2014,
          2017,
          2018
         ],
         "y": [
          1,
          5,
          5
         ]
        },
        {
         "line": {
          "smoothing": 0.3
         },
         "mode": "lines+markers",
         "name": "CWE-78",
         "type": "scatter",
         "x": [
          2014,
          2016,
          2017,
          2018,
          2019,
          2020,
          2021,
          2022,
          2023,
          2024
         ],
         "y": [
          2,
          1,
          5,
          7,
          15,
          17,
          13,
          10,
          9,
          2
         ]
        },
        {
         "line": {
          "smoothing": 0.3
         },
         "mode": "lines+markers",
         "name": "CWE-254",
         "type": "scatter",
         "x": [
          2015
         ],
         "y": [
          1
         ]
        },
        {
         "line": {
          "smoothing": 0.3
         },
         "mode": "lines+markers",
         "name": "CWE-502",
         "type": "scatter",
         "x": [
          2015,
          2017,
          2018,
          2019,
          2020,
          2021,
          2022,
          2023
         ],
         "y": [
          1,
          3,
          5,
          5,
          5,
          8,
          4,
          9
         ]
        },
        {
         "line": {
          "smoothing": 0.3
         },
         "mode": "lines+markers",
         "name": "CWE-824",
         "type": "scatter",
         "x": [
          2015,
          2022
         ],
         "y": [
          1,
          1
         ]
        },
        {
         "line": {
          "smoothing": 0.3
         },
         "mode": "lines+markers",
         "name": "CWE-434",
         "type": "scatter",
         "x": [
          2016,
          2017,
          2018,
          2019,
          2020,
          2021
         ],
         "y": [
          1,
          3,
          1,
          1,
          4,
          5
         ]
        },
        {
         "line": {
          "smoothing": 0.3
         },
         "mode": "lines+markers",
         "name": "CWE-611",
         "type": "scatter",
         "x": [
          2016,
          2019
         ],
         "y": [
          1,
          2
         ]
        },
        {
         "line": {
          "smoothing": 0.3
         },
         "mode": "lines+markers",
         "name": "CWE-89",
         "type": "scatter",
         "x": [
          2016,
          2017,
          2018,
          2019,
          2020,
          2021,
          2023
         ],
         "y": [
          1,
          1,
          1,
          3,
          3,
          6,
          5
         ]
        },
        {
         "line": {
          "smoothing": 0.3
         },
         "mode": "lines+markers",
         "name": "CWE-918",
         "type": "scatter",
         "x": [
          2016,
          2021,
          2022,
          2023,
          2024
         ],
         "y": [
          1,
          8,
          1,
          2,
          2
         ]
        },
        {
         "line": {
          "smoothing": 0.3
         },
         "mode": "lines+markers",
         "name": "CWE-281",
         "type": "scatter",
         "x": [
          2017
         ],
         "y": [
          1
         ]
        },
        {
         "line": {
          "smoothing": 0.3
         },
         "mode": "lines+markers",
         "name": "CWE-326",
         "type": "scatter",
         "x": [
          2017,
          2018
         ],
         "y": [
          2,
          2
         ]
        },
        {
         "line": {
          "smoothing": 0.3
         },
         "mode": "lines+markers",
         "name": "CWE-404",
         "type": "scatter",
         "x": [
          2017,
          2018
         ],
         "y": [
          1,
          4
         ]
        },
        {
         "line": {
          "smoothing": 0.3
         },
         "mode": "lines+markers",
         "name": "CWE-522",
         "type": "scatter",
         "x": [
          2017,
          2020,
          2021
         ],
         "y": [
          1,
          1,
          1
         ]
        },
        {
         "line": {
          "smoothing": 0.3
         },
         "mode": "lines+markers",
         "name": "CWE-552",
         "type": "scatter",
         "x": [
          2017,
          2020
         ],
         "y": [
          1,
          2
         ]
        },
        {
         "line": {
          "smoothing": 0.3
         },
         "mode": "lines+markers",
         "name": "CWE-755",
         "type": "scatter",
         "x": [
          2017,
          2018,
          2020,
          2021,
          2022,
          2024
         ],
         "y": [
          1,
          1,
          1,
          2,
          1,
          1
         ]
        },
        {
         "line": {
          "smoothing": 0.3
         },
         "mode": "lines+markers",
         "name": "CWE-134",
         "type": "scatter",
         "x": [
          2018,
          2019,
          2020,
          2021
         ],
         "y": [
          1,
          1,
          1,
          1
         ]
        },
        {
         "line": {
          "smoothing": 0.3
         },
         "mode": "lines+markers",
         "name": "CWE-36",
         "type": "scatter",
         "x": [
          2018
         ],
         "y": [
          1
         ]
        },
        {
         "line": {
          "smoothing": 0.3
         },
         "mode": "lines+markers",
         "name": "CWE-388",
         "type": "scatter",
         "x": [
          2018
         ],
         "y": [
          1
         ]
        },
        {
         "line": {
          "smoothing": 0.3
         },
         "mode": "lines+markers",
         "name": "CWE-401",
         "type": "scatter",
         "x": [
          2018,
          2023
         ],
         "y": [
          1,
          1
         ]
        },
        {
         "line": {
          "smoothing": 0.3
         },
         "mode": "lines+markers",
         "name": "CWE-415",
         "type": "scatter",
         "x": [
          2018,
          2020,
          2021
         ],
         "y": [
          1,
          1,
          2
         ]
        },
        {
         "line": {
          "smoothing": 0.3
         },
         "mode": "lines+markers",
         "name": "CWE-732",
         "type": "scatter",
         "x": [
          2018,
          2019,
          2021,
          2022
         ],
         "y": [
          1,
          1,
          1,
          1
         ]
        },
        {
         "line": {
          "smoothing": 0.3
         },
         "mode": "lines+markers",
         "name": "CWE-749",
         "type": "scatter",
         "x": [
          2018
         ],
         "y": [
          1
         ]
        },
        {
         "line": {
          "smoothing": 0.3
         },
         "mode": "lines+markers",
         "name": "CWE-80",
         "type": "scatter",
         "x": [
          2018
         ],
         "y": [
          2
         ]
        },
        {
         "line": {
          "smoothing": 0.3
         },
         "mode": "lines+markers",
         "name": "CWE-863",
         "type": "scatter",
         "x": [
          2018,
          2019,
          2021,
          2022,
          2023
         ],
         "y": [
          1,
          1,
          5,
          2,
          6
         ]
        },
        {
         "line": {
          "smoothing": 0.3
         },
         "mode": "lines+markers",
         "name": "CWE-122",
         "type": "scatter",
         "x": [
          2019,
          2021,
          2023,
          2024
         ],
         "y": [
          1,
          1,
          5,
          1
         ]
        },
        {
         "line": {
          "smoothing": 0.3
         },
         "mode": "lines+markers",
         "name": "CWE-269",
         "type": "scatter",
         "x": [
          2019,
          2020,
          2021,
          2023,
          2024
         ],
         "y": [
          1,
          2,
          5,
          1,
          1
         ]
        },
        {
         "line": {
          "smoothing": 0.3
         },
         "mode": "lines+markers",
         "name": "CWE-306",
         "type": "scatter",
         "x": [
          2019,
          2020,
          2021,
          2022,
          2023
         ],
         "y": [
          2,
          5,
          3,
          7,
          9
         ]
        },
        {
         "line": {
          "smoothing": 0.3
         },
         "mode": "lines+markers",
         "name": "CWE-521",
         "type": "scatter",
         "x": [
          2019
         ],
         "y": [
          1
         ]
        },
        {
         "line": {
          "smoothing": 0.3
         },
         "mode": "lines+markers",
         "name": "CWE-59",
         "type": "scatter",
         "x": [
          2019,
          2020,
          2021,
          2022,
          2023
         ],
         "y": [
          7,
          2,
          1,
          2,
          1
         ]
        },
        {
         "line": {
          "smoothing": 0.3
         },
         "mode": "lines+markers",
         "name": "CWE-1056",
         "type": "scatter",
         "x": [
          2020
         ],
         "y": [
          1
         ]
        },
        {
         "line": {
          "smoothing": 0.3
         },
         "mode": "lines+markers",
         "name": "CWE-1188",
         "type": "scatter",
         "x": [
          2020,
          2022,
          2023
         ],
         "y": [
          2,
          2,
          3
         ]
        },
        {
         "line": {
          "smoothing": 0.3
         },
         "mode": "lines+markers",
         "name": "CWE-121",
         "type": "scatter",
         "x": [
          2020,
          2021,
          2022
         ],
         "y": [
          1,
          1,
          5
         ]
        },
        {
         "line": {
          "smoothing": 0.3
         },
         "mode": "lines+markers",
         "name": "CWE-131",
         "type": "scatter",
         "x": [
          2020
         ],
         "y": [
          1
         ]
        },
        {
         "line": {
          "smoothing": 0.3
         },
         "mode": "lines+markers",
         "name": "CWE-178",
         "type": "scatter",
         "x": [
          2020
         ],
         "y": [
          1
         ]
        },
        {
         "line": {
          "smoothing": 0.3
         },
         "mode": "lines+markers",
         "name": "CWE-23",
         "type": "scatter",
         "x": [
          2020,
          2021
         ],
         "y": [
          1,
          1
         ]
        },
        {
         "line": {
          "smoothing": 0.3
         },
         "mode": "lines+markers",
         "name": "CWE-288",
         "type": "scatter",
         "x": [
          2020,
          2023,
          2024
         ],
         "y": [
          1,
          3,
          2
         ]
        },
        {
         "line": {
          "smoothing": 0.3
         },
         "mode": "lines+markers",
         "name": "CWE-295",
         "type": "scatter",
         "x": [
          2020,
          2022,
          2023
         ],
         "y": [
          1,
          2,
          2
         ]
        },
        {
         "line": {
          "smoothing": 0.3
         },
         "mode": "lines+markers",
         "name": "CWE-330",
         "type": "scatter",
         "x": [
          2020
         ],
         "y": [
          1
         ]
        },
        {
         "line": {
          "smoothing": 0.3
         },
         "mode": "lines+markers",
         "name": "CWE-347",
         "type": "scatter",
         "x": [
          2020
         ],
         "y": [
          3
         ]
        },
        {
         "line": {
          "smoothing": 0.3
         },
         "mode": "lines+markers",
         "name": "CWE-400",
         "type": "scatter",
         "x": [
          2020,
          2021,
          2023
         ],
         "y": [
          2,
          1,
          1
         ]
        },
        {
         "line": {
          "smoothing": 0.3
         },
         "mode": "lines+markers",
         "name": "CWE-427",
         "type": "scatter",
         "x": [
          2020
         ],
         "y": [
          4
         ]
        },
        {
         "line": {
          "smoothing": 0.3
         },
         "mode": "lines+markers",
         "name": "CWE-697",
         "type": "scatter",
         "x": [
          2020
         ],
         "y": [
          1
         ]
        },
        {
         "line": {
          "smoothing": 0.3
         },
         "mode": "lines+markers",
         "name": "CWE-706",
         "type": "scatter",
         "x": [
          2020,
          2021
         ],
         "y": [
          1,
          1
         ]
        },
        {
         "line": {
          "smoothing": 0.3
         },
         "mode": "lines+markers",
         "name": "CWE-73",
         "type": "scatter",
         "x": [
          2020
         ],
         "y": [
          1
         ]
        },
        {
         "line": {
          "smoothing": 0.3
         },
         "mode": "lines+markers",
         "name": "CWE-770",
         "type": "scatter",
         "x": [
          2020
         ],
         "y": [
          2
         ]
        },
        {
         "line": {
          "smoothing": 0.3
         },
         "mode": "lines+markers",
         "name": "CWE-798",
         "type": "scatter",
         "x": [
          2020,
          2022,
          2023,
          2024
         ],
         "y": [
          1,
          3,
          1,
          1
         ]
        },
        {
         "line": {
          "smoothing": 0.3
         },
         "mode": "lines+markers",
         "name": "CWE-91",
         "type": "scatter",
         "x": [
          2020
         ],
         "y": [
          1
         ]
        },
        {
         "line": {
          "smoothing": 0.3
         },
         "mode": "lines+markers",
         "name": "CWE-191",
         "type": "scatter",
         "x": [
          2021
         ],
         "y": [
          1
         ]
        },
        {
         "line": {
          "smoothing": 0.3
         },
         "mode": "lines+markers",
         "name": "CWE-193",
         "type": "scatter",
         "x": [
          2021
         ],
         "y": [
          1
         ]
        },
        {
         "line": {
          "smoothing": 0.3
         },
         "mode": "lines+markers",
         "name": "CWE-270",
         "type": "scatter",
         "x": [
          2021
         ],
         "y": [
          1
         ]
        },
        {
         "line": {
          "smoothing": 0.3
         },
         "mode": "lines+markers",
         "name": "CWE-285",
         "type": "scatter",
         "x": [
          2021
         ],
         "y": [
          1
         ]
        },
        {
         "line": {
          "smoothing": 0.3
         },
         "mode": "lines+markers",
         "name": "CWE-425",
         "type": "scatter",
         "x": [
          2021
         ],
         "y": [
          1
         ]
        },
        {
         "line": {
          "smoothing": 0.3
         },
         "mode": "lines+markers",
         "name": "CWE-494",
         "type": "scatter",
         "x": [
          2021
         ],
         "y": [
          1
         ]
        },
        {
         "line": {
          "smoothing": 0.3
         },
         "mode": "lines+markers",
         "name": "CWE-497",
         "type": "scatter",
         "x": [
          2021
         ],
         "y": [
          1
         ]
        },
        {
         "line": {
          "smoothing": 0.3
         },
         "mode": "lines+markers",
         "name": "CWE-667",
         "type": "scatter",
         "x": [
          2021
         ],
         "y": [
          1
         ]
        },
        {
         "line": {
          "smoothing": 0.3
         },
         "mode": "lines+markers",
         "name": "CWE-669",
         "type": "scatter",
         "x": [
          2021
         ],
         "y": [
          1
         ]
        },
        {
         "line": {
          "smoothing": 0.3
         },
         "mode": "lines+markers",
         "name": "CWE-754",
         "type": "scatter",
         "x": [
          2021,
          2023
         ],
         "y": [
          1,
          3
         ]
        },
        {
         "line": {
          "smoothing": 0.3
         },
         "mode": "lines+markers",
         "name": "CWE-782",
         "type": "scatter",
         "x": [
          2021
         ],
         "y": [
          1
         ]
        },
        {
         "line": {
          "smoothing": 0.3
         },
         "mode": "lines+markers",
         "name": "CWE-862",
         "type": "scatter",
         "x": [
          2021,
          2022
         ],
         "y": [
          1,
          1
         ]
        },
        {
         "line": {
          "smoothing": 0.3
         },
         "mode": "lines+markers",
         "name": "CWE-912",
         "type": "scatter",
         "x": [
          2021
         ],
         "y": [
          1
         ]
        },
        {
         "line": {
          "smoothing": 0.3
         },
         "mode": "lines+markers",
         "name": "CWE-116",
         "type": "scatter",
         "x": [
          2022
         ],
         "y": [
          2
         ]
        },
        {
         "line": {
          "smoothing": 0.3
         },
         "mode": "lines+markers",
         "name": "CWE-197",
         "type": "scatter",
         "x": [
          2022
         ],
         "y": [
          1
         ]
        },
        {
         "line": {
          "smoothing": 0.3
         },
         "mode": "lines+markers",
         "name": "CWE-290",
         "type": "scatter",
         "x": [
          2022,
          2024
         ],
         "y": [
          4,
          2
         ]
        },
        {
         "line": {
          "smoothing": 0.3
         },
         "mode": "lines+markers",
         "name": "CWE-345",
         "type": "scatter",
         "x": [
          2022,
          2023
         ],
         "y": [
          1,
          1
         ]
        },
        {
         "line": {
          "smoothing": 0.3
         },
         "mode": "lines+markers",
         "name": "CWE-367",
         "type": "scatter",
         "x": [
          2022,
          2023
         ],
         "y": [
          2,
          2
         ]
        },
        {
         "line": {
          "smoothing": 0.3
         },
         "mode": "lines+markers",
         "name": "CWE-406",
         "type": "scatter",
         "x": [
          2022
         ],
         "y": [
          1
         ]
        },
        {
         "line": {
          "smoothing": 0.3
         },
         "mode": "lines+markers",
         "name": "CWE-426",
         "type": "scatter",
         "x": [
          2022
         ],
         "y": [
          2
         ]
        },
        {
         "line": {
          "smoothing": 0.3
         },
         "mode": "lines+markers",
         "name": "CWE-444",
         "type": "scatter",
         "x": [
          2022,
          2023
         ],
         "y": [
          1,
          1
         ]
        },
        {
         "line": {
          "smoothing": 0.3
         },
         "mode": "lines+markers",
         "name": "CWE-610",
         "type": "scatter",
         "x": [
          2022
         ],
         "y": [
          3
         ]
        },
        {
         "line": {
          "smoothing": 0.3
         },
         "mode": "lines+markers",
         "name": "CWE-664",
         "type": "scatter",
         "x": [
          2022
         ],
         "y": [
          1
         ]
        },
        {
         "line": {
          "smoothing": 0.3
         },
         "mode": "lines+markers",
         "name": "CWE-703",
         "type": "scatter",
         "x": [
          2022
         ],
         "y": [
          1
         ]
        },
        {
         "line": {
          "smoothing": 0.3
         },
         "mode": "lines+markers",
         "name": "CWE-294",
         "type": "scatter",
         "x": [
          2023
         ],
         "y": [
          1
         ]
        },
        {
         "line": {
          "smoothing": 0.3
         },
         "mode": "lines+markers",
         "name": "CWE-303",
         "type": "scatter",
         "x": [
          2023
         ],
         "y": [
          1
         ]
        },
        {
         "line": {
          "smoothing": 0.3
         },
         "mode": "lines+markers",
         "name": "CWE-351",
         "type": "scatter",
         "x": [
          2023
         ],
         "y": [
          1
         ]
        },
        {
         "line": {
          "smoothing": 0.3
         },
         "mode": "lines+markers",
         "name": "CWE-420",
         "type": "scatter",
         "x": [
          2023
         ],
         "y": [
          1
         ]
        },
        {
         "line": {
          "smoothing": 0.3
         },
         "mode": "lines+markers",
         "name": "CWE-473",
         "type": "scatter",
         "x": [
          2023
         ],
         "y": [
          2
         ]
        },
        {
         "line": {
          "smoothing": 0.3
         },
         "mode": "lines+markers",
         "name": "CWE-532",
         "type": "scatter",
         "x": [
          2023
         ],
         "y": [
          2
         ]
        },
        {
         "line": {
          "smoothing": 0.3
         },
         "mode": "lines+markers",
         "name": "CWE-591",
         "type": "scatter",
         "x": [
          2023
         ],
         "y": [
          1
         ]
        },
        {
         "line": {
          "smoothing": 0.3
         },
         "mode": "lines+markers",
         "name": "CWE-640",
         "type": "scatter",
         "x": [
          2023
         ],
         "y": [
          2
         ]
        },
        {
         "line": {
          "smoothing": 0.3
         },
         "mode": "lines+markers",
         "name": "CWE-662",
         "type": "scatter",
         "x": [
          2023
         ],
         "y": [
          1
         ]
        },
        {
         "line": {
          "smoothing": 0.3
         },
         "mode": "lines+markers",
         "name": "CWE-822",
         "type": "scatter",
         "x": [
          2023,
          2024
         ],
         "y": [
          2,
          1
         ]
        },
        {
         "line": {
          "smoothing": 0.3
         },
         "mode": "lines+markers",
         "name": "CWE-823",
         "type": "scatter",
         "x": [
          2023
         ],
         "y": [
          1
         ]
        },
        {
         "line": {
          "smoothing": 0.3
         },
         "mode": "lines+markers",
         "name": "CWE-95",
         "type": "scatter",
         "x": [
          2023
         ],
         "y": [
          1
         ]
        },
        {
         "line": {
          "smoothing": 0.3
         },
         "mode": "lines+markers",
         "name": "CWE-1336",
         "type": "scatter",
         "x": [
          2024
         ],
         "y": [
          1
         ]
        },
        {
         "line": {
          "smoothing": 0.3
         },
         "mode": "lines+markers",
         "name": "CWE-280",
         "type": "scatter",
         "x": [
          2024
         ],
         "y": [
          1
         ]
        },
        {
         "line": {
          "smoothing": 0.3
         },
         "mode": "lines+markers",
         "name": "CWE-506",
         "type": "scatter",
         "x": [
          2024
         ],
         "y": [
          1
         ]
        },
        {
         "line": {
          "smoothing": 0.3
         },
         "mode": "lines+markers",
         "name": "CWE-670",
         "type": "scatter",
         "x": [
          2024
         ],
         "y": [
          1
         ]
        },
        {
         "line": {
          "smoothing": 0.3
         },
         "mode": "lines+markers",
         "name": "CWE-693",
         "type": "scatter",
         "x": [
          2024
         ],
         "y": [
          2
         ]
        },
        {
         "line": {
          "smoothing": 0.3
         },
         "mode": "lines+markers",
         "name": "CWE-783",
         "type": "scatter",
         "x": [
          2024
         ],
         "y": [
          1
         ]
        },
        {
         "line": {
          "smoothing": 0.3
         },
         "mode": "lines+markers",
         "name": "CWE-835",
         "type": "scatter",
         "x": [
          2024
         ],
         "y": [
          2
         ]
        },
        {
         "line": {
          "smoothing": 0.3
         },
         "mode": "lines+markers",
         "name": "CWE-908",
         "type": "scatter",
         "x": [
          2024
         ],
         "y": [
          2
         ]
        }
       ],
       "layout": {
        "legend": {
         "title": {
          "text": "CWE ID"
         }
        },
        "template": {
         "data": {
          "bar": [
           {
            "error_x": {
             "color": "#2a3f5f"
            },
            "error_y": {
             "color": "#2a3f5f"
            },
            "marker": {
             "line": {
              "color": "white",
              "width": 0.5
             },
             "pattern": {
              "fillmode": "overlay",
              "size": 10,
              "solidity": 0.2
             }
            },
            "type": "bar"
           }
          ],
          "barpolar": [
           {
            "marker": {
             "line": {
              "color": "white",
              "width": 0.5
             },
             "pattern": {
              "fillmode": "overlay",
              "size": 10,
              "solidity": 0.2
             }
            },
            "type": "barpolar"
           }
          ],
          "carpet": [
           {
            "aaxis": {
             "endlinecolor": "#2a3f5f",
             "gridcolor": "#C8D4E3",
             "linecolor": "#C8D4E3",
             "minorgridcolor": "#C8D4E3",
             "startlinecolor": "#2a3f5f"
            },
            "baxis": {
             "endlinecolor": "#2a3f5f",
             "gridcolor": "#C8D4E3",
             "linecolor": "#C8D4E3",
             "minorgridcolor": "#C8D4E3",
             "startlinecolor": "#2a3f5f"
            },
            "type": "carpet"
           }
          ],
          "choropleth": [
           {
            "colorbar": {
             "outlinewidth": 0,
             "ticks": ""
            },
            "type": "choropleth"
           }
          ],
          "contour": [
           {
            "colorbar": {
             "outlinewidth": 0,
             "ticks": ""
            },
            "colorscale": [
             [
              0,
              "#0d0887"
             ],
             [
              0.1111111111111111,
              "#46039f"
             ],
             [
              0.2222222222222222,
              "#7201a8"
             ],
             [
              0.3333333333333333,
              "#9c179e"
             ],
             [
              0.4444444444444444,
              "#bd3786"
             ],
             [
              0.5555555555555556,
              "#d8576b"
             ],
             [
              0.6666666666666666,
              "#ed7953"
             ],
             [
              0.7777777777777778,
              "#fb9f3a"
             ],
             [
              0.8888888888888888,
              "#fdca26"
             ],
             [
              1,
              "#f0f921"
             ]
            ],
            "type": "contour"
           }
          ],
          "contourcarpet": [
           {
            "colorbar": {
             "outlinewidth": 0,
             "ticks": ""
            },
            "type": "contourcarpet"
           }
          ],
          "heatmap": [
           {
            "colorbar": {
             "outlinewidth": 0,
             "ticks": ""
            },
            "colorscale": [
             [
              0,
              "#0d0887"
             ],
             [
              0.1111111111111111,
              "#46039f"
             ],
             [
              0.2222222222222222,
              "#7201a8"
             ],
             [
              0.3333333333333333,
              "#9c179e"
             ],
             [
              0.4444444444444444,
              "#bd3786"
             ],
             [
              0.5555555555555556,
              "#d8576b"
             ],
             [
              0.6666666666666666,
              "#ed7953"
             ],
             [
              0.7777777777777778,
              "#fb9f3a"
             ],
             [
              0.8888888888888888,
              "#fdca26"
             ],
             [
              1,
              "#f0f921"
             ]
            ],
            "type": "heatmap"
           }
          ],
          "heatmapgl": [
           {
            "colorbar": {
             "outlinewidth": 0,
             "ticks": ""
            },
            "colorscale": [
             [
              0,
              "#0d0887"
             ],
             [
              0.1111111111111111,
              "#46039f"
             ],
             [
              0.2222222222222222,
              "#7201a8"
             ],
             [
              0.3333333333333333,
              "#9c179e"
             ],
             [
              0.4444444444444444,
              "#bd3786"
             ],
             [
              0.5555555555555556,
              "#d8576b"
             ],
             [
              0.6666666666666666,
              "#ed7953"
             ],
             [
              0.7777777777777778,
              "#fb9f3a"
             ],
             [
              0.8888888888888888,
              "#fdca26"
             ],
             [
              1,
              "#f0f921"
             ]
            ],
            "type": "heatmapgl"
           }
          ],
          "histogram": [
           {
            "marker": {
             "pattern": {
              "fillmode": "overlay",
              "size": 10,
              "solidity": 0.2
             }
            },
            "type": "histogram"
           }
          ],
          "histogram2d": [
           {
            "colorbar": {
             "outlinewidth": 0,
             "ticks": ""
            },
            "colorscale": [
             [
              0,
              "#0d0887"
             ],
             [
              0.1111111111111111,
              "#46039f"
             ],
             [
              0.2222222222222222,
              "#7201a8"
             ],
             [
              0.3333333333333333,
              "#9c179e"
             ],
             [
              0.4444444444444444,
              "#bd3786"
             ],
             [
              0.5555555555555556,
              "#d8576b"
             ],
             [
              0.6666666666666666,
              "#ed7953"
             ],
             [
              0.7777777777777778,
              "#fb9f3a"
             ],
             [
              0.8888888888888888,
              "#fdca26"
             ],
             [
              1,
              "#f0f921"
             ]
            ],
            "type": "histogram2d"
           }
          ],
          "histogram2dcontour": [
           {
            "colorbar": {
             "outlinewidth": 0,
             "ticks": ""
            },
            "colorscale": [
             [
              0,
              "#0d0887"
             ],
             [
              0.1111111111111111,
              "#46039f"
             ],
             [
              0.2222222222222222,
              "#7201a8"
             ],
             [
              0.3333333333333333,
              "#9c179e"
             ],
             [
              0.4444444444444444,
              "#bd3786"
             ],
             [
              0.5555555555555556,
              "#d8576b"
             ],
             [
              0.6666666666666666,
              "#ed7953"
             ],
             [
              0.7777777777777778,
              "#fb9f3a"
             ],
             [
              0.8888888888888888,
              "#fdca26"
             ],
             [
              1,
              "#f0f921"
             ]
            ],
            "type": "histogram2dcontour"
           }
          ],
          "mesh3d": [
           {
            "colorbar": {
             "outlinewidth": 0,
             "ticks": ""
            },
            "type": "mesh3d"
           }
          ],
          "parcoords": [
           {
            "line": {
             "colorbar": {
              "outlinewidth": 0,
              "ticks": ""
             }
            },
            "type": "parcoords"
           }
          ],
          "pie": [
           {
            "automargin": true,
            "type": "pie"
           }
          ],
          "scatter": [
           {
            "fillpattern": {
             "fillmode": "overlay",
             "size": 10,
             "solidity": 0.2
            },
            "type": "scatter"
           }
          ],
          "scatter3d": [
           {
            "line": {
             "colorbar": {
              "outlinewidth": 0,
              "ticks": ""
             }
            },
            "marker": {
             "colorbar": {
              "outlinewidth": 0,
              "ticks": ""
             }
            },
            "type": "scatter3d"
           }
          ],
          "scattercarpet": [
           {
            "marker": {
             "colorbar": {
              "outlinewidth": 0,
              "ticks": ""
             }
            },
            "type": "scattercarpet"
           }
          ],
          "scattergeo": [
           {
            "marker": {
             "colorbar": {
              "outlinewidth": 0,
              "ticks": ""
             }
            },
            "type": "scattergeo"
           }
          ],
          "scattergl": [
           {
            "marker": {
             "colorbar": {
              "outlinewidth": 0,
              "ticks": ""
             }
            },
            "type": "scattergl"
           }
          ],
          "scattermapbox": [
           {
            "marker": {
             "colorbar": {
              "outlinewidth": 0,
              "ticks": ""
             }
            },
            "type": "scattermapbox"
           }
          ],
          "scatterpolar": [
           {
            "marker": {
             "colorbar": {
              "outlinewidth": 0,
              "ticks": ""
             }
            },
            "type": "scatterpolar"
           }
          ],
          "scatterpolargl": [
           {
            "marker": {
             "colorbar": {
              "outlinewidth": 0,
              "ticks": ""
             }
            },
            "type": "scatterpolargl"
           }
          ],
          "scatterternary": [
           {
            "marker": {
             "colorbar": {
              "outlinewidth": 0,
              "ticks": ""
             }
            },
            "type": "scatterternary"
           }
          ],
          "surface": [
           {
            "colorbar": {
             "outlinewidth": 0,
             "ticks": ""
            },
            "colorscale": [
             [
              0,
              "#0d0887"
             ],
             [
              0.1111111111111111,
              "#46039f"
             ],
             [
              0.2222222222222222,
              "#7201a8"
             ],
             [
              0.3333333333333333,
              "#9c179e"
             ],
             [
              0.4444444444444444,
              "#bd3786"
             ],
             [
              0.5555555555555556,
              "#d8576b"
             ],
             [
              0.6666666666666666,
              "#ed7953"
             ],
             [
              0.7777777777777778,
              "#fb9f3a"
             ],
             [
              0.8888888888888888,
              "#fdca26"
             ],
             [
              1,
              "#f0f921"
             ]
            ],
            "type": "surface"
           }
          ],
          "table": [
           {
            "cells": {
             "fill": {
              "color": "#EBF0F8"
             },
             "line": {
              "color": "white"
             }
            },
            "header": {
             "fill": {
              "color": "#C8D4E3"
             },
             "line": {
              "color": "white"
             }
            },
            "type": "table"
           }
          ]
         },
         "layout": {
          "annotationdefaults": {
           "arrowcolor": "#2a3f5f",
           "arrowhead": 0,
           "arrowwidth": 1
          },
          "autotypenumbers": "strict",
          "coloraxis": {
           "colorbar": {
            "outlinewidth": 0,
            "ticks": ""
           }
          },
          "colorscale": {
           "diverging": [
            [
             0,
             "#8e0152"
            ],
            [
             0.1,
             "#c51b7d"
            ],
            [
             0.2,
             "#de77ae"
            ],
            [
             0.3,
             "#f1b6da"
            ],
            [
             0.4,
             "#fde0ef"
            ],
            [
             0.5,
             "#f7f7f7"
            ],
            [
             0.6,
             "#e6f5d0"
            ],
            [
             0.7,
             "#b8e186"
            ],
            [
             0.8,
             "#7fbc41"
            ],
            [
             0.9,
             "#4d9221"
            ],
            [
             1,
             "#276419"
            ]
           ],
           "sequential": [
            [
             0,
             "#0d0887"
            ],
            [
             0.1111111111111111,
             "#46039f"
            ],
            [
             0.2222222222222222,
             "#7201a8"
            ],
            [
             0.3333333333333333,
             "#9c179e"
            ],
            [
             0.4444444444444444,
             "#bd3786"
            ],
            [
             0.5555555555555556,
             "#d8576b"
            ],
            [
             0.6666666666666666,
             "#ed7953"
            ],
            [
             0.7777777777777778,
             "#fb9f3a"
            ],
            [
             0.8888888888888888,
             "#fdca26"
            ],
            [
             1,
             "#f0f921"
            ]
           ],
           "sequentialminus": [
            [
             0,
             "#0d0887"
            ],
            [
             0.1111111111111111,
             "#46039f"
            ],
            [
             0.2222222222222222,
             "#7201a8"
            ],
            [
             0.3333333333333333,
             "#9c179e"
            ],
            [
             0.4444444444444444,
             "#bd3786"
            ],
            [
             0.5555555555555556,
             "#d8576b"
            ],
            [
             0.6666666666666666,
             "#ed7953"
            ],
            [
             0.7777777777777778,
             "#fb9f3a"
            ],
            [
             0.8888888888888888,
             "#fdca26"
            ],
            [
             1,
             "#f0f921"
            ]
           ]
          },
          "colorway": [
           "#636efa",
           "#EF553B",
           "#00cc96",
           "#ab63fa",
           "#FFA15A",
           "#19d3f3",
           "#FF6692",
           "#B6E880",
           "#FF97FF",
           "#FECB52"
          ],
          "font": {
           "color": "#2a3f5f"
          },
          "geo": {
           "bgcolor": "white",
           "lakecolor": "white",
           "landcolor": "white",
           "showlakes": true,
           "showland": true,
           "subunitcolor": "#C8D4E3"
          },
          "hoverlabel": {
           "align": "left"
          },
          "hovermode": "closest",
          "mapbox": {
           "style": "light"
          },
          "paper_bgcolor": "white",
          "plot_bgcolor": "white",
          "polar": {
           "angularaxis": {
            "gridcolor": "#EBF0F8",
            "linecolor": "#EBF0F8",
            "ticks": ""
           },
           "bgcolor": "white",
           "radialaxis": {
            "gridcolor": "#EBF0F8",
            "linecolor": "#EBF0F8",
            "ticks": ""
           }
          },
          "scene": {
           "xaxis": {
            "backgroundcolor": "white",
            "gridcolor": "#DFE8F3",
            "gridwidth": 2,
            "linecolor": "#EBF0F8",
            "showbackground": true,
            "ticks": "",
            "zerolinecolor": "#EBF0F8"
           },
           "yaxis": {
            "backgroundcolor": "white",
            "gridcolor": "#DFE8F3",
            "gridwidth": 2,
            "linecolor": "#EBF0F8",
            "showbackground": true,
            "ticks": "",
            "zerolinecolor": "#EBF0F8"
           },
           "zaxis": {
            "backgroundcolor": "white",
            "gridcolor": "#DFE8F3",
            "gridwidth": 2,
            "linecolor": "#EBF0F8",
            "showbackground": true,
            "ticks": "",
            "zerolinecolor": "#EBF0F8"
           }
          },
          "shapedefaults": {
           "line": {
            "color": "#2a3f5f"
           }
          },
          "ternary": {
           "aaxis": {
            "gridcolor": "#DFE8F3",
            "linecolor": "#A2B1C6",
            "ticks": ""
           },
           "baxis": {
            "gridcolor": "#DFE8F3",
            "linecolor": "#A2B1C6",
            "ticks": ""
           },
           "bgcolor": "white",
           "caxis": {
            "gridcolor": "#DFE8F3",
            "linecolor": "#A2B1C6",
            "ticks": ""
           }
          },
          "title": {
           "x": 0.05
          },
          "xaxis": {
           "automargin": true,
           "gridcolor": "#EBF0F8",
           "linecolor": "#EBF0F8",
           "ticks": "",
           "title": {
            "standoff": 15
           },
           "zerolinecolor": "#EBF0F8",
           "zerolinewidth": 2
          },
          "yaxis": {
           "automargin": true,
           "gridcolor": "#EBF0F8",
           "linecolor": "#EBF0F8",
           "ticks": "",
           "title": {
            "standoff": 15
           },
           "zerolinecolor": "#EBF0F8",
           "zerolinewidth": 2
          }
         }
        },
        "title": {
         "text": "Número de Vulnerabilidades por CWE ID a lo Largo del Tiempo"
        },
        "xaxis": {
         "title": {
          "text": "Año"
         }
        },
        "yaxis": {
         "title": {
          "text": "Cantidad de Vulnerabilidades"
         }
        }
       }
      }
     },
     "metadata": {},
     "output_type": "display_data"
    }
   ],
   "source": [
    "import plotly.graph_objects as go\n",
    "\n",
    "# Conectar a la base de datos y recuperar los datos\n",
    "conn = mysql.connector.connect(**db_config)\n",
    "cursor = conn.cursor()\n",
    "\n",
    "query = \"\"\"SELECT cwe.id,\n",
    "                  cwe.cve_id,\n",
    "                  cwe.cwe_id\n",
    "            FROM cwe\"\"\"\n",
    "\n",
    "cursor.execute(query)\n",
    "results = cursor.fetchall()\n",
    "df = pd.DataFrame(results, columns=['id', 'cve_id', 'cwe_id'])\n",
    "\n",
    "# Extraer el año del CVE ID\n",
    "df['year'] = df['cve_id'].str.extract(r'CVE-(\\d{4})').astype(int)\n",
    "\n",
    "# Contar la cantidad de vulnerabilidades por año y cwe_id\n",
    "count_df = df.groupby(['year', 'cwe_id']).size().reset_index(name='count')\n",
    "\n",
    "# Crear la gráfica interactiva con Plotly\n",
    "fig = go.Figure()\n",
    "\n",
    "for cwe_id in count_df['cwe_id'].unique():\n",
    "    subset = count_df[count_df['cwe_id'] == cwe_id]\n",
    "    fig.add_trace(go.Scatter(\n",
    "        x=subset['year'],\n",
    "        y=subset['count'],\n",
    "        mode='lines+markers',\n",
    "        name=cwe_id,\n",
    "        line=dict(smoothing=0.3)  # Suaviza la línea\n",
    "    ))\n",
    "\n",
    "# Configurar el diseño de la gráfica\n",
    "fig.update_layout(\n",
    "    title='Número de Vulnerabilidades por CWE ID a lo Largo del Tiempo',\n",
    "    xaxis_title='Año',\n",
    "    yaxis_title='Cantidad de Vulnerabilidades',\n",
    "    legend_title='CWE ID',\n",
    "    template='plotly_white'\n",
    ")\n",
    "\n",
    "# Mostrar la gráfica\n",
    "fig.show()\n",
    "\n",
    "# Cerrar la conexión\n",
    "cursor.close()\n",
    "conn.close()"
   ]
  },
  {
   "cell_type": "code",
   "execution_count": 13,
   "metadata": {},
   "outputs": [
    {
     "name": "stdout",
     "output_type": "stream",
     "text": [
      "Top CWE más comunes:\n",
      "             cwe_id  count\n",
      "119  NVD-CWE-noinfo    244\n",
      "99          CWE-787    140\n",
      "56          CWE-416     85\n",
      "96           CWE-78     81\n",
      "18           CWE-20     64\n",
      "..              ...    ...\n",
      "85          CWE-697      1\n",
      "86          CWE-703      1\n",
      "88           CWE-73      1\n",
      "28          CWE-280      1\n",
      "0          CWE-1056      1\n",
      "\n",
      "[120 rows x 2 columns]\n",
      "Top CWE por baseScore v3.1:\n",
      "      cwe_id  baseScore_v31\n",
      "47   CWE-444          10.00\n",
      "23   CWE-285           9.90\n",
      "52   CWE-522           9.85\n",
      "11   CWE-178           9.80\n",
      "63   CWE-706           9.80\n",
      "31   CWE-345           9.80\n",
      "25   CWE-288           9.80\n",
      "21   CWE-276           9.80\n",
      "83    CWE-91           9.80\n",
      "0   CWE-1056           9.80\n",
      "\n",
      "Top CWE por exploitabilityScore v3.1:\n",
      "      cwe_id  exploitabilityScore_v31\n",
      "0   CWE-1056                      3.9\n",
      "40   CWE-404                      3.9\n",
      "25   CWE-288                      3.9\n",
      "23   CWE-285                      3.9\n",
      "21   CWE-276                      3.9\n",
      "31   CWE-345                      3.9\n",
      "36   CWE-388                      3.9\n",
      "18    CWE-23                      3.9\n",
      "38   CWE-400                      3.9\n",
      "39   CWE-401                      3.9\n",
      "\n",
      "Top CWE por impactScore v3.1:\n",
      "      cwe_id  impactScore_v31\n",
      "47   CWE-444         6.000000\n",
      "23   CWE-285         5.950000\n",
      "73   CWE-782         5.950000\n",
      "20   CWE-270         5.950000\n",
      "5    CWE-121         5.941667\n",
      "85   CWE-917         5.940000\n",
      "8   CWE-1284         5.933333\n",
      "52   CWE-522         5.925000\n",
      "46   CWE-434         5.905882\n",
      "33   CWE-352         5.900000\n",
      "\n",
      "Top CWE por baseScore v2:\n",
      "      cwe_id  baseScore_v2\n",
      "47   CWE-444     10.000000\n",
      "21   CWE-276     10.000000\n",
      "83    CWE-91     10.000000\n",
      "13   CWE-191      9.300000\n",
      "30   CWE-330      9.300000\n",
      "56   CWE-610      9.300000\n",
      "78   CWE-824      9.300000\n",
      "8   CWE-1284      9.066667\n",
      "72    CWE-78      8.816667\n",
      "5    CWE-121      8.691667\n",
      "\n",
      "Top CWE por exploitabilityScore v2:\n",
      "      cwe_id  exploitabilityScore_v2\n",
      "0   CWE-1056                    10.0\n",
      "18    CWE-23                    10.0\n",
      "52   CWE-522                    10.0\n",
      "71   CWE-770                    10.0\n",
      "47   CWE-444                    10.0\n",
      "43   CWE-425                    10.0\n",
      "40   CWE-404                    10.0\n",
      "39   CWE-401                    10.0\n",
      "36   CWE-388                    10.0\n",
      "63   CWE-706                    10.0\n",
      "\n",
      "Top CWE por impactScore v2:\n",
      "     cwe_id  impactScore_v2\n",
      "78  CWE-824            10.0\n",
      "20  CWE-270            10.0\n",
      "41  CWE-415            10.0\n",
      "68  CWE-754            10.0\n",
      "14  CWE-193            10.0\n",
      "13  CWE-191            10.0\n",
      "59  CWE-667            10.0\n",
      "83   CWE-91            10.0\n",
      "56  CWE-610            10.0\n",
      "9   CWE-131            10.0\n"
     ]
    }
   ],
   "source": [
    "conn = mysql.connector.connect(**db_config)\n",
    "cursor = conn.cursor()\n",
    "\n",
    "# Ejecutar la consulta para obtener la relación CWE-CVE\n",
    "cursor.execute(\"SELECT cve_id, cwe_id FROM cwe\")\n",
    "cwe_data = cursor.fetchall()\n",
    "df_cwe = pd.DataFrame(cwe_data, columns=['cve_id', 'cwe_id'])\n",
    "\n",
    "# Ejecutar la consulta para obtener las métricas de CVSS v3.1\n",
    "cursor.execute(\"SELECT cve_id, baseScore, exploitabilityScore, impactScore FROM cvss_metrics_v31\")\n",
    "cvss_metrics_v31_data = cursor.fetchall()\n",
    "df_v31 = pd.DataFrame(cvss_metrics_v31_data, columns=['cve_id', 'baseScore', 'exploitabilityScore', 'impactScore'])\n",
    "\n",
    "# Ejecutar la consulta para obtener las métricas de CVSS v2\n",
    "cursor.execute(\"SELECT cve_id, baseScore, exploitabilityScore, impactScore FROM cvss_metrics_v2\")\n",
    "cvss_metrics_v2_data = cursor.fetchall()\n",
    "df_v2 = pd.DataFrame(cvss_metrics_v2_data, columns=['cve_id', 'baseScore', 'exploitabilityScore', 'impactScore'])\n",
    "\n",
    "# Cerrar la conexión a la base de datos\n",
    "cursor.close()\n",
    "conn.close()\n",
    "\n",
    "# Relación CWE-CVE\n",
    "df_cwe_cve_relation = df_cwe.groupby('cwe_id').size().reset_index(name='count')\n",
    "\n",
    "# Top de CWE más repetidos\n",
    "top_cwe = df_cwe_cve_relation.sort_values(by='count', ascending=False)\n",
    "\n",
    "# Métricas combinadas CVSS v3.1 y v2\n",
    "df_combined = df_v31.merge(df_v2, on='cve_id', suffixes=('_v31', '_v2'))\n",
    "\n",
    "# Relacionar métricas CVE con CWE\n",
    "df_full = df_cwe.merge(df_combined, on='cve_id')\n",
    "\n",
    "# Agrupar por CWE y calcular las métricas promedio\n",
    "cwe_metrics = df_full.groupby('cwe_id').agg({\n",
    "    'baseScore_v31': 'mean',\n",
    "    'exploitabilityScore_v31': 'mean',\n",
    "    'impactScore_v31': 'mean',\n",
    "    'baseScore_v2': 'mean',\n",
    "    'exploitabilityScore_v2': 'mean',\n",
    "    'impactScore_v2': 'mean'\n",
    "}).reset_index()\n",
    "\n",
    "# Mostrar resultados: Top CWE y métricas calculadas\n",
    "print(\"Top CWE más comunes:\")\n",
    "print(top_cwe)\n",
    "# Top de CWE por cada métrica\n",
    "top_baseScore_v31 = cwe_metrics[['cwe_id', 'baseScore_v31']].sort_values(by='baseScore_v31', ascending=False).head(10)\n",
    "top_exploitabilityScore_v31 = cwe_metrics[['cwe_id', 'exploitabilityScore_v31']].sort_values(by='exploitabilityScore_v31', ascending=False).head(10)\n",
    "top_impactScore_v31 = cwe_metrics[['cwe_id', 'impactScore_v31']].sort_values(by='impactScore_v31', ascending=False).head(10)\n",
    "\n",
    "top_baseScore_v2 = cwe_metrics[['cwe_id', 'baseScore_v2']].sort_values(by='baseScore_v2', ascending=False).head(10)\n",
    "top_exploitabilityScore_v2 = cwe_metrics[['cwe_id', 'exploitabilityScore_v2']].sort_values(by='exploitabilityScore_v2', ascending=False).head(10)\n",
    "top_impactScore_v2 = cwe_metrics[['cwe_id', 'impactScore_v2']].sort_values(by='impactScore_v2', ascending=False).head(10)\n",
    "\n",
    "# Mostrar los resultados\n",
    "print(\"Top CWE por baseScore v3.1:\")\n",
    "print(top_baseScore_v31)\n",
    "print(\"\\nTop CWE por exploitabilityScore v3.1:\")\n",
    "print(top_exploitabilityScore_v31)\n",
    "print(\"\\nTop CWE por impactScore v3.1:\")\n",
    "print(top_impactScore_v31)\n",
    "\n",
    "print(\"\\nTop CWE por baseScore v2:\")\n",
    "print(top_baseScore_v2)\n",
    "print(\"\\nTop CWE por exploitabilityScore v2:\")\n",
    "print(top_exploitabilityScore_v2)\n",
    "print(\"\\nTop CWE por impactScore v2:\")\n",
    "print(top_impactScore_v2)\n"
   ]
  },
  {
   "cell_type": "code",
   "execution_count": 14,
   "metadata": {},
   "outputs": [
    {
     "data": {
      "application/vnd.plotly.v1+json": {
       "config": {
        "plotlyServerURL": "https://plot.ly"
       },
       "data": [
        {
         "alignmentgroup": "True",
         "hovertemplate": "CWE ID=%{x}<br>Base Score (v3.1)=%{marker.color}<extra></extra>",
         "legendgroup": "",
         "marker": {
          "color": [
           10,
           9.9,
           9.850000000000001,
           9.8,
           9.8,
           9.8,
           9.8,
           9.8,
           9.8,
           9.8
          ],
          "coloraxis": "coloraxis",
          "pattern": {
           "shape": ""
          }
         },
         "name": "",
         "offsetgroup": "",
         "orientation": "v",
         "showlegend": false,
         "textposition": "auto",
         "type": "bar",
         "x": [
          "CWE-444",
          "CWE-285",
          "CWE-522",
          "CWE-178",
          "CWE-706",
          "CWE-345",
          "CWE-288",
          "CWE-276",
          "CWE-91",
          "CWE-1056"
         ],
         "xaxis": "x",
         "y": [
          10,
          9.9,
          9.850000000000001,
          9.8,
          9.8,
          9.8,
          9.8,
          9.8,
          9.8,
          9.8
         ],
         "yaxis": "y"
        },
        {
         "alignmentgroup": "True",
         "hovertemplate": "CWE ID=%{x}<br>Base Score (v2.0)=%{marker.color}<extra></extra>",
         "legendgroup": "",
         "marker": {
          "color": [
           10,
           10,
           10,
           9.3,
           9.3,
           9.3,
           9.3,
           9.066666666666666,
           8.816666666666666,
           8.691666666666666
          ],
          "coloraxis": "coloraxis",
          "pattern": {
           "shape": ""
          }
         },
         "name": "",
         "offsetgroup": "",
         "orientation": "v",
         "showlegend": false,
         "textposition": "auto",
         "type": "bar",
         "x": [
          "CWE-444",
          "CWE-276",
          "CWE-91",
          "CWE-191",
          "CWE-330",
          "CWE-610",
          "CWE-824",
          "CWE-1284",
          "CWE-78",
          "CWE-121"
         ],
         "xaxis": "x2",
         "y": [
          10,
          10,
          10,
          9.3,
          9.3,
          9.3,
          9.3,
          9.066666666666666,
          8.816666666666666,
          8.691666666666666
         ],
         "yaxis": "y2"
        },
        {
         "alignmentgroup": "True",
         "hovertemplate": "CWE ID=%{x}<br>Exploitability (v3.1)=%{marker.color}<extra></extra>",
         "legendgroup": "",
         "marker": {
          "color": [
           3.9,
           3.9,
           3.9,
           3.9,
           3.9,
           3.9,
           3.9,
           3.9,
           3.9,
           3.9
          ],
          "coloraxis": "coloraxis",
          "pattern": {
           "shape": ""
          }
         },
         "name": "",
         "offsetgroup": "",
         "orientation": "v",
         "showlegend": false,
         "textposition": "auto",
         "type": "bar",
         "x": [
          "CWE-1056",
          "CWE-404",
          "CWE-288",
          "CWE-285",
          "CWE-276",
          "CWE-345",
          "CWE-388",
          "CWE-23",
          "CWE-400",
          "CWE-401"
         ],
         "xaxis": "x3",
         "y": [
          3.9,
          3.9,
          3.9,
          3.9,
          3.9,
          3.9,
          3.9,
          3.9,
          3.9,
          3.9
         ],
         "yaxis": "y3"
        },
        {
         "alignmentgroup": "True",
         "hovertemplate": "CWE ID=%{x}<br>Exploitability (v2.0)=%{marker.color}<extra></extra>",
         "legendgroup": "",
         "marker": {
          "color": [
           10,
           10,
           10,
           10,
           10,
           10,
           10,
           10,
           10,
           10
          ],
          "coloraxis": "coloraxis",
          "pattern": {
           "shape": ""
          }
         },
         "name": "",
         "offsetgroup": "",
         "orientation": "v",
         "showlegend": false,
         "textposition": "auto",
         "type": "bar",
         "x": [
          "CWE-1056",
          "CWE-23",
          "CWE-522",
          "CWE-770",
          "CWE-444",
          "CWE-425",
          "CWE-404",
          "CWE-401",
          "CWE-388",
          "CWE-706"
         ],
         "xaxis": "x4",
         "y": [
          10,
          10,
          10,
          10,
          10,
          10,
          10,
          10,
          10,
          10
         ],
         "yaxis": "y4"
        },
        {
         "alignmentgroup": "True",
         "hovertemplate": "CWE ID=%{x}<br>Impact Score (v3.1)=%{marker.color}<extra></extra>",
         "legendgroup": "",
         "marker": {
          "color": [
           6,
           5.95,
           5.95,
           5.95,
           5.941666666666666,
           5.94,
           5.933333333333334,
           5.925000000000001,
           5.905882352941177,
           5.900000000000001
          ],
          "coloraxis": "coloraxis",
          "pattern": {
           "shape": ""
          }
         },
         "name": "",
         "offsetgroup": "",
         "orientation": "v",
         "showlegend": false,
         "textposition": "auto",
         "type": "bar",
         "x": [
          "CWE-444",
          "CWE-285",
          "CWE-782",
          "CWE-270",
          "CWE-121",
          "CWE-917",
          "CWE-1284",
          "CWE-522",
          "CWE-434",
          "CWE-352"
         ],
         "xaxis": "x5",
         "y": [
          6,
          5.95,
          5.95,
          5.95,
          5.941666666666666,
          5.94,
          5.933333333333334,
          5.925000000000001,
          5.905882352941177,
          5.900000000000001
         ],
         "yaxis": "y5"
        },
        {
         "alignmentgroup": "True",
         "hovertemplate": "CWE ID=%{x}<br>Impact Score (v2.0)=%{marker.color}<extra></extra>",
         "legendgroup": "",
         "marker": {
          "color": [
           10,
           10,
           10,
           10,
           10,
           10,
           10,
           10,
           10,
           10
          ],
          "coloraxis": "coloraxis",
          "pattern": {
           "shape": ""
          }
         },
         "name": "",
         "offsetgroup": "",
         "orientation": "v",
         "showlegend": false,
         "textposition": "auto",
         "type": "bar",
         "x": [
          "CWE-824",
          "CWE-270",
          "CWE-415",
          "CWE-754",
          "CWE-193",
          "CWE-191",
          "CWE-667",
          "CWE-91",
          "CWE-610",
          "CWE-131"
         ],
         "xaxis": "x6",
         "y": [
          10,
          10,
          10,
          10,
          10,
          10,
          10,
          10,
          10,
          10
         ],
         "yaxis": "y6"
        }
       ],
       "layout": {
        "annotations": [
         {
          "font": {
           "size": 16
          },
          "showarrow": false,
          "text": "Top 10 CWE por baseScore (v3.1)",
          "x": 0.225,
          "xanchor": "center",
          "xref": "paper",
          "y": 1,
          "yanchor": "bottom",
          "yref": "paper"
         },
         {
          "font": {
           "size": 16
          },
          "showarrow": false,
          "text": "Top 10 CWE por baseScore (v2.0)",
          "x": 0.775,
          "xanchor": "center",
          "xref": "paper",
          "y": 1,
          "yanchor": "bottom",
          "yref": "paper"
         },
         {
          "font": {
           "size": 16
          },
          "showarrow": false,
          "text": "Top 10 CWE por exploitabilityScore (v3.1)",
          "x": 0.225,
          "xanchor": "center",
          "xref": "paper",
          "y": 0.6111111111111112,
          "yanchor": "bottom",
          "yref": "paper"
         },
         {
          "font": {
           "size": 16
          },
          "showarrow": false,
          "text": "Top 10 CWE por exploitabilityScore (v2.0)",
          "x": 0.775,
          "xanchor": "center",
          "xref": "paper",
          "y": 0.6111111111111112,
          "yanchor": "bottom",
          "yref": "paper"
         },
         {
          "font": {
           "size": 16
          },
          "showarrow": false,
          "text": "Top 10 CWE por impactScore (v3.1)",
          "x": 0.225,
          "xanchor": "center",
          "xref": "paper",
          "y": 0.22222222222222224,
          "yanchor": "bottom",
          "yref": "paper"
         },
         {
          "font": {
           "size": 16
          },
          "showarrow": false,
          "text": "Top 10 CWE por impactScore (v2.0)",
          "x": 0.775,
          "xanchor": "center",
          "xref": "paper",
          "y": 0.22222222222222224,
          "yanchor": "bottom",
          "yref": "paper"
         }
        ],
        "height": 1000,
        "template": {
         "data": {
          "bar": [
           {
            "error_x": {
             "color": "#2a3f5f"
            },
            "error_y": {
             "color": "#2a3f5f"
            },
            "marker": {
             "line": {
              "color": "#E5ECF6",
              "width": 0.5
             },
             "pattern": {
              "fillmode": "overlay",
              "size": 10,
              "solidity": 0.2
             }
            },
            "type": "bar"
           }
          ],
          "barpolar": [
           {
            "marker": {
             "line": {
              "color": "#E5ECF6",
              "width": 0.5
             },
             "pattern": {
              "fillmode": "overlay",
              "size": 10,
              "solidity": 0.2
             }
            },
            "type": "barpolar"
           }
          ],
          "carpet": [
           {
            "aaxis": {
             "endlinecolor": "#2a3f5f",
             "gridcolor": "white",
             "linecolor": "white",
             "minorgridcolor": "white",
             "startlinecolor": "#2a3f5f"
            },
            "baxis": {
             "endlinecolor": "#2a3f5f",
             "gridcolor": "white",
             "linecolor": "white",
             "minorgridcolor": "white",
             "startlinecolor": "#2a3f5f"
            },
            "type": "carpet"
           }
          ],
          "choropleth": [
           {
            "colorbar": {
             "outlinewidth": 0,
             "ticks": ""
            },
            "type": "choropleth"
           }
          ],
          "contour": [
           {
            "colorbar": {
             "outlinewidth": 0,
             "ticks": ""
            },
            "colorscale": [
             [
              0,
              "#0d0887"
             ],
             [
              0.1111111111111111,
              "#46039f"
             ],
             [
              0.2222222222222222,
              "#7201a8"
             ],
             [
              0.3333333333333333,
              "#9c179e"
             ],
             [
              0.4444444444444444,
              "#bd3786"
             ],
             [
              0.5555555555555556,
              "#d8576b"
             ],
             [
              0.6666666666666666,
              "#ed7953"
             ],
             [
              0.7777777777777778,
              "#fb9f3a"
             ],
             [
              0.8888888888888888,
              "#fdca26"
             ],
             [
              1,
              "#f0f921"
             ]
            ],
            "type": "contour"
           }
          ],
          "contourcarpet": [
           {
            "colorbar": {
             "outlinewidth": 0,
             "ticks": ""
            },
            "type": "contourcarpet"
           }
          ],
          "heatmap": [
           {
            "colorbar": {
             "outlinewidth": 0,
             "ticks": ""
            },
            "colorscale": [
             [
              0,
              "#0d0887"
             ],
             [
              0.1111111111111111,
              "#46039f"
             ],
             [
              0.2222222222222222,
              "#7201a8"
             ],
             [
              0.3333333333333333,
              "#9c179e"
             ],
             [
              0.4444444444444444,
              "#bd3786"
             ],
             [
              0.5555555555555556,
              "#d8576b"
             ],
             [
              0.6666666666666666,
              "#ed7953"
             ],
             [
              0.7777777777777778,
              "#fb9f3a"
             ],
             [
              0.8888888888888888,
              "#fdca26"
             ],
             [
              1,
              "#f0f921"
             ]
            ],
            "type": "heatmap"
           }
          ],
          "heatmapgl": [
           {
            "colorbar": {
             "outlinewidth": 0,
             "ticks": ""
            },
            "colorscale": [
             [
              0,
              "#0d0887"
             ],
             [
              0.1111111111111111,
              "#46039f"
             ],
             [
              0.2222222222222222,
              "#7201a8"
             ],
             [
              0.3333333333333333,
              "#9c179e"
             ],
             [
              0.4444444444444444,
              "#bd3786"
             ],
             [
              0.5555555555555556,
              "#d8576b"
             ],
             [
              0.6666666666666666,
              "#ed7953"
             ],
             [
              0.7777777777777778,
              "#fb9f3a"
             ],
             [
              0.8888888888888888,
              "#fdca26"
             ],
             [
              1,
              "#f0f921"
             ]
            ],
            "type": "heatmapgl"
           }
          ],
          "histogram": [
           {
            "marker": {
             "pattern": {
              "fillmode": "overlay",
              "size": 10,
              "solidity": 0.2
             }
            },
            "type": "histogram"
           }
          ],
          "histogram2d": [
           {
            "colorbar": {
             "outlinewidth": 0,
             "ticks": ""
            },
            "colorscale": [
             [
              0,
              "#0d0887"
             ],
             [
              0.1111111111111111,
              "#46039f"
             ],
             [
              0.2222222222222222,
              "#7201a8"
             ],
             [
              0.3333333333333333,
              "#9c179e"
             ],
             [
              0.4444444444444444,
              "#bd3786"
             ],
             [
              0.5555555555555556,
              "#d8576b"
             ],
             [
              0.6666666666666666,
              "#ed7953"
             ],
             [
              0.7777777777777778,
              "#fb9f3a"
             ],
             [
              0.8888888888888888,
              "#fdca26"
             ],
             [
              1,
              "#f0f921"
             ]
            ],
            "type": "histogram2d"
           }
          ],
          "histogram2dcontour": [
           {
            "colorbar": {
             "outlinewidth": 0,
             "ticks": ""
            },
            "colorscale": [
             [
              0,
              "#0d0887"
             ],
             [
              0.1111111111111111,
              "#46039f"
             ],
             [
              0.2222222222222222,
              "#7201a8"
             ],
             [
              0.3333333333333333,
              "#9c179e"
             ],
             [
              0.4444444444444444,
              "#bd3786"
             ],
             [
              0.5555555555555556,
              "#d8576b"
             ],
             [
              0.6666666666666666,
              "#ed7953"
             ],
             [
              0.7777777777777778,
              "#fb9f3a"
             ],
             [
              0.8888888888888888,
              "#fdca26"
             ],
             [
              1,
              "#f0f921"
             ]
            ],
            "type": "histogram2dcontour"
           }
          ],
          "mesh3d": [
           {
            "colorbar": {
             "outlinewidth": 0,
             "ticks": ""
            },
            "type": "mesh3d"
           }
          ],
          "parcoords": [
           {
            "line": {
             "colorbar": {
              "outlinewidth": 0,
              "ticks": ""
             }
            },
            "type": "parcoords"
           }
          ],
          "pie": [
           {
            "automargin": true,
            "type": "pie"
           }
          ],
          "scatter": [
           {
            "fillpattern": {
             "fillmode": "overlay",
             "size": 10,
             "solidity": 0.2
            },
            "type": "scatter"
           }
          ],
          "scatter3d": [
           {
            "line": {
             "colorbar": {
              "outlinewidth": 0,
              "ticks": ""
             }
            },
            "marker": {
             "colorbar": {
              "outlinewidth": 0,
              "ticks": ""
             }
            },
            "type": "scatter3d"
           }
          ],
          "scattercarpet": [
           {
            "marker": {
             "colorbar": {
              "outlinewidth": 0,
              "ticks": ""
             }
            },
            "type": "scattercarpet"
           }
          ],
          "scattergeo": [
           {
            "marker": {
             "colorbar": {
              "outlinewidth": 0,
              "ticks": ""
             }
            },
            "type": "scattergeo"
           }
          ],
          "scattergl": [
           {
            "marker": {
             "colorbar": {
              "outlinewidth": 0,
              "ticks": ""
             }
            },
            "type": "scattergl"
           }
          ],
          "scattermapbox": [
           {
            "marker": {
             "colorbar": {
              "outlinewidth": 0,
              "ticks": ""
             }
            },
            "type": "scattermapbox"
           }
          ],
          "scatterpolar": [
           {
            "marker": {
             "colorbar": {
              "outlinewidth": 0,
              "ticks": ""
             }
            },
            "type": "scatterpolar"
           }
          ],
          "scatterpolargl": [
           {
            "marker": {
             "colorbar": {
              "outlinewidth": 0,
              "ticks": ""
             }
            },
            "type": "scatterpolargl"
           }
          ],
          "scatterternary": [
           {
            "marker": {
             "colorbar": {
              "outlinewidth": 0,
              "ticks": ""
             }
            },
            "type": "scatterternary"
           }
          ],
          "surface": [
           {
            "colorbar": {
             "outlinewidth": 0,
             "ticks": ""
            },
            "colorscale": [
             [
              0,
              "#0d0887"
             ],
             [
              0.1111111111111111,
              "#46039f"
             ],
             [
              0.2222222222222222,
              "#7201a8"
             ],
             [
              0.3333333333333333,
              "#9c179e"
             ],
             [
              0.4444444444444444,
              "#bd3786"
             ],
             [
              0.5555555555555556,
              "#d8576b"
             ],
             [
              0.6666666666666666,
              "#ed7953"
             ],
             [
              0.7777777777777778,
              "#fb9f3a"
             ],
             [
              0.8888888888888888,
              "#fdca26"
             ],
             [
              1,
              "#f0f921"
             ]
            ],
            "type": "surface"
           }
          ],
          "table": [
           {
            "cells": {
             "fill": {
              "color": "#EBF0F8"
             },
             "line": {
              "color": "white"
             }
            },
            "header": {
             "fill": {
              "color": "#C8D4E3"
             },
             "line": {
              "color": "white"
             }
            },
            "type": "table"
           }
          ]
         },
         "layout": {
          "annotationdefaults": {
           "arrowcolor": "#2a3f5f",
           "arrowhead": 0,
           "arrowwidth": 1
          },
          "autotypenumbers": "strict",
          "coloraxis": {
           "colorbar": {
            "outlinewidth": 0,
            "ticks": ""
           }
          },
          "colorscale": {
           "diverging": [
            [
             0,
             "#8e0152"
            ],
            [
             0.1,
             "#c51b7d"
            ],
            [
             0.2,
             "#de77ae"
            ],
            [
             0.3,
             "#f1b6da"
            ],
            [
             0.4,
             "#fde0ef"
            ],
            [
             0.5,
             "#f7f7f7"
            ],
            [
             0.6,
             "#e6f5d0"
            ],
            [
             0.7,
             "#b8e186"
            ],
            [
             0.8,
             "#7fbc41"
            ],
            [
             0.9,
             "#4d9221"
            ],
            [
             1,
             "#276419"
            ]
           ],
           "sequential": [
            [
             0,
             "#0d0887"
            ],
            [
             0.1111111111111111,
             "#46039f"
            ],
            [
             0.2222222222222222,
             "#7201a8"
            ],
            [
             0.3333333333333333,
             "#9c179e"
            ],
            [
             0.4444444444444444,
             "#bd3786"
            ],
            [
             0.5555555555555556,
             "#d8576b"
            ],
            [
             0.6666666666666666,
             "#ed7953"
            ],
            [
             0.7777777777777778,
             "#fb9f3a"
            ],
            [
             0.8888888888888888,
             "#fdca26"
            ],
            [
             1,
             "#f0f921"
            ]
           ],
           "sequentialminus": [
            [
             0,
             "#0d0887"
            ],
            [
             0.1111111111111111,
             "#46039f"
            ],
            [
             0.2222222222222222,
             "#7201a8"
            ],
            [
             0.3333333333333333,
             "#9c179e"
            ],
            [
             0.4444444444444444,
             "#bd3786"
            ],
            [
             0.5555555555555556,
             "#d8576b"
            ],
            [
             0.6666666666666666,
             "#ed7953"
            ],
            [
             0.7777777777777778,
             "#fb9f3a"
            ],
            [
             0.8888888888888888,
             "#fdca26"
            ],
            [
             1,
             "#f0f921"
            ]
           ]
          },
          "colorway": [
           "#636efa",
           "#EF553B",
           "#00cc96",
           "#ab63fa",
           "#FFA15A",
           "#19d3f3",
           "#FF6692",
           "#B6E880",
           "#FF97FF",
           "#FECB52"
          ],
          "font": {
           "color": "#2a3f5f"
          },
          "geo": {
           "bgcolor": "white",
           "lakecolor": "white",
           "landcolor": "#E5ECF6",
           "showlakes": true,
           "showland": true,
           "subunitcolor": "white"
          },
          "hoverlabel": {
           "align": "left"
          },
          "hovermode": "closest",
          "mapbox": {
           "style": "light"
          },
          "paper_bgcolor": "white",
          "plot_bgcolor": "#E5ECF6",
          "polar": {
           "angularaxis": {
            "gridcolor": "white",
            "linecolor": "white",
            "ticks": ""
           },
           "bgcolor": "#E5ECF6",
           "radialaxis": {
            "gridcolor": "white",
            "linecolor": "white",
            "ticks": ""
           }
          },
          "scene": {
           "xaxis": {
            "backgroundcolor": "#E5ECF6",
            "gridcolor": "white",
            "gridwidth": 2,
            "linecolor": "white",
            "showbackground": true,
            "ticks": "",
            "zerolinecolor": "white"
           },
           "yaxis": {
            "backgroundcolor": "#E5ECF6",
            "gridcolor": "white",
            "gridwidth": 2,
            "linecolor": "white",
            "showbackground": true,
            "ticks": "",
            "zerolinecolor": "white"
           },
           "zaxis": {
            "backgroundcolor": "#E5ECF6",
            "gridcolor": "white",
            "gridwidth": 2,
            "linecolor": "white",
            "showbackground": true,
            "ticks": "",
            "zerolinecolor": "white"
           }
          },
          "shapedefaults": {
           "line": {
            "color": "#2a3f5f"
           }
          },
          "ternary": {
           "aaxis": {
            "gridcolor": "white",
            "linecolor": "white",
            "ticks": ""
           },
           "baxis": {
            "gridcolor": "white",
            "linecolor": "white",
            "ticks": ""
           },
           "bgcolor": "#E5ECF6",
           "caxis": {
            "gridcolor": "white",
            "linecolor": "white",
            "ticks": ""
           }
          },
          "title": {
           "x": 0.05
          },
          "xaxis": {
           "automargin": true,
           "gridcolor": "white",
           "linecolor": "white",
           "ticks": "",
           "title": {
            "standoff": 15
           },
           "zerolinecolor": "white",
           "zerolinewidth": 2
          },
          "yaxis": {
           "automargin": true,
           "gridcolor": "white",
           "linecolor": "white",
           "ticks": "",
           "title": {
            "standoff": 15
           },
           "zerolinecolor": "white",
           "zerolinewidth": 2
          }
         }
        },
        "title": {
         "text": "Subplots de Métricas CVSS v3.1 y v2.0 por CWE"
        },
        "width": 1200,
        "xaxis": {
         "anchor": "y",
         "categoryorder": "total descending",
         "domain": [
          0,
          0.45
         ]
        },
        "xaxis2": {
         "anchor": "y2",
         "categoryorder": "total descending",
         "domain": [
          0.55,
          1
         ]
        },
        "xaxis3": {
         "anchor": "y3",
         "categoryorder": "total descending",
         "domain": [
          0,
          0.45
         ]
        },
        "xaxis4": {
         "anchor": "y4",
         "categoryorder": "total descending",
         "domain": [
          0.55,
          1
         ]
        },
        "xaxis5": {
         "anchor": "y5",
         "categoryorder": "total descending",
         "domain": [
          0,
          0.45
         ]
        },
        "xaxis6": {
         "anchor": "y6",
         "categoryorder": "total descending",
         "domain": [
          0.55,
          1
         ]
        },
        "yaxis": {
         "anchor": "x",
         "domain": [
          0.7777777777777778,
          1
         ]
        },
        "yaxis2": {
         "anchor": "x2",
         "domain": [
          0.7777777777777778,
          1
         ]
        },
        "yaxis3": {
         "anchor": "x3",
         "domain": [
          0.3888888888888889,
          0.6111111111111112
         ]
        },
        "yaxis4": {
         "anchor": "x4",
         "domain": [
          0.3888888888888889,
          0.6111111111111112
         ]
        },
        "yaxis5": {
         "anchor": "x5",
         "domain": [
          0,
          0.22222222222222224
         ]
        },
        "yaxis6": {
         "anchor": "x6",
         "domain": [
          0,
          0.22222222222222224
         ]
        }
       }
      }
     },
     "metadata": {},
     "output_type": "display_data"
    }
   ],
   "source": [
    "import plotly.express as px\n",
    "import plotly.subplots as sp\n",
    "\n",
    "# Crear subplots\n",
    "fig = sp.make_subplots(rows=3, cols=2, subplot_titles=[\n",
    "    \"Top 10 CWE por baseScore (v3.1)\", \n",
    "    \"Top 10 CWE por baseScore (v2.0)\", \n",
    "    \"Top 10 CWE por exploitabilityScore (v3.1)\", \n",
    "    \"Top 10 CWE por exploitabilityScore (v2.0)\", \n",
    "    \"Top 10 CWE por impactScore (v3.1)\", \n",
    "    \"Top 10 CWE por impactScore (v2.0)\"\n",
    "])\n",
    "\n",
    "# Gráfico de barras para baseScore v3.1\n",
    "fig_baseScore_v31 = px.bar(top_baseScore_v31.head(10), \n",
    "                           x='cwe_id', y='baseScore_v31', \n",
    "                           labels={'baseScore_v31': 'Base Score (v3.1)', 'cwe_id': 'CWE ID'},\n",
    "                           color='baseScore_v31')\n",
    "\n",
    "# Gráfico de barras para baseScore v2.0\n",
    "fig_baseScore_v2 = px.bar(top_baseScore_v2.head(10), \n",
    "                          x='cwe_id', y='baseScore_v2', \n",
    "                          labels={'baseScore_v2': 'Base Score (v2.0)', 'cwe_id': 'CWE ID'},\n",
    "                          color='baseScore_v2')\n",
    "\n",
    "# Gráfico de barras para exploitabilityScore v3.1\n",
    "fig_exploitability_v31 = px.bar(top_exploitabilityScore_v31.head(10), \n",
    "                                x='cwe_id', y='exploitabilityScore_v31', \n",
    "                                labels={'exploitabilityScore_v31': 'Exploitability (v3.1)', 'cwe_id': 'CWE ID'},\n",
    "                                color='exploitabilityScore_v31')\n",
    "\n",
    "# Gráfico de barras para exploitabilityScore v2.0\n",
    "fig_exploitability_v2 = px.bar(top_exploitabilityScore_v2.head(10), \n",
    "                               x='cwe_id', y='exploitabilityScore_v2', \n",
    "                               labels={'exploitabilityScore_v2': 'Exploitability (v2.0)', 'cwe_id': 'CWE ID'},\n",
    "                               color='exploitabilityScore_v2')\n",
    "\n",
    "# Gráfico de barras para impactScore v3.1\n",
    "fig_impact_v31 = px.bar(top_impactScore_v31.head(10), \n",
    "                        x='cwe_id', y='impactScore_v31', \n",
    "                        labels={'impactScore_v31': 'Impact Score (v3.1)', 'cwe_id': 'CWE ID'},\n",
    "                        color='impactScore_v31')\n",
    "\n",
    "# Gráfico de barras para impactScore v2.0\n",
    "fig_impact_v2 = px.bar(top_impactScore_v2.head(10), \n",
    "                       x='cwe_id', y='impactScore_v2', \n",
    "                       labels={'impactScore_v2': 'Impact Score (v2.0)', 'cwe_id': 'CWE ID'},\n",
    "                       color='impactScore_v2')\n",
    "\n",
    "# Añadir gráficos a los subplots\n",
    "fig.add_traces(fig_baseScore_v31['data'], rows=1, cols=1)\n",
    "fig.add_traces(fig_baseScore_v2['data'], rows=1, cols=2)\n",
    "fig.add_traces(fig_exploitability_v31['data'], rows=2, cols=1)\n",
    "fig.add_traces(fig_exploitability_v2['data'], rows=2, cols=2)\n",
    "fig.add_traces(fig_impact_v31['data'], rows=3, cols=1)\n",
    "fig.add_traces(fig_impact_v2['data'], rows=3, cols=2)\n",
    "\n",
    "# Ajustes finales\n",
    "fig.update_layout(height=1000, width=1200, title_text=\"Subplots de Métricas CVSS v3.1 y v2.0 por CWE\")\n",
    "fig.update_xaxes(categoryorder='total descending')\n",
    "\n",
    "fig.show()\n"
   ]
  },
  {
   "cell_type": "code",
   "execution_count": 15,
   "metadata": {},
   "outputs": [
    {
     "data": {
      "application/vnd.plotly.v1+json": {
       "config": {
        "plotlyServerURL": "https://plot.ly"
       },
       "data": [
        {
         "colorscale": [
          [
           0,
           "#440154"
          ],
          [
           0.1111111111111111,
           "#482878"
          ],
          [
           0.2222222222222222,
           "#3e4989"
          ],
          [
           0.3333333333333333,
           "#31688e"
          ],
          [
           0.4444444444444444,
           "#26828e"
          ],
          [
           0.5555555555555556,
           "#1f9e89"
          ],
          [
           0.6666666666666666,
           "#35b779"
          ],
          [
           0.7777777777777778,
           "#6ece58"
          ],
          [
           0.8888888888888888,
           "#b5de2b"
          ],
          [
           1,
           "#fde725"
          ]
         ],
         "reversescale": false,
         "showscale": false,
         "type": "heatmap",
         "x": [
          "baseScore_v31",
          "exploitabilityScore_v31",
          "impactScore_v31",
          "baseScore_v2",
          "exploitabilityScore_v2",
          "impactScore_v2"
         ],
         "y": [
          "baseScore_v31",
          "exploitabilityScore_v31",
          "impactScore_v31",
          "baseScore_v2",
          "exploitabilityScore_v2",
          "impactScore_v2"
         ],
         "z": [
          [
           1,
           0.6105254527032619,
           0.7065616152462818,
           0.6276332426004407,
           0.4543323233325042,
           0.40063810681545603
          ],
          [
           0.6105254527032619,
           1,
           -0.11507737688169628,
           0.3008404918995797,
           0.7515001308554284,
           -0.14068928407721074
          ],
          [
           0.7065616152462818,
           -0.11507737688169628,
           1,
           0.5357244549821416,
           -0.08680459129629635,
           0.6378325810686715
          ],
          [
           0.6276332426004407,
           0.3008404918995797,
           0.5357244549821416,
           1,
           0.4331982114613035,
           0.8286117338744948
          ],
          [
           0.4543323233325042,
           0.7515001308554284,
           -0.08680459129629635,
           0.4331982114613035,
           1,
           -0.14529707375344258
          ],
          [
           0.40063810681545603,
           -0.14068928407721074,
           0.6378325810686715,
           0.8286117338744948,
           -0.14529707375344258,
           1
          ]
         ]
        }
       ],
       "layout": {
        "annotations": [
         {
          "font": {
           "color": "#000000"
          },
          "showarrow": false,
          "text": "1.0",
          "x": "baseScore_v31",
          "xref": "x",
          "y": "baseScore_v31",
          "yref": "y"
         },
         {
          "font": {
           "color": "#000000"
          },
          "showarrow": false,
          "text": "0.61",
          "x": "exploitabilityScore_v31",
          "xref": "x",
          "y": "baseScore_v31",
          "yref": "y"
         },
         {
          "font": {
           "color": "#000000"
          },
          "showarrow": false,
          "text": "0.71",
          "x": "impactScore_v31",
          "xref": "x",
          "y": "baseScore_v31",
          "yref": "y"
         },
         {
          "font": {
           "color": "#000000"
          },
          "showarrow": false,
          "text": "0.63",
          "x": "baseScore_v2",
          "xref": "x",
          "y": "baseScore_v31",
          "yref": "y"
         },
         {
          "font": {
           "color": "#000000"
          },
          "showarrow": false,
          "text": "0.45",
          "x": "exploitabilityScore_v2",
          "xref": "x",
          "y": "baseScore_v31",
          "yref": "y"
         },
         {
          "font": {
           "color": "#FFFFFF"
          },
          "showarrow": false,
          "text": "0.4",
          "x": "impactScore_v2",
          "xref": "x",
          "y": "baseScore_v31",
          "yref": "y"
         },
         {
          "font": {
           "color": "#000000"
          },
          "showarrow": false,
          "text": "0.61",
          "x": "baseScore_v31",
          "xref": "x",
          "y": "exploitabilityScore_v31",
          "yref": "y"
         },
         {
          "font": {
           "color": "#000000"
          },
          "showarrow": false,
          "text": "1.0",
          "x": "exploitabilityScore_v31",
          "xref": "x",
          "y": "exploitabilityScore_v31",
          "yref": "y"
         },
         {
          "font": {
           "color": "#FFFFFF"
          },
          "showarrow": false,
          "text": "-0.12",
          "x": "impactScore_v31",
          "xref": "x",
          "y": "exploitabilityScore_v31",
          "yref": "y"
         },
         {
          "font": {
           "color": "#FFFFFF"
          },
          "showarrow": false,
          "text": "0.3",
          "x": "baseScore_v2",
          "xref": "x",
          "y": "exploitabilityScore_v31",
          "yref": "y"
         },
         {
          "font": {
           "color": "#000000"
          },
          "showarrow": false,
          "text": "0.75",
          "x": "exploitabilityScore_v2",
          "xref": "x",
          "y": "exploitabilityScore_v31",
          "yref": "y"
         },
         {
          "font": {
           "color": "#FFFFFF"
          },
          "showarrow": false,
          "text": "-0.14",
          "x": "impactScore_v2",
          "xref": "x",
          "y": "exploitabilityScore_v31",
          "yref": "y"
         },
         {
          "font": {
           "color": "#000000"
          },
          "showarrow": false,
          "text": "0.71",
          "x": "baseScore_v31",
          "xref": "x",
          "y": "impactScore_v31",
          "yref": "y"
         },
         {
          "font": {
           "color": "#FFFFFF"
          },
          "showarrow": false,
          "text": "-0.12",
          "x": "exploitabilityScore_v31",
          "xref": "x",
          "y": "impactScore_v31",
          "yref": "y"
         },
         {
          "font": {
           "color": "#000000"
          },
          "showarrow": false,
          "text": "1.0",
          "x": "impactScore_v31",
          "xref": "x",
          "y": "impactScore_v31",
          "yref": "y"
         },
         {
          "font": {
           "color": "#000000"
          },
          "showarrow": false,
          "text": "0.54",
          "x": "baseScore_v2",
          "xref": "x",
          "y": "impactScore_v31",
          "yref": "y"
         },
         {
          "font": {
           "color": "#FFFFFF"
          },
          "showarrow": false,
          "text": "-0.09",
          "x": "exploitabilityScore_v2",
          "xref": "x",
          "y": "impactScore_v31",
          "yref": "y"
         },
         {
          "font": {
           "color": "#000000"
          },
          "showarrow": false,
          "text": "0.64",
          "x": "impactScore_v2",
          "xref": "x",
          "y": "impactScore_v31",
          "yref": "y"
         },
         {
          "font": {
           "color": "#000000"
          },
          "showarrow": false,
          "text": "0.63",
          "x": "baseScore_v31",
          "xref": "x",
          "y": "baseScore_v2",
          "yref": "y"
         },
         {
          "font": {
           "color": "#FFFFFF"
          },
          "showarrow": false,
          "text": "0.3",
          "x": "exploitabilityScore_v31",
          "xref": "x",
          "y": "baseScore_v2",
          "yref": "y"
         },
         {
          "font": {
           "color": "#000000"
          },
          "showarrow": false,
          "text": "0.54",
          "x": "impactScore_v31",
          "xref": "x",
          "y": "baseScore_v2",
          "yref": "y"
         },
         {
          "font": {
           "color": "#000000"
          },
          "showarrow": false,
          "text": "1.0",
          "x": "baseScore_v2",
          "xref": "x",
          "y": "baseScore_v2",
          "yref": "y"
         },
         {
          "font": {
           "color": "#000000"
          },
          "showarrow": false,
          "text": "0.43",
          "x": "exploitabilityScore_v2",
          "xref": "x",
          "y": "baseScore_v2",
          "yref": "y"
         },
         {
          "font": {
           "color": "#000000"
          },
          "showarrow": false,
          "text": "0.83",
          "x": "impactScore_v2",
          "xref": "x",
          "y": "baseScore_v2",
          "yref": "y"
         },
         {
          "font": {
           "color": "#000000"
          },
          "showarrow": false,
          "text": "0.45",
          "x": "baseScore_v31",
          "xref": "x",
          "y": "exploitabilityScore_v2",
          "yref": "y"
         },
         {
          "font": {
           "color": "#000000"
          },
          "showarrow": false,
          "text": "0.75",
          "x": "exploitabilityScore_v31",
          "xref": "x",
          "y": "exploitabilityScore_v2",
          "yref": "y"
         },
         {
          "font": {
           "color": "#FFFFFF"
          },
          "showarrow": false,
          "text": "-0.09",
          "x": "impactScore_v31",
          "xref": "x",
          "y": "exploitabilityScore_v2",
          "yref": "y"
         },
         {
          "font": {
           "color": "#000000"
          },
          "showarrow": false,
          "text": "0.43",
          "x": "baseScore_v2",
          "xref": "x",
          "y": "exploitabilityScore_v2",
          "yref": "y"
         },
         {
          "font": {
           "color": "#000000"
          },
          "showarrow": false,
          "text": "1.0",
          "x": "exploitabilityScore_v2",
          "xref": "x",
          "y": "exploitabilityScore_v2",
          "yref": "y"
         },
         {
          "font": {
           "color": "#FFFFFF"
          },
          "showarrow": false,
          "text": "-0.15",
          "x": "impactScore_v2",
          "xref": "x",
          "y": "exploitabilityScore_v2",
          "yref": "y"
         },
         {
          "font": {
           "color": "#FFFFFF"
          },
          "showarrow": false,
          "text": "0.4",
          "x": "baseScore_v31",
          "xref": "x",
          "y": "impactScore_v2",
          "yref": "y"
         },
         {
          "font": {
           "color": "#FFFFFF"
          },
          "showarrow": false,
          "text": "-0.14",
          "x": "exploitabilityScore_v31",
          "xref": "x",
          "y": "impactScore_v2",
          "yref": "y"
         },
         {
          "font": {
           "color": "#000000"
          },
          "showarrow": false,
          "text": "0.64",
          "x": "impactScore_v31",
          "xref": "x",
          "y": "impactScore_v2",
          "yref": "y"
         },
         {
          "font": {
           "color": "#000000"
          },
          "showarrow": false,
          "text": "0.83",
          "x": "baseScore_v2",
          "xref": "x",
          "y": "impactScore_v2",
          "yref": "y"
         },
         {
          "font": {
           "color": "#FFFFFF"
          },
          "showarrow": false,
          "text": "-0.15",
          "x": "exploitabilityScore_v2",
          "xref": "x",
          "y": "impactScore_v2",
          "yref": "y"
         },
         {
          "font": {
           "color": "#000000"
          },
          "showarrow": false,
          "text": "1.0",
          "x": "impactScore_v2",
          "xref": "x",
          "y": "impactScore_v2",
          "yref": "y"
         }
        ],
        "height": 500,
        "template": {
         "data": {
          "bar": [
           {
            "error_x": {
             "color": "#2a3f5f"
            },
            "error_y": {
             "color": "#2a3f5f"
            },
            "marker": {
             "line": {
              "color": "#E5ECF6",
              "width": 0.5
             },
             "pattern": {
              "fillmode": "overlay",
              "size": 10,
              "solidity": 0.2
             }
            },
            "type": "bar"
           }
          ],
          "barpolar": [
           {
            "marker": {
             "line": {
              "color": "#E5ECF6",
              "width": 0.5
             },
             "pattern": {
              "fillmode": "overlay",
              "size": 10,
              "solidity": 0.2
             }
            },
            "type": "barpolar"
           }
          ],
          "carpet": [
           {
            "aaxis": {
             "endlinecolor": "#2a3f5f",
             "gridcolor": "white",
             "linecolor": "white",
             "minorgridcolor": "white",
             "startlinecolor": "#2a3f5f"
            },
            "baxis": {
             "endlinecolor": "#2a3f5f",
             "gridcolor": "white",
             "linecolor": "white",
             "minorgridcolor": "white",
             "startlinecolor": "#2a3f5f"
            },
            "type": "carpet"
           }
          ],
          "choropleth": [
           {
            "colorbar": {
             "outlinewidth": 0,
             "ticks": ""
            },
            "type": "choropleth"
           }
          ],
          "contour": [
           {
            "colorbar": {
             "outlinewidth": 0,
             "ticks": ""
            },
            "colorscale": [
             [
              0,
              "#0d0887"
             ],
             [
              0.1111111111111111,
              "#46039f"
             ],
             [
              0.2222222222222222,
              "#7201a8"
             ],
             [
              0.3333333333333333,
              "#9c179e"
             ],
             [
              0.4444444444444444,
              "#bd3786"
             ],
             [
              0.5555555555555556,
              "#d8576b"
             ],
             [
              0.6666666666666666,
              "#ed7953"
             ],
             [
              0.7777777777777778,
              "#fb9f3a"
             ],
             [
              0.8888888888888888,
              "#fdca26"
             ],
             [
              1,
              "#f0f921"
             ]
            ],
            "type": "contour"
           }
          ],
          "contourcarpet": [
           {
            "colorbar": {
             "outlinewidth": 0,
             "ticks": ""
            },
            "type": "contourcarpet"
           }
          ],
          "heatmap": [
           {
            "colorbar": {
             "outlinewidth": 0,
             "ticks": ""
            },
            "colorscale": [
             [
              0,
              "#0d0887"
             ],
             [
              0.1111111111111111,
              "#46039f"
             ],
             [
              0.2222222222222222,
              "#7201a8"
             ],
             [
              0.3333333333333333,
              "#9c179e"
             ],
             [
              0.4444444444444444,
              "#bd3786"
             ],
             [
              0.5555555555555556,
              "#d8576b"
             ],
             [
              0.6666666666666666,
              "#ed7953"
             ],
             [
              0.7777777777777778,
              "#fb9f3a"
             ],
             [
              0.8888888888888888,
              "#fdca26"
             ],
             [
              1,
              "#f0f921"
             ]
            ],
            "type": "heatmap"
           }
          ],
          "heatmapgl": [
           {
            "colorbar": {
             "outlinewidth": 0,
             "ticks": ""
            },
            "colorscale": [
             [
              0,
              "#0d0887"
             ],
             [
              0.1111111111111111,
              "#46039f"
             ],
             [
              0.2222222222222222,
              "#7201a8"
             ],
             [
              0.3333333333333333,
              "#9c179e"
             ],
             [
              0.4444444444444444,
              "#bd3786"
             ],
             [
              0.5555555555555556,
              "#d8576b"
             ],
             [
              0.6666666666666666,
              "#ed7953"
             ],
             [
              0.7777777777777778,
              "#fb9f3a"
             ],
             [
              0.8888888888888888,
              "#fdca26"
             ],
             [
              1,
              "#f0f921"
             ]
            ],
            "type": "heatmapgl"
           }
          ],
          "histogram": [
           {
            "marker": {
             "pattern": {
              "fillmode": "overlay",
              "size": 10,
              "solidity": 0.2
             }
            },
            "type": "histogram"
           }
          ],
          "histogram2d": [
           {
            "colorbar": {
             "outlinewidth": 0,
             "ticks": ""
            },
            "colorscale": [
             [
              0,
              "#0d0887"
             ],
             [
              0.1111111111111111,
              "#46039f"
             ],
             [
              0.2222222222222222,
              "#7201a8"
             ],
             [
              0.3333333333333333,
              "#9c179e"
             ],
             [
              0.4444444444444444,
              "#bd3786"
             ],
             [
              0.5555555555555556,
              "#d8576b"
             ],
             [
              0.6666666666666666,
              "#ed7953"
             ],
             [
              0.7777777777777778,
              "#fb9f3a"
             ],
             [
              0.8888888888888888,
              "#fdca26"
             ],
             [
              1,
              "#f0f921"
             ]
            ],
            "type": "histogram2d"
           }
          ],
          "histogram2dcontour": [
           {
            "colorbar": {
             "outlinewidth": 0,
             "ticks": ""
            },
            "colorscale": [
             [
              0,
              "#0d0887"
             ],
             [
              0.1111111111111111,
              "#46039f"
             ],
             [
              0.2222222222222222,
              "#7201a8"
             ],
             [
              0.3333333333333333,
              "#9c179e"
             ],
             [
              0.4444444444444444,
              "#bd3786"
             ],
             [
              0.5555555555555556,
              "#d8576b"
             ],
             [
              0.6666666666666666,
              "#ed7953"
             ],
             [
              0.7777777777777778,
              "#fb9f3a"
             ],
             [
              0.8888888888888888,
              "#fdca26"
             ],
             [
              1,
              "#f0f921"
             ]
            ],
            "type": "histogram2dcontour"
           }
          ],
          "mesh3d": [
           {
            "colorbar": {
             "outlinewidth": 0,
             "ticks": ""
            },
            "type": "mesh3d"
           }
          ],
          "parcoords": [
           {
            "line": {
             "colorbar": {
              "outlinewidth": 0,
              "ticks": ""
             }
            },
            "type": "parcoords"
           }
          ],
          "pie": [
           {
            "automargin": true,
            "type": "pie"
           }
          ],
          "scatter": [
           {
            "fillpattern": {
             "fillmode": "overlay",
             "size": 10,
             "solidity": 0.2
            },
            "type": "scatter"
           }
          ],
          "scatter3d": [
           {
            "line": {
             "colorbar": {
              "outlinewidth": 0,
              "ticks": ""
             }
            },
            "marker": {
             "colorbar": {
              "outlinewidth": 0,
              "ticks": ""
             }
            },
            "type": "scatter3d"
           }
          ],
          "scattercarpet": [
           {
            "marker": {
             "colorbar": {
              "outlinewidth": 0,
              "ticks": ""
             }
            },
            "type": "scattercarpet"
           }
          ],
          "scattergeo": [
           {
            "marker": {
             "colorbar": {
              "outlinewidth": 0,
              "ticks": ""
             }
            },
            "type": "scattergeo"
           }
          ],
          "scattergl": [
           {
            "marker": {
             "colorbar": {
              "outlinewidth": 0,
              "ticks": ""
             }
            },
            "type": "scattergl"
           }
          ],
          "scattermapbox": [
           {
            "marker": {
             "colorbar": {
              "outlinewidth": 0,
              "ticks": ""
             }
            },
            "type": "scattermapbox"
           }
          ],
          "scatterpolar": [
           {
            "marker": {
             "colorbar": {
              "outlinewidth": 0,
              "ticks": ""
             }
            },
            "type": "scatterpolar"
           }
          ],
          "scatterpolargl": [
           {
            "marker": {
             "colorbar": {
              "outlinewidth": 0,
              "ticks": ""
             }
            },
            "type": "scatterpolargl"
           }
          ],
          "scatterternary": [
           {
            "marker": {
             "colorbar": {
              "outlinewidth": 0,
              "ticks": ""
             }
            },
            "type": "scatterternary"
           }
          ],
          "surface": [
           {
            "colorbar": {
             "outlinewidth": 0,
             "ticks": ""
            },
            "colorscale": [
             [
              0,
              "#0d0887"
             ],
             [
              0.1111111111111111,
              "#46039f"
             ],
             [
              0.2222222222222222,
              "#7201a8"
             ],
             [
              0.3333333333333333,
              "#9c179e"
             ],
             [
              0.4444444444444444,
              "#bd3786"
             ],
             [
              0.5555555555555556,
              "#d8576b"
             ],
             [
              0.6666666666666666,
              "#ed7953"
             ],
             [
              0.7777777777777778,
              "#fb9f3a"
             ],
             [
              0.8888888888888888,
              "#fdca26"
             ],
             [
              1,
              "#f0f921"
             ]
            ],
            "type": "surface"
           }
          ],
          "table": [
           {
            "cells": {
             "fill": {
              "color": "#EBF0F8"
             },
             "line": {
              "color": "white"
             }
            },
            "header": {
             "fill": {
              "color": "#C8D4E3"
             },
             "line": {
              "color": "white"
             }
            },
            "type": "table"
           }
          ]
         },
         "layout": {
          "annotationdefaults": {
           "arrowcolor": "#2a3f5f",
           "arrowhead": 0,
           "arrowwidth": 1
          },
          "autotypenumbers": "strict",
          "coloraxis": {
           "colorbar": {
            "outlinewidth": 0,
            "ticks": ""
           }
          },
          "colorscale": {
           "diverging": [
            [
             0,
             "#8e0152"
            ],
            [
             0.1,
             "#c51b7d"
            ],
            [
             0.2,
             "#de77ae"
            ],
            [
             0.3,
             "#f1b6da"
            ],
            [
             0.4,
             "#fde0ef"
            ],
            [
             0.5,
             "#f7f7f7"
            ],
            [
             0.6,
             "#e6f5d0"
            ],
            [
             0.7,
             "#b8e186"
            ],
            [
             0.8,
             "#7fbc41"
            ],
            [
             0.9,
             "#4d9221"
            ],
            [
             1,
             "#276419"
            ]
           ],
           "sequential": [
            [
             0,
             "#0d0887"
            ],
            [
             0.1111111111111111,
             "#46039f"
            ],
            [
             0.2222222222222222,
             "#7201a8"
            ],
            [
             0.3333333333333333,
             "#9c179e"
            ],
            [
             0.4444444444444444,
             "#bd3786"
            ],
            [
             0.5555555555555556,
             "#d8576b"
            ],
            [
             0.6666666666666666,
             "#ed7953"
            ],
            [
             0.7777777777777778,
             "#fb9f3a"
            ],
            [
             0.8888888888888888,
             "#fdca26"
            ],
            [
             1,
             "#f0f921"
            ]
           ],
           "sequentialminus": [
            [
             0,
             "#0d0887"
            ],
            [
             0.1111111111111111,
             "#46039f"
            ],
            [
             0.2222222222222222,
             "#7201a8"
            ],
            [
             0.3333333333333333,
             "#9c179e"
            ],
            [
             0.4444444444444444,
             "#bd3786"
            ],
            [
             0.5555555555555556,
             "#d8576b"
            ],
            [
             0.6666666666666666,
             "#ed7953"
            ],
            [
             0.7777777777777778,
             "#fb9f3a"
            ],
            [
             0.8888888888888888,
             "#fdca26"
            ],
            [
             1,
             "#f0f921"
            ]
           ]
          },
          "colorway": [
           "#636efa",
           "#EF553B",
           "#00cc96",
           "#ab63fa",
           "#FFA15A",
           "#19d3f3",
           "#FF6692",
           "#B6E880",
           "#FF97FF",
           "#FECB52"
          ],
          "font": {
           "color": "#2a3f5f"
          },
          "geo": {
           "bgcolor": "white",
           "lakecolor": "white",
           "landcolor": "#E5ECF6",
           "showlakes": true,
           "showland": true,
           "subunitcolor": "white"
          },
          "hoverlabel": {
           "align": "left"
          },
          "hovermode": "closest",
          "mapbox": {
           "style": "light"
          },
          "paper_bgcolor": "white",
          "plot_bgcolor": "#E5ECF6",
          "polar": {
           "angularaxis": {
            "gridcolor": "white",
            "linecolor": "white",
            "ticks": ""
           },
           "bgcolor": "#E5ECF6",
           "radialaxis": {
            "gridcolor": "white",
            "linecolor": "white",
            "ticks": ""
           }
          },
          "scene": {
           "xaxis": {
            "backgroundcolor": "#E5ECF6",
            "gridcolor": "white",
            "gridwidth": 2,
            "linecolor": "white",
            "showbackground": true,
            "ticks": "",
            "zerolinecolor": "white"
           },
           "yaxis": {
            "backgroundcolor": "#E5ECF6",
            "gridcolor": "white",
            "gridwidth": 2,
            "linecolor": "white",
            "showbackground": true,
            "ticks": "",
            "zerolinecolor": "white"
           },
           "zaxis": {
            "backgroundcolor": "#E5ECF6",
            "gridcolor": "white",
            "gridwidth": 2,
            "linecolor": "white",
            "showbackground": true,
            "ticks": "",
            "zerolinecolor": "white"
           }
          },
          "shapedefaults": {
           "line": {
            "color": "#2a3f5f"
           }
          },
          "ternary": {
           "aaxis": {
            "gridcolor": "white",
            "linecolor": "white",
            "ticks": ""
           },
           "baxis": {
            "gridcolor": "white",
            "linecolor": "white",
            "ticks": ""
           },
           "bgcolor": "#E5ECF6",
           "caxis": {
            "gridcolor": "white",
            "linecolor": "white",
            "ticks": ""
           }
          },
          "title": {
           "x": 0.05
          },
          "xaxis": {
           "automargin": true,
           "gridcolor": "white",
           "linecolor": "white",
           "ticks": "",
           "title": {
            "standoff": 15
           },
           "zerolinecolor": "white",
           "zerolinewidth": 2
          },
          "yaxis": {
           "automargin": true,
           "gridcolor": "white",
           "linecolor": "white",
           "ticks": "",
           "title": {
            "standoff": 15
           },
           "zerolinecolor": "white",
           "zerolinewidth": 2
          }
         }
        },
        "title": {
         "text": "Correlación entre Métricas CVSS v3.1 y v2"
        },
        "xaxis": {
         "dtick": 1,
         "gridcolor": "rgb(0, 0, 0)",
         "side": "top",
         "ticks": ""
        },
        "yaxis": {
         "dtick": 1,
         "ticks": "",
         "ticksuffix": "  "
        }
       }
      }
     },
     "metadata": {},
     "output_type": "display_data"
    }
   ],
   "source": [
    "import plotly.figure_factory as ff\n",
    "\n",
    "# Crear una tabla de correlación\n",
    "corr = df_full[['baseScore_v31', 'exploitabilityScore_v31', 'impactScore_v31', 'baseScore_v2', 'exploitabilityScore_v2', 'impactScore_v2']].corr()\n",
    "\n",
    "# Crear el heatmap\n",
    "fig = ff.create_annotated_heatmap(\n",
    "    z=corr.values, \n",
    "    x=list(corr.columns), \n",
    "    y=list(corr.columns), \n",
    "    annotation_text=corr.round(2).values,\n",
    "    colorscale='Viridis'\n",
    ")\n",
    "\n",
    "fig.update_layout(title_text='Correlación entre Métricas CVSS v3.1 y v2', height=500)\n",
    "fig.show()\n"
   ]
  },
  {
   "cell_type": "code",
   "execution_count": 16,
   "metadata": {},
   "outputs": [
    {
     "data": {
      "application/vnd.plotly.v1+json": {
       "config": {
        "plotlyServerURL": "https://plot.ly"
       },
       "data": [
        {
         "hovertemplate": "cwe_id=CWE-78<br>Exploitability Score (v3.1)=%{x}<br>Impact Score (v3.1)=%{y}<extra></extra>",
         "legendgroup": "CWE-78",
         "marker": {
          "color": "#636efa",
          "size": 12,
          "symbol": "circle"
         },
         "mode": "markers",
         "name": "CWE-78",
         "showlegend": true,
         "type": "scattergl",
         "x": [
          3.9,
          1.8,
          3.9,
          3.9,
          3.9,
          3.9,
          3.9,
          3.9,
          3.9,
          3.9,
          2.3,
          3.9,
          2.8,
          1.6,
          1.2,
          2.8,
          3.9,
          3.9,
          2.3,
          3.9,
          1.2,
          3.9,
          3.9,
          3.9,
          1.8,
          2.5,
          1.8,
          2.5,
          2.8,
          3.9,
          3.9,
          2.1,
          3.9,
          1.2,
          3.9,
          2.8,
          3.9,
          3.9,
          3.9,
          3.9,
          2.8,
          3.9,
          3.9,
          3.9,
          2.8,
          1.2,
          3.9,
          3.9,
          3.9,
          3.9,
          3.9,
          3.9,
          3.9,
          3.9,
          3.9,
          3.9,
          3.9,
          0.9,
          3.9,
          3.9,
          1.8,
          3.9,
          3.9,
          3.9,
          3.9,
          3.9,
          3.9,
          3.9,
          3.9,
          3.9,
          2.2,
          2.2
         ],
         "xaxis": "x",
         "y": [
          5.9,
          5.9,
          5.9,
          5.9,
          5.9,
          5.9,
          5.9,
          5.9,
          5.9,
          5.9,
          6,
          5.9,
          5.9,
          5.9,
          5.9,
          5.9,
          5.9,
          5.9,
          6,
          5.9,
          5.9,
          5.9,
          5.9,
          5.9,
          5.9,
          4,
          5.9,
          4,
          5.9,
          5.9,
          5.9,
          5.9,
          6,
          5.9,
          5.9,
          5.9,
          5.9,
          5.9,
          5.9,
          5.9,
          5.9,
          5.9,
          5.9,
          5.9,
          5.9,
          5.9,
          5.9,
          5.9,
          5.9,
          5.9,
          5.9,
          5.9,
          5.9,
          5.9,
          5.9,
          5.9,
          5.9,
          5.9,
          5.9,
          5.9,
          5.9,
          5.9,
          5.9,
          5.9,
          5.9,
          5.9,
          5.9,
          5.9,
          5.9,
          5.9,
          5.2,
          5.2
         ],
         "yaxis": "y"
        },
        {
         "hovertemplate": "cwe_id=NVD-CWE-Other<br>Exploitability Score (v3.1)=%{x}<br>Impact Score (v3.1)=%{y}<extra></extra>",
         "legendgroup": "NVD-CWE-Other",
         "marker": {
          "color": "#EF553B",
          "size": 12,
          "symbol": "circle"
         },
         "mode": "markers",
         "name": "NVD-CWE-Other",
         "showlegend": true,
         "type": "scattergl",
         "x": [
          3.9,
          3.9,
          2.8,
          3.9,
          3.9,
          1.8,
          1.8,
          1.8,
          3.9,
          3.9,
          3.9,
          1.2,
          3.9,
          3.9,
          1.8,
          3.9,
          2.8,
          2.8,
          1.8,
          1.8,
          3.9,
          3.9,
          3.9,
          2.8,
          2.8,
          2.8,
          1.8,
          1.8,
          3.9,
          3.9,
          3.9,
          3.9,
          3.9,
          3.9,
          3.9,
          1.8,
          2,
          3.9,
          1.8,
          1.8,
          1.8,
          2.5,
          3.9,
          2.8,
          1.8,
          0.8
         ],
         "xaxis": "x",
         "y": [
          5.9,
          5.9,
          5.9,
          3.6,
          3.6,
          5.9,
          5.9,
          5.9,
          5.9,
          5.9,
          5.9,
          5.9,
          5.9,
          5.9,
          5.9,
          5.9,
          5.9,
          5.9,
          5.9,
          5.9,
          5.9,
          5.2,
          4.2,
          5.9,
          5.9,
          5.9,
          5.9,
          5.9,
          5.9,
          5.9,
          5.9,
          5.9,
          3.4,
          5.9,
          6,
          5.9,
          6,
          5.9,
          5.2,
          2.5,
          3.6,
          3.6,
          5.9,
          2.7,
          5.9,
          3.7
         ],
         "yaxis": "y"
        },
        {
         "hovertemplate": "cwe_id=CWE-918<br>Exploitability Score (v3.1)=%{x}<br>Impact Score (v3.1)=%{y}<extra></extra>",
         "legendgroup": "CWE-918",
         "marker": {
          "color": "#00cc96",
          "size": 12,
          "symbol": "circle"
         },
         "mode": "markers",
         "name": "CWE-918",
         "showlegend": true,
         "type": "scattergl",
         "x": [
          3.9,
          3.9,
          1.8,
          3.9,
          3.9,
          3.9,
          3.9,
          2.2,
          2.2,
          3.9,
          3.9
         ],
         "xaxis": "x",
         "y": [
          5.9,
          5.9,
          3.6,
          5.2,
          5.9,
          5.2,
          5.9,
          6,
          6,
          3.6,
          1.4
         ],
         "yaxis": "y"
        },
        {
         "hovertemplate": "cwe_id=CWE-787<br>Exploitability Score (v3.1)=%{x}<br>Impact Score (v3.1)=%{y}<extra></extra>",
         "legendgroup": "CWE-787",
         "marker": {
          "color": "#ab63fa",
          "size": 12,
          "symbol": "circle"
         },
         "mode": "markers",
         "name": "CWE-787",
         "showlegend": true,
         "type": "scattergl",
         "x": [
          2.8,
          2.8,
          1.8,
          1.8,
          1.8,
          2.8,
          2.8,
          2.8,
          2.8,
          1.8,
          2.8,
          3.9,
          2.8,
          2.8,
          2.8,
          2.8,
          2.8,
          2.8,
          2.8,
          2.8,
          1.6,
          1.6,
          1.8,
          1.8,
          2.8,
          1.8,
          1.8,
          1.8,
          1.8,
          1.8,
          1.8,
          1.6,
          1.8,
          2.8,
          1.6,
          1.6,
          1.8,
          1.6,
          2.8,
          3.9,
          3.9,
          3.9,
          2.2,
          3.9,
          3.9,
          2.8,
          2.8,
          3.9,
          3.9,
          1.8,
          1,
          1.8,
          1.8,
          2.8,
          1.8,
          3.9,
          3.9,
          3.9,
          3.9,
          3.9,
          1.8,
          3.9,
          2.8,
          1.8,
          1.8,
          3.9,
          1.8,
          1.8,
          1.8,
          1.8,
          3.9,
          2.2,
          3.9,
          2.8,
          1.6,
          2.8,
          1.8,
          1.8,
          1.8,
          1.8,
          3.9,
          2.8,
          1.8,
          1.8,
          1.8,
          1.8,
          2.8,
          1.8,
          2.8,
          2.8,
          2.8,
          2.8,
          2.8,
          2.8,
          3.9,
          1.3,
          1.8,
          2.8,
          1.8,
          1.8,
          1.8,
          1.8,
          1.8,
          1.8,
          1.8,
          1.8,
          2.8,
          1.8,
          0.8,
          0.2
         ],
         "xaxis": "x",
         "y": [
          5.9,
          5.9,
          5.9,
          5.9,
          5.9,
          5.9,
          1.4,
          5.9,
          5.9,
          3.6,
          5.9,
          5.9,
          5.9,
          5.9,
          3.6,
          5.9,
          5.9,
          5.9,
          5.9,
          5.9,
          2.5,
          5.9,
          5.9,
          5.9,
          5.9,
          5.9,
          5.9,
          5.9,
          5.9,
          5.9,
          5.9,
          5.9,
          5.9,
          5.9,
          5.9,
          5.9,
          5.9,
          5.2,
          5.9,
          6,
          6,
          6,
          6,
          5.9,
          5.9,
          3.6,
          1.4,
          5.9,
          5.9,
          5.9,
          5.9,
          5.9,
          5.9,
          5.9,
          5.9,
          6,
          5.9,
          6,
          5.9,
          4,
          5.9,
          5.9,
          5.9,
          5.9,
          5.9,
          5.9,
          5.9,
          5.9,
          5.9,
          5.9,
          5.9,
          5.8,
          5.9,
          5.9,
          5.9,
          5.9,
          5.9,
          5.9,
          5.9,
          5.9,
          5.9,
          5.9,
          5.9,
          5.9,
          5.9,
          5.9,
          5.9,
          5.9,
          5.9,
          5.9,
          3.6,
          5.9,
          5.9,
          5.9,
          5.9,
          5.9,
          5.9,
          5.9,
          5.9,
          5.9,
          5.9,
          5.9,
          5.9,
          5.9,
          5.9,
          5.9,
          5.9,
          5.9,
          5.9,
          5.9
         ],
         "yaxis": "y"
        },
        {
         "hovertemplate": "cwe_id=CWE-122<br>Exploitability Score (v3.1)=%{x}<br>Impact Score (v3.1)=%{y}<extra></extra>",
         "legendgroup": "CWE-122",
         "marker": {
          "color": "#FFA15A",
          "size": 12,
          "symbol": "circle"
         },
         "mode": "markers",
         "name": "CWE-122",
         "showlegend": true,
         "type": "scattergl",
         "x": [
          2.8,
          3.9
         ],
         "xaxis": "x",
         "y": [
          5.9,
          5.9
         ],
         "yaxis": "y"
        },
        {
         "hovertemplate": "cwe_id=CWE-416<br>Exploitability Score (v3.1)=%{x}<br>Impact Score (v3.1)=%{y}<extra></extra>",
         "legendgroup": "CWE-416",
         "marker": {
          "color": "#19d3f3",
          "size": 12,
          "symbol": "circle"
         },
         "mode": "markers",
         "name": "CWE-416",
         "showlegend": true,
         "type": "scattergl",
         "x": [
          2.8,
          3.9,
          1.8,
          1.8,
          2.8,
          2.8,
          2.8,
          2.8,
          2.8,
          2.8,
          2.8,
          2.8,
          2.8,
          2.8,
          2.8,
          2.8,
          2.8,
          2.8,
          3.9,
          2.8,
          2.8,
          1.6,
          1.6,
          2.2,
          3.9,
          1.8,
          2.5,
          3.9,
          1.8,
          1.8,
          2.8,
          2.8,
          3.9,
          1.8,
          2.8,
          2.8,
          1.8,
          3.9,
          2.8,
          2.8,
          2.8,
          1.8,
          1.8,
          2.8,
          3.9,
          3.9,
          3.9,
          3.9,
          3.9,
          2.8,
          1.8,
          0.5,
          2.8,
          2.8,
          2.8,
          1.8,
          1.8,
          0.8,
          0.2,
          1.8,
          0.5,
          0.5,
          0.5,
          0.5,
          2.8,
          1.8,
          2.5
         ],
         "xaxis": "x",
         "y": [
          5.9,
          5.9,
          5.9,
          5.9,
          5.9,
          5.9,
          5.9,
          5.9,
          5.9,
          5.9,
          5.9,
          6,
          6,
          6,
          5.9,
          5.9,
          5.9,
          5.9,
          5.9,
          5.3,
          5.9,
          5.9,
          5.9,
          5.9,
          6,
          5.9,
          5.9,
          5.9,
          5.9,
          5.9,
          5.9,
          5.9,
          5.9,
          5.9,
          5.9,
          5.9,
          5.9,
          5.9,
          5.9,
          5.9,
          5.9,
          5.9,
          5.9,
          5.9,
          5.9,
          5.9,
          5.9,
          5.9,
          5.9,
          5.9,
          5.9,
          5.9,
          3.6,
          5.9,
          5.9,
          5.9,
          5.9,
          3.6,
          5.9,
          5.9,
          5.9,
          5.9,
          5.9,
          5.9,
          5.9,
          5.9,
          5.9
         ],
         "yaxis": "y"
        },
        {
         "hovertemplate": "cwe_id=CWE-502<br>Exploitability Score (v3.1)=%{x}<br>Impact Score (v3.1)=%{y}<extra></extra>",
         "legendgroup": "CWE-502",
         "marker": {
          "color": "#FF6692",
          "size": 12,
          "symbol": "circle"
         },
         "mode": "markers",
         "name": "CWE-502",
         "showlegend": true,
         "type": "scattergl",
         "x": [
          3.9,
          2.2,
          3.9,
          3.9,
          1.7,
          2.8,
          1.8,
          1.8,
          3.9,
          3.9,
          3.9,
          3.9,
          3.9,
          3.9,
          3.9,
          3.9,
          3.9,
          3.9,
          3.9,
          3.9,
          3.9,
          2.8,
          2.8,
          3.9,
          1.8,
          1.8,
          1.8,
          1.8,
          1.2,
          2.2
         ],
         "xaxis": "x",
         "y": [
          5.9,
          5.9,
          5.9,
          5.9,
          6,
          5.9,
          5.9,
          5.9,
          5.9,
          5.9,
          5.9,
          5.9,
          5.9,
          5.9,
          6,
          5.9,
          5.9,
          5.9,
          5.9,
          5.9,
          5.9,
          5.9,
          5.9,
          3.6,
          6,
          6,
          6,
          6,
          5.9,
          5.9
         ],
         "yaxis": "y"
        },
        {
         "hovertemplate": "cwe_id=CWE-434<br>Exploitability Score (v3.1)=%{x}<br>Impact Score (v3.1)=%{y}<extra></extra>",
         "legendgroup": "CWE-434",
         "marker": {
          "color": "#B6E880",
          "size": 12,
          "symbol": "circle"
         },
         "mode": "markers",
         "name": "CWE-434",
         "showlegend": true,
         "type": "scattergl",
         "x": [
          3.9,
          0.7,
          0.7,
          1.2,
          1.2,
          1.2,
          1.2,
          2.8,
          3.9,
          3.9,
          2.8,
          3.9,
          2.8,
          3.9,
          2.2,
          2.2,
          3.9
         ],
         "xaxis": "x",
         "y": [
          5.9,
          5.9,
          5.9,
          5.9,
          5.9,
          5.9,
          5.9,
          5.9,
          5.9,
          6,
          5.9,
          5.9,
          5.9,
          5.9,
          5.9,
          5.9,
          5.9
         ],
         "yaxis": "y"
        },
        {
         "hovertemplate": "cwe_id=CWE-121<br>Exploitability Score (v3.1)=%{x}<br>Impact Score (v3.1)=%{y}<extra></extra>",
         "legendgroup": "CWE-121",
         "marker": {
          "color": "#FF97FF",
          "size": 12,
          "symbol": "circle"
         },
         "mode": "markers",
         "name": "CWE-121",
         "showlegend": true,
         "type": "scattergl",
         "x": [
          2.8,
          3.9,
          2.1,
          3.9,
          2.1,
          3.9,
          1.8,
          3.9,
          3.9,
          3.9,
          3.9,
          3.9
         ],
         "xaxis": "x",
         "y": [
          5.9,
          5.9,
          5.9,
          6,
          5.9,
          6,
          5.9,
          6,
          5.9,
          6,
          5.9,
          6
         ],
         "yaxis": "y"
        },
        {
         "hovertemplate": "cwe_id=CWE-20<br>Exploitability Score (v3.1)=%{x}<br>Impact Score (v3.1)=%{y}<extra></extra>",
         "legendgroup": "CWE-20",
         "marker": {
          "color": "#FECB52",
          "size": 12,
          "symbol": "circle"
         },
         "mode": "markers",
         "name": "CWE-20",
         "showlegend": true,
         "type": "scattergl",
         "x": [
          1.8,
          1.8,
          3.9,
          3.9,
          3.9,
          3.9,
          3.9,
          3.9,
          2.8,
          2.8,
          2.8,
          1.8,
          1.8,
          2.3,
          3.9,
          1.8,
          3.9,
          1.8,
          3.9,
          3.9,
          2.8,
          3.9,
          2.8,
          3.9,
          3.9,
          1.2,
          3.9,
          3.9,
          3.9,
          3.9,
          3.9,
          3.9,
          3.9,
          3.9,
          2.2,
          3.9,
          3.9,
          3.9,
          3.9,
          3.9,
          3.9,
          3.9,
          3.9,
          2.2,
          3.9,
          3.9,
          3.9,
          1.8,
          3.9,
          1.8,
          1.8
         ],
         "xaxis": "x",
         "y": [
          5.9,
          5.9,
          3.6,
          3.6,
          5.9,
          5.9,
          5.9,
          3.6,
          3.6,
          2.7,
          2.7,
          5.9,
          5.9,
          6,
          5.9,
          5.9,
          5.9,
          5.9,
          6,
          1.4,
          1.4,
          1.4,
          1.4,
          5.9,
          5.9,
          5.9,
          4,
          4,
          4,
          4,
          4,
          3.6,
          4,
          3.6,
          3.6,
          5.9,
          3.6,
          3.6,
          3.6,
          5.9,
          5.9,
          5.9,
          5.9,
          5.9,
          6,
          5.9,
          5.9,
          5.9,
          5.9,
          3.6,
          1.4
         ],
         "yaxis": "y"
        },
        {
         "hovertemplate": "cwe_id=CWE-22<br>Exploitability Score (v3.1)=%{x}<br>Impact Score (v3.1)=%{y}<extra></extra>",
         "legendgroup": "CWE-22",
         "marker": {
          "color": "#636efa",
          "size": 12,
          "symbol": "circle"
         },
         "mode": "markers",
         "name": "CWE-22",
         "showlegend": true,
         "type": "scattergl",
         "x": [
          3.9,
          3.9,
          3.9,
          3.9,
          3.9,
          2.8,
          3.9,
          3.9,
          3.9,
          3.9,
          2.8,
          3.9,
          3.9,
          3.9,
          3.9,
          2.8,
          2.8,
          1.8,
          1.8,
          1.8,
          3.9,
          2.8,
          3.9,
          1.2,
          1.2,
          3.9,
          3.9,
          3.9,
          3.9,
          3.9,
          3.9,
          1.8,
          1.8,
          3.9,
          3.9,
          2.8,
          3.9,
          2.8,
          3.9,
          3.9,
          3.9,
          3.9,
          3.9,
          3.9,
          3.9,
          3.9,
          3.9,
          3.9,
          1.8,
          2.8,
          3.9,
          3.9,
          2.8,
          3.1,
          3.9,
          1.2,
          3.9,
          2.8,
          2.8,
          2.8
         ],
         "xaxis": "x",
         "y": [
          5.9,
          5.9,
          3.6,
          3.6,
          5.9,
          5.9,
          5.9,
          3.6,
          3.6,
          3.6,
          3.6,
          5.9,
          5.9,
          5.9,
          5.2,
          1.4,
          5.3,
          5.9,
          5.9,
          5.9,
          6,
          3.6,
          3.6,
          3.6,
          3.6,
          3.6,
          3.6,
          5.9,
          5.9,
          3.6,
          3.6,
          5.9,
          5.9,
          3.6,
          5.9,
          5.9,
          5.9,
          5.9,
          3.6,
          5.2,
          3.6,
          3.6,
          5.9,
          3.6,
          3.6,
          5.9,
          5.9,
          5.9,
          5.9,
          3.6,
          5.9,
          5.9,
          5.9,
          6,
          3.6,
          5.9,
          3.6,
          5.9,
          5.9,
          3.6
         ],
         "yaxis": "y"
        },
        {
         "hovertemplate": "cwe_id=NVD-CWE-noinfo<br>Exploitability Score (v3.1)=%{x}<br>Impact Score (v3.1)=%{y}<extra></extra>",
         "legendgroup": "NVD-CWE-noinfo",
         "marker": {
          "color": "#EF553B",
          "size": 12,
          "symbol": "circle"
         },
         "mode": "markers",
         "name": "NVD-CWE-noinfo",
         "showlegend": true,
         "type": "scattergl",
         "x": [
          3.9,
          2.2,
          3.9,
          3.9,
          1.8,
          3.9,
          2.8,
          3.9,
          1.8,
          3.9,
          1.8,
          1.8,
          1.8,
          2.5,
          1.8,
          1.8,
          1.8,
          2,
          1.8,
          2,
          1.8,
          1.8,
          1.8,
          1.8,
          1.8,
          1,
          1.8,
          2.8,
          1.8,
          1.8,
          3.9,
          1.8,
          1.8,
          2.8,
          2.8,
          1,
          0.6,
          1.8,
          1.8,
          1.8,
          1.8,
          1.8,
          1.8,
          1.8,
          1.8,
          1.8,
          3.9,
          3.9,
          3.9,
          3.9,
          2.8,
          3.9,
          2.8,
          3.9,
          3.9,
          1.8,
          2.2,
          3.1,
          1.2,
          1.2,
          3.9,
          1.8,
          3.9,
          3.9,
          1.8,
          3.9,
          3.9,
          2.8,
          2.8,
          1.8,
          2.8,
          2.2,
          2.2,
          2.2,
          1.8,
          3.9,
          3.9,
          2.8,
          2.2,
          2.8,
          3.9,
          3.9,
          3.9,
          3.9,
          2.8,
          3.9,
          1.8,
          1.6,
          1.8,
          3.9,
          3.9,
          1.8,
          3.9,
          1.8,
          1.8,
          1.8,
          1.8,
          2.8,
          3.9,
          1.8,
          3.9,
          1.8,
          1.8,
          1.8,
          2,
          1.8,
          3.9,
          3.9,
          2.8,
          1.8,
          1.8,
          1.8,
          1.8,
          3.1,
          3.9,
          2.8,
          3.9,
          3.9,
          2.8,
          3.9,
          1.8,
          3.9,
          3.9,
          1.8,
          1.8,
          1.3,
          2.8,
          1.8,
          1.8,
          1.8,
          3.9,
          3.9,
          1.8,
          1.8,
          2.8,
          1.6,
          2.8,
          1.6,
          1.6,
          1.8,
          3.9,
          3.9,
          3.9,
          1.8,
          1.8,
          1.8,
          1.8,
          1.8,
          3.1,
          1.8,
          3.9,
          3.9,
          1.8,
          3.9,
          1.8,
          2.8,
          2.8,
          2.8,
          1.8,
          2.8,
          2,
          1.8,
          2.8,
          2.8,
          2.8,
          2.8,
          1.8,
          1.8,
          2.8,
          3.9,
          2.8,
          1.8,
          1.8,
          1.8,
          1.8,
          3.9,
          3.9,
          3.9,
          3.9,
          2.8,
          1.8,
          3.9,
          3.9,
          1.8,
          2.2,
          1.8,
          3.9,
          1.8,
          1.8,
          3.9,
          3.9,
          2.2,
          1.8,
          0.8,
          0.2,
          3.9,
          3.9,
          3.9,
          3.9,
          2.2,
          2.2
         ],
         "xaxis": "x",
         "y": [
          5.9,
          5.9,
          5.9,
          5.9,
          3.6,
          5.9,
          5.9,
          5.9,
          3.6,
          3.6,
          5.9,
          3.6,
          3.6,
          5.9,
          5.9,
          5.9,
          5.9,
          2.7,
          5.9,
          2.7,
          5.9,
          5.9,
          5.9,
          5.9,
          5.9,
          5.9,
          5.9,
          5.9,
          5.9,
          5.9,
          6,
          5.9,
          5.9,
          5.3,
          5.9,
          6,
          5.9,
          5.9,
          5.9,
          5.9,
          5.9,
          5.9,
          5.9,
          5.9,
          5.9,
          5.9,
          5.2,
          5.9,
          6,
          5.9,
          5.9,
          5.9,
          5.9,
          5.9,
          5.9,
          5.9,
          5.9,
          6,
          5.9,
          5.9,
          1.4,
          5.9,
          5.9,
          3.6,
          5.9,
          5.9,
          3.6,
          5.9,
          5.9,
          5.9,
          5.9,
          5.2,
          3.6,
          3.6,
          4,
          3.6,
          3.6,
          3.6,
          3.6,
          3.6,
          3.6,
          3.6,
          3.6,
          3.6,
          3.6,
          3.6,
          5.9,
          5.9,
          5.9,
          5.9,
          5.9,
          5.9,
          5.9,
          5.9,
          5.9,
          5.9,
          5.9,
          5.9,
          5.9,
          5.9,
          5.9,
          5.9,
          5.9,
          5.9,
          6,
          5.9,
          3.6,
          3.6,
          3.6,
          5.9,
          5.9,
          5.9,
          5.9,
          6,
          5.9,
          5.9,
          5.9,
          5.9,
          5.9,
          5.9,
          5.9,
          3.6,
          5.9,
          5.9,
          5.9,
          5.9,
          1.4,
          5.9,
          5.9,
          5.9,
          5.9,
          5.9,
          5.9,
          5.9,
          5.9,
          5.9,
          5.9,
          5.9,
          5.9,
          5.9,
          5.9,
          5.9,
          5.9,
          5.9,
          5.9,
          5.9,
          5.9,
          5.9,
          6,
          5.9,
          2.5,
          2.5,
          5.9,
          3.6,
          5.9,
          5.9,
          1.4,
          3.6,
          3.6,
          3.6,
          6,
          5.9,
          5.9,
          5.9,
          3.6,
          5.9,
          5.9,
          5.9,
          5.9,
          5.9,
          5.9,
          5.9,
          5.9,
          3.6,
          5.9,
          5.9,
          3.6,
          5.9,
          1.4,
          5.9,
          5.9,
          5.9,
          5.9,
          3.6,
          5.9,
          5.9,
          5.9,
          5.9,
          5.9,
          5.9,
          5.9,
          3.6,
          5.9,
          5.9,
          5.9,
          5.9,
          5.9,
          5.9,
          3.6,
          5.2,
          5.2
         ],
         "yaxis": "y"
        },
        {
         "hovertemplate": "cwe_id=CWE-74<br>Exploitability Score (v3.1)=%{x}<br>Impact Score (v3.1)=%{y}<extra></extra>",
         "legendgroup": "CWE-74",
         "marker": {
          "color": "#00cc96",
          "size": 12,
          "symbol": "circle"
         },
         "mode": "markers",
         "name": "CWE-74",
         "showlegend": true,
         "type": "scattergl",
         "x": [
          1.6,
          2.8,
          3.9,
          3.9,
          3.9,
          3.9,
          3.9,
          1.8
         ],
         "xaxis": "x",
         "y": [
          5.9,
          5.9,
          5.9,
          5.9,
          5.9,
          5.9,
          3.6,
          5.9
         ],
         "yaxis": "y"
        },
        {
         "hovertemplate": "cwe_id=CWE-917<br>Exploitability Score (v3.1)=%{x}<br>Impact Score (v3.1)=%{y}<extra></extra>",
         "legendgroup": "CWE-917",
         "marker": {
          "color": "#ab63fa",
          "size": 12,
          "symbol": "circle"
         },
         "mode": "markers",
         "name": "CWE-917",
         "showlegend": true,
         "type": "scattergl",
         "x": [
          3.9,
          3.9,
          2.8,
          2.8,
          3.9,
          3.9,
          3.9,
          3.9,
          2.2,
          2.2
         ],
         "xaxis": "x",
         "y": [
          5.9,
          5.9,
          5.9,
          5.9,
          6,
          6,
          5.9,
          5.9,
          6,
          6
         ],
         "yaxis": "y"
        },
        {
         "hovertemplate": "cwe_id=CWE-755<br>Exploitability Score (v3.1)=%{x}<br>Impact Score (v3.1)=%{y}<extra></extra>",
         "legendgroup": "CWE-755",
         "marker": {
          "color": "#FFA15A",
          "size": 12,
          "symbol": "circle"
         },
         "mode": "markers",
         "name": "CWE-755",
         "showlegend": true,
         "type": "scattergl",
         "x": [
          3.9,
          2.8,
          1.8,
          2.5,
          3.9,
          3.9
         ],
         "xaxis": "x",
         "y": [
          5.9,
          5.9,
          3.6,
          3.6,
          4,
          5.9
         ],
         "yaxis": "y"
        },
        {
         "hovertemplate": "cwe_id=CWE-190<br>Exploitability Score (v3.1)=%{x}<br>Impact Score (v3.1)=%{y}<extra></extra>",
         "legendgroup": "CWE-190",
         "marker": {
          "color": "#19d3f3",
          "size": 12,
          "symbol": "circle"
         },
         "mode": "markers",
         "name": "CWE-190",
         "showlegend": true,
         "type": "scattergl",
         "x": [
          1.8,
          2.8,
          3.9,
          2.8,
          2.8,
          2.8,
          2.8,
          1.8,
          1.8
         ],
         "xaxis": "x",
         "y": [
          5.9,
          5.9,
          5.9,
          5.9,
          5.9,
          5.9,
          5.9,
          5.9,
          5.9
         ],
         "yaxis": "y"
        },
        {
         "hovertemplate": "cwe_id=CWE-665<br>Exploitability Score (v3.1)=%{x}<br>Impact Score (v3.1)=%{y}<extra></extra>",
         "legendgroup": "CWE-665",
         "marker": {
          "color": "#FF6692",
          "size": 12,
          "symbol": "circle"
         },
         "mode": "markers",
         "name": "CWE-665",
         "showlegend": true,
         "type": "scattergl",
         "x": [
          1.8,
          2.8,
          1.8,
          1.8
         ],
         "xaxis": "x",
         "y": [
          3.6,
          3.6,
          5.9,
          5.9
         ],
         "yaxis": "y"
        },
        {
         "hovertemplate": "cwe_id=CWE-843<br>Exploitability Score (v3.1)=%{x}<br>Impact Score (v3.1)=%{y}<extra></extra>",
         "legendgroup": "CWE-843",
         "marker": {
          "color": "#B6E880",
          "size": 12,
          "symbol": "circle"
         },
         "mode": "markers",
         "name": "CWE-843",
         "showlegend": true,
         "type": "scattergl",
         "x": [
          1.8,
          1.8,
          2.8,
          2.8,
          2.8,
          2.8,
          2.8,
          2.8,
          1.6,
          2.8,
          2.8,
          2.8,
          2.8,
          2.8,
          2.2,
          2.8,
          2.8,
          2.8,
          2.8,
          1.8,
          2.8
         ],
         "xaxis": "x",
         "y": [
          5.9,
          5.9,
          5.9,
          5.9,
          5.9,
          5.9,
          5.9,
          5.9,
          5.9,
          5.9,
          5.9,
          5.9,
          5.9,
          5.9,
          5.9,
          5.9,
          5.9,
          5.9,
          5.9,
          5.9,
          5.9
         ],
         "yaxis": "y"
        },
        {
         "hovertemplate": "cwe_id=CWE-667<br>Exploitability Score (v3.1)=%{x}<br>Impact Score (v3.1)=%{y}<extra></extra>",
         "legendgroup": "CWE-667",
         "marker": {
          "color": "#FF97FF",
          "size": 12,
          "symbol": "circle"
         },
         "mode": "markers",
         "name": "CWE-667",
         "showlegend": true,
         "type": "scattergl",
         "x": [
          1
         ],
         "xaxis": "x",
         "y": [
          5.9
         ],
         "yaxis": "y"
        },
        {
         "hovertemplate": "cwe_id=CWE-79<br>Exploitability Score (v3.1)=%{x}<br>Impact Score (v3.1)=%{y}<extra></extra>",
         "legendgroup": "CWE-79",
         "marker": {
          "color": "#FECB52",
          "size": 12,
          "symbol": "circle"
         },
         "mode": "markers",
         "name": "CWE-79",
         "showlegend": true,
         "type": "scattergl",
         "x": [
          2.8,
          2.8,
          2.8,
          2.8,
          2.8,
          2.8,
          2.3,
          3.9,
          2.8,
          2.8,
          2.8,
          2.8,
          2.3,
          1.3,
          2.3,
          1.3,
          2.8
         ],
         "xaxis": "x",
         "y": [
          2.7,
          2.7,
          2.7,
          2.7,
          2.7,
          2.7,
          2.7,
          5.9,
          4.7,
          4.7,
          2.7,
          2.7,
          2.7,
          6,
          2.7,
          6,
          2.7
         ],
         "yaxis": "y"
        },
        {
         "hovertemplate": "cwe_id=CWE-119<br>Exploitability Score (v3.1)=%{x}<br>Impact Score (v3.1)=%{y}<extra></extra>",
         "legendgroup": "CWE-119",
         "marker": {
          "color": "#636efa",
          "size": 12,
          "symbol": "circle"
         },
         "mode": "markers",
         "name": "CWE-119",
         "showlegend": true,
         "type": "scattergl",
         "x": [
          2.8,
          3.9,
          1.6,
          2.8,
          1.8,
          1.8,
          1.8,
          1.8,
          1.8,
          1.8,
          2.8,
          3.9,
          3.9,
          2.1,
          2.8,
          2.8,
          3.9,
          3.9,
          2.8,
          2.8,
          2.8,
          2.8,
          2.8,
          2.8,
          2.8,
          2.8,
          2.8,
          2.8,
          2.8,
          2.8,
          2.8,
          2.8,
          3.9,
          1.8,
          1.8,
          3.9,
          3.9,
          1.8,
          1.8,
          2.8,
          3.9,
          2.8,
          1.8,
          2.8,
          2.8
         ],
         "xaxis": "x",
         "y": [
          5.9,
          5.9,
          5.9,
          5.9,
          5.9,
          5.9,
          5.9,
          5.9,
          5.9,
          5.9,
          5.9,
          5.9,
          6,
          5.9,
          5.9,
          5.9,
          5.9,
          5.9,
          5.9,
          5.9,
          5.9,
          5.9,
          5.9,
          5.9,
          5.9,
          5.9,
          5.9,
          5.9,
          5.9,
          5.9,
          5.9,
          5.9,
          5.9,
          5.9,
          5.9,
          5.9,
          5.9,
          5.9,
          5.9,
          5.9,
          5.9,
          3.6,
          5.9,
          5.9,
          5.9
         ],
         "yaxis": "y"
        },
        {
         "hovertemplate": "cwe_id=CWE-415<br>Exploitability Score (v3.1)=%{x}<br>Impact Score (v3.1)=%{y}<extra></extra>",
         "legendgroup": "CWE-415",
         "marker": {
          "color": "#EF553B",
          "size": 12,
          "symbol": "circle"
         },
         "mode": "markers",
         "name": "CWE-415",
         "showlegend": true,
         "type": "scattergl",
         "x": [
          1.8,
          1,
          0.8,
          1,
          0.8
         ],
         "xaxis": "x",
         "y": [
          5.9,
          5.9,
          5.3,
          5.9,
          5.3
         ],
         "yaxis": "y"
        },
        {
         "hovertemplate": "cwe_id=CWE-89<br>Exploitability Score (v3.1)=%{x}<br>Impact Score (v3.1)=%{y}<extra></extra>",
         "legendgroup": "CWE-89",
         "marker": {
          "color": "#00cc96",
          "size": 12,
          "symbol": "circle"
         },
         "mode": "markers",
         "name": "CWE-89",
         "showlegend": true,
         "type": "scattergl",
         "x": [
          3.9,
          3.9,
          3.9,
          3.9,
          3.9,
          3.9,
          3.9,
          3.9,
          3.9,
          3.9,
          3.9,
          3.9,
          3.9
         ],
         "xaxis": "x",
         "y": [
          5.9,
          3.6,
          3.6,
          5.9,
          5.9,
          5.9,
          5.9,
          5.9,
          5.9,
          5.9,
          5.9,
          5.9,
          5.9
         ],
         "yaxis": "y"
        },
        {
         "hovertemplate": "cwe_id=CWE-77<br>Exploitability Score (v3.1)=%{x}<br>Impact Score (v3.1)=%{y}<extra></extra>",
         "legendgroup": "CWE-77",
         "marker": {
          "color": "#ab63fa",
          "size": 12,
          "symbol": "circle"
         },
         "mode": "markers",
         "name": "CWE-77",
         "showlegend": true,
         "type": "scattergl",
         "x": [
          3.9,
          3.9,
          2.8,
          2.8,
          3.9,
          2.8,
          3.9,
          2.8,
          3.9,
          3.9,
          3.9,
          3.9,
          1.8,
          3.9,
          3.9
         ],
         "xaxis": "x",
         "y": [
          5.9,
          5.9,
          5.9,
          5.9,
          5.9,
          5.9,
          5.9,
          5.9,
          5.9,
          5.9,
          5.9,
          5.9,
          5.9,
          5.9,
          3.4
         ],
         "yaxis": "y"
        },
        {
         "hovertemplate": "cwe_id=CWE-134<br>Exploitability Score (v3.1)=%{x}<br>Impact Score (v3.1)=%{y}<extra></extra>",
         "legendgroup": "CWE-134",
         "marker": {
          "color": "#FFA15A",
          "size": 12,
          "symbol": "circle"
         },
         "mode": "markers",
         "name": "CWE-134",
         "showlegend": true,
         "type": "scattergl",
         "x": [
          2.8,
          2.2,
          2.1,
          1.8,
          1.8
         ],
         "xaxis": "x",
         "y": [
          5.9,
          5.9,
          5.9,
          3.6,
          1.4
         ],
         "yaxis": "y"
        },
        {
         "hovertemplate": "cwe_id=CWE-770<br>Exploitability Score (v3.1)=%{x}<br>Impact Score (v3.1)=%{y}<extra></extra>",
         "legendgroup": "CWE-770",
         "marker": {
          "color": "#19d3f3",
          "size": 12,
          "symbol": "circle"
         },
         "mode": "markers",
         "name": "CWE-770",
         "showlegend": true,
         "type": "scattergl",
         "x": [
          3.9,
          3.9,
          3.9,
          3.9
         ],
         "xaxis": "x",
         "y": [
          4,
          4,
          4,
          4
         ],
         "yaxis": "y"
        },
        {
         "hovertemplate": "cwe_id=CWE-400<br>Exploitability Score (v3.1)=%{x}<br>Impact Score (v3.1)=%{y}<extra></extra>",
         "legendgroup": "CWE-400",
         "marker": {
          "color": "#FF6692",
          "size": 12,
          "symbol": "circle"
         },
         "mode": "markers",
         "name": "CWE-400",
         "showlegend": true,
         "type": "scattergl",
         "x": [
          3.9,
          3.9,
          3.9,
          3.9,
          3.9
         ],
         "xaxis": "x",
         "y": [
          4,
          4,
          4,
          4,
          6
         ],
         "yaxis": "y"
        },
        {
         "hovertemplate": "cwe_id=CWE-200<br>Exploitability Score (v3.1)=%{x}<br>Impact Score (v3.1)=%{y}<extra></extra>",
         "legendgroup": "CWE-200",
         "marker": {
          "color": "#B6E880",
          "size": 12,
          "symbol": "circle"
         },
         "mode": "markers",
         "name": "CWE-200",
         "showlegend": true,
         "type": "scattergl",
         "x": [
          3.9,
          3.9,
          3.9,
          3.9,
          1.8,
          2.5,
          3.9,
          3.9
         ],
         "xaxis": "x",
         "y": [
          3.6,
          2.5,
          2.5,
          1.4,
          3.6,
          3.6,
          3.6,
          3.6
         ],
         "yaxis": "y"
        },
        {
         "hovertemplate": "cwe_id=CWE-284<br>Exploitability Score (v3.1)=%{x}<br>Impact Score (v3.1)=%{y}<extra></extra>",
         "legendgroup": "CWE-284",
         "marker": {
          "color": "#FF97FF",
          "size": 12,
          "symbol": "circle"
         },
         "mode": "markers",
         "name": "CWE-284",
         "showlegend": true,
         "type": "scattergl",
         "x": [
          3.9,
          3.9,
          2.8,
          3.9,
          2.2,
          3.9,
          3.9,
          3.9
         ],
         "xaxis": "x",
         "y": [
          3.6,
          2.5,
          1.4,
          1.4,
          1.4,
          5.9,
          5.9,
          3.4
         ],
         "yaxis": "y"
        },
        {
         "hovertemplate": "cwe_id=CWE-287<br>Exploitability Score (v3.1)=%{x}<br>Impact Score (v3.1)=%{y}<extra></extra>",
         "legendgroup": "CWE-287",
         "marker": {
          "color": "#FECB52",
          "size": 12,
          "symbol": "circle"
         },
         "mode": "markers",
         "name": "CWE-287",
         "showlegend": true,
         "type": "scattergl",
         "x": [
          3.9,
          2.8,
          3.9,
          3.9,
          3.9,
          2.5,
          3.9,
          2.8,
          1.8,
          1.8,
          3.9,
          3.9,
          3.9,
          3.9,
          3.9,
          3.9,
          3.9,
          3.9,
          3.9,
          2.2,
          3.9,
          3.9,
          3.9,
          3.9,
          3.9,
          3.9,
          2.8,
          2.8,
          3.9,
          3.9,
          2.8,
          2.8
         ],
         "xaxis": "x",
         "y": [
          2.5,
          1.4,
          5.9,
          5.9,
          5.9,
          5.8,
          5.9,
          5.9,
          5.9,
          5.9,
          6,
          5.9,
          5.9,
          3.6,
          5.2,
          4.2,
          3.4,
          3.6,
          1.4,
          1.4,
          5.9,
          5.9,
          3.4,
          5.9,
          3.4,
          5.9,
          5.2,
          5.2,
          5.9,
          4.2,
          5.9,
          5.9
         ],
         "yaxis": "y"
        },
        {
         "hovertemplate": "cwe_id=CWE-326<br>Exploitability Score (v3.1)=%{x}<br>Impact Score (v3.1)=%{y}<extra></extra>",
         "legendgroup": "CWE-326",
         "marker": {
          "color": "#636efa",
          "size": 12,
          "symbol": "circle"
         },
         "mode": "markers",
         "name": "CWE-326",
         "showlegend": true,
         "type": "scattergl",
         "x": [
          3.9,
          3.9,
          3.9
         ],
         "xaxis": "x",
         "y": [
          3.6,
          3.6,
          5.9
         ],
         "yaxis": "y"
        },
        {
         "hovertemplate": "cwe_id=CWE-732<br>Exploitability Score (v3.1)=%{x}<br>Impact Score (v3.1)=%{y}<extra></extra>",
         "legendgroup": "CWE-732",
         "marker": {
          "color": "#EF553B",
          "size": 12,
          "symbol": "circle"
         },
         "mode": "markers",
         "name": "CWE-732",
         "showlegend": true,
         "type": "scattergl",
         "x": [
          1.8,
          1.8,
          1.5,
          1.8,
          2.8,
          2.8
         ],
         "xaxis": "x",
         "y": [
          5.9,
          5.9,
          6,
          5.9,
          1.4,
          1.4
         ],
         "yaxis": "y"
        },
        {
         "hovertemplate": "cwe_id=CWE-94<br>Exploitability Score (v3.1)=%{x}<br>Impact Score (v3.1)=%{y}<extra></extra>",
         "legendgroup": "CWE-94",
         "marker": {
          "color": "#00cc96",
          "size": 12,
          "symbol": "circle"
         },
         "mode": "markers",
         "name": "CWE-94",
         "showlegend": true,
         "type": "scattergl",
         "x": [
          3.9,
          3.9,
          3.9,
          2.8,
          3.9,
          1.2,
          1.2,
          1.2,
          2.8,
          2.8,
          3.9,
          1.8,
          2.5,
          1.2,
          3.9,
          3.9,
          3.9,
          1.8,
          1.2,
          1.2,
          3.9,
          3.9,
          3.9,
          3.9,
          3.9,
          3.9,
          3.9,
          3.9,
          2.8,
          1.8,
          3.9,
          1.8,
          1.8,
          3.9,
          3.9,
          3.9,
          3.9,
          3.9,
          3.9,
          3.9
         ],
         "xaxis": "x",
         "y": [
          6,
          6,
          5.9,
          5.9,
          5.9,
          5.9,
          5.9,
          5.9,
          5.9,
          5.9,
          5.9,
          5.9,
          3.7,
          5.9,
          6,
          6,
          5.9,
          5.9,
          5.9,
          5.9,
          5.9,
          5.9,
          5.9,
          5.9,
          5.9,
          5.9,
          5.9,
          6,
          5.9,
          5.9,
          5.9,
          6,
          6,
          5.9,
          5.9,
          5.9,
          5.9,
          5.9,
          5.9,
          5.9
         ],
         "yaxis": "y"
        },
        {
         "hovertemplate": "cwe_id=CWE-120<br>Exploitability Score (v3.1)=%{x}<br>Impact Score (v3.1)=%{y}<extra></extra>",
         "legendgroup": "CWE-120",
         "marker": {
          "color": "#ab63fa",
          "size": 12,
          "symbol": "circle"
         },
         "mode": "markers",
         "name": "CWE-120",
         "showlegend": true,
         "type": "scattergl",
         "x": [
          3.9,
          3.9,
          1.8,
          1.8,
          1.8,
          3.9,
          3.9,
          2.2,
          3.9,
          2.8,
          3.9,
          1.8,
          1.8,
          1.8,
          2.8,
          1.8
         ],
         "xaxis": "x",
         "y": [
          5.9,
          5.9,
          5.9,
          5.9,
          5.9,
          5.9,
          5.9,
          5.8,
          5.9,
          5.9,
          5.9,
          5.9,
          5.9,
          5.9,
          5.9,
          5.9
         ],
         "yaxis": "y"
        },
        {
         "hovertemplate": "cwe_id=CWE-798<br>Exploitability Score (v3.1)=%{x}<br>Impact Score (v3.1)=%{y}<extra></extra>",
         "legendgroup": "CWE-798",
         "marker": {
          "color": "#FFA15A",
          "size": 12,
          "symbol": "circle"
         },
         "mode": "markers",
         "name": "CWE-798",
         "showlegend": true,
         "type": "scattergl",
         "x": [
          3.9,
          0.9,
          3.9,
          3.9
         ],
         "xaxis": "x",
         "y": [
          5.9,
          5.9,
          5.9,
          5.9
         ],
         "yaxis": "y"
        },
        {
         "hovertemplate": "cwe_id=CWE-269<br>Exploitability Score (v3.1)=%{x}<br>Impact Score (v3.1)=%{y}<extra></extra>",
         "legendgroup": "CWE-269",
         "marker": {
          "color": "#19d3f3",
          "size": 12,
          "symbol": "circle"
         },
         "mode": "markers",
         "name": "CWE-269",
         "showlegend": true,
         "type": "scattergl",
         "x": [
          1.8,
          1.8,
          1.5,
          2.8,
          2.8,
          3.9,
          3.9,
          1.8,
          1.8,
          1.8,
          1.8
         ],
         "xaxis": "x",
         "y": [
          5.9,
          5.9,
          6,
          5.9,
          5.9,
          5.9,
          5.9,
          5.9,
          5.2,
          2.5,
          5.9
         ],
         "yaxis": "y"
        },
        {
         "hovertemplate": "cwe_id=CWE-306<br>Exploitability Score (v3.1)=%{x}<br>Impact Score (v3.1)=%{y}<extra></extra>",
         "legendgroup": "CWE-306",
         "marker": {
          "color": "#FF6692",
          "size": 12,
          "symbol": "circle"
         },
         "mode": "markers",
         "name": "CWE-306",
         "showlegend": true,
         "type": "scattergl",
         "x": [
          2.8,
          3.9,
          3.9,
          2.8,
          3.9,
          3.9,
          3.9,
          3.9,
          3.9,
          3.9,
          3.9,
          3.9,
          3.9,
          3.9,
          3.9,
          3.9,
          2.2,
          2.2,
          3.9,
          1.8,
          1.8
         ],
         "xaxis": "x",
         "y": [
          3.6,
          6,
          5.9,
          5.9,
          5.9,
          5.9,
          5.9,
          5.9,
          5.9,
          5.9,
          5.9,
          5.9,
          5.9,
          5.9,
          5.9,
          5.9,
          3.6,
          5.9,
          5.9,
          6,
          6
         ],
         "yaxis": "y"
        },
        {
         "hovertemplate": "cwe_id=CWE-178<br>Exploitability Score (v3.1)=%{x}<br>Impact Score (v3.1)=%{y}<extra></extra>",
         "legendgroup": "CWE-178",
         "marker": {
          "color": "#B6E880",
          "size": 12,
          "symbol": "circle"
         },
         "mode": "markers",
         "name": "CWE-178",
         "showlegend": true,
         "type": "scattergl",
         "x": [
          3.9
         ],
         "xaxis": "x",
         "y": [
          5.9
         ],
         "yaxis": "y"
        },
        {
         "hovertemplate": "cwe_id=CWE-862<br>Exploitability Score (v3.1)=%{x}<br>Impact Score (v3.1)=%{y}<extra></extra>",
         "legendgroup": "CWE-862",
         "marker": {
          "color": "#FF97FF",
          "size": 12,
          "symbol": "circle"
         },
         "mode": "markers",
         "name": "CWE-862",
         "showlegend": true,
         "type": "scattergl",
         "x": [
          2.8,
          3.9
         ],
         "xaxis": "x",
         "y": [
          3.6,
          6
         ],
         "yaxis": "y"
        },
        {
         "hovertemplate": "cwe_id=CWE-601<br>Exploitability Score (v3.1)=%{x}<br>Impact Score (v3.1)=%{y}<extra></extra>",
         "legendgroup": "CWE-601",
         "marker": {
          "color": "#FECB52",
          "size": 12,
          "symbol": "circle"
         },
         "mode": "markers",
         "name": "CWE-601",
         "showlegend": true,
         "type": "scattergl",
         "x": [
          2.8,
          2.8,
          2.8
         ],
         "xaxis": "x",
         "y": [
          2.7,
          2.7,
          1.4
         ],
         "yaxis": "y"
        },
        {
         "hovertemplate": "cwe_id=CWE-706<br>Exploitability Score (v3.1)=%{x}<br>Impact Score (v3.1)=%{y}<extra></extra>",
         "legendgroup": "CWE-706",
         "marker": {
          "color": "#636efa",
          "size": 12,
          "symbol": "circle"
         },
         "mode": "markers",
         "name": "CWE-706",
         "showlegend": true,
         "type": "scattergl",
         "x": [
          3.9,
          3.9
         ],
         "xaxis": "x",
         "y": [
          5.9,
          5.9
         ],
         "yaxis": "y"
        },
        {
         "hovertemplate": "cwe_id=CWE-522<br>Exploitability Score (v3.1)=%{x}<br>Impact Score (v3.1)=%{y}<extra></extra>",
         "legendgroup": "CWE-522",
         "marker": {
          "color": "#EF553B",
          "size": 12,
          "symbol": "circle"
         },
         "mode": "markers",
         "name": "CWE-522",
         "showlegend": true,
         "type": "scattergl",
         "x": [
          3.9,
          3.9,
          3.9,
          3.9
         ],
         "xaxis": "x",
         "y": [
          5.9,
          6,
          5.9,
          5.9
         ],
         "yaxis": "y"
        },
        {
         "hovertemplate": "cwe_id=CWE-497<br>Exploitability Score (v3.1)=%{x}<br>Impact Score (v3.1)=%{y}<extra></extra>",
         "legendgroup": "CWE-497",
         "marker": {
          "color": "#00cc96",
          "size": 12,
          "symbol": "circle"
         },
         "mode": "markers",
         "name": "CWE-497",
         "showlegend": true,
         "type": "scattergl",
         "x": [
          1.8,
          1.8
         ],
         "xaxis": "x",
         "y": [
          3.6,
          3.6
         ],
         "yaxis": "y"
        },
        {
         "hovertemplate": "cwe_id=CWE-131<br>Exploitability Score (v3.1)=%{x}<br>Impact Score (v3.1)=%{y}<extra></extra>",
         "legendgroup": "CWE-131",
         "marker": {
          "color": "#ab63fa",
          "size": 12,
          "symbol": "circle"
         },
         "mode": "markers",
         "name": "CWE-131",
         "showlegend": true,
         "type": "scattergl",
         "x": [
          1.8,
          1.8
         ],
         "xaxis": "x",
         "y": [
          5.9,
          5.9
         ],
         "yaxis": "y"
        },
        {
         "hovertemplate": "cwe_id=CWE-191<br>Exploitability Score (v3.1)=%{x}<br>Impact Score (v3.1)=%{y}<extra></extra>",
         "legendgroup": "CWE-191",
         "marker": {
          "color": "#FFA15A",
          "size": 12,
          "symbol": "circle"
         },
         "mode": "markers",
         "name": "CWE-191",
         "showlegend": true,
         "type": "scattergl",
         "x": [
          1.8,
          1.8
         ],
         "xaxis": "x",
         "y": [
          5.9,
          5.9
         ],
         "yaxis": "y"
        },
        {
         "hovertemplate": "cwe_id=CWE-347<br>Exploitability Score (v3.1)=%{x}<br>Impact Score (v3.1)=%{y}<extra></extra>",
         "legendgroup": "CWE-347",
         "marker": {
          "color": "#19d3f3",
          "size": 12,
          "symbol": "circle"
         },
         "mode": "markers",
         "name": "CWE-347",
         "showlegend": true,
         "type": "scattergl",
         "x": [
          1.8,
          1.8,
          3.9,
          3.9,
          3.9,
          3.9
         ],
         "xaxis": "x",
         "y": [
          5.9,
          3.6,
          6,
          6,
          6,
          6
         ],
         "yaxis": "y"
        },
        {
         "hovertemplate": "cwe_id=CWE-330<br>Exploitability Score (v3.1)=%{x}<br>Impact Score (v3.1)=%{y}<extra></extra>",
         "legendgroup": "CWE-330",
         "marker": {
          "color": "#FF6692",
          "size": 12,
          "symbol": "circle"
         },
         "mode": "markers",
         "name": "CWE-330",
         "showlegend": true,
         "type": "scattergl",
         "x": [
          1.8,
          3.9
         ],
         "xaxis": "x",
         "y": [
          3.6,
          6
         ],
         "yaxis": "y"
        },
        {
         "hovertemplate": "cwe_id=CWE-295<br>Exploitability Score (v3.1)=%{x}<br>Impact Score (v3.1)=%{y}<extra></extra>",
         "legendgroup": "CWE-295",
         "marker": {
          "color": "#B6E880",
          "size": 12,
          "symbol": "circle"
         },
         "mode": "markers",
         "name": "CWE-295",
         "showlegend": true,
         "type": "scattergl",
         "x": [
          2.8,
          2.1,
          3.9,
          2.8
         ],
         "xaxis": "x",
         "y": [
          5.2,
          5.9,
          6,
          5.9
         ],
         "yaxis": "y"
        },
        {
         "hovertemplate": "cwe_id=CWE-91<br>Exploitability Score (v3.1)=%{x}<br>Impact Score (v3.1)=%{y}<extra></extra>",
         "legendgroup": "CWE-91",
         "marker": {
          "color": "#FF97FF",
          "size": 12,
          "symbol": "circle"
         },
         "mode": "markers",
         "name": "CWE-91",
         "showlegend": true,
         "type": "scattergl",
         "x": [
          3.9
         ],
         "xaxis": "x",
         "y": [
          5.9
         ],
         "yaxis": "y"
        },
        {
         "hovertemplate": "cwe_id=CWE-362<br>Exploitability Score (v3.1)=%{x}<br>Impact Score (v3.1)=%{y}<extra></extra>",
         "legendgroup": "CWE-362",
         "marker": {
          "color": "#FECB52",
          "size": 12,
          "symbol": "circle"
         },
         "mode": "markers",
         "name": "CWE-362",
         "showlegend": true,
         "type": "scattergl",
         "x": [
          2.2,
          2.2,
          1,
          1,
          0.5,
          0.5,
          0.5,
          0.5,
          0.5,
          0.5,
          0.5
         ],
         "xaxis": "x",
         "y": [
          5.9,
          5.9,
          5.9,
          5.9,
          5.9,
          5.9,
          5.9,
          5.9,
          5.9,
          5.9,
          5.9
         ],
         "yaxis": "y"
        },
        {
         "hovertemplate": "cwe_id=CWE-669<br>Exploitability Score (v3.1)=%{x}<br>Impact Score (v3.1)=%{y}<extra></extra>",
         "legendgroup": "CWE-669",
         "marker": {
          "color": "#636efa",
          "size": 12,
          "symbol": "circle"
         },
         "mode": "markers",
         "name": "CWE-669",
         "showlegend": true,
         "type": "scattergl",
         "x": [
          1.2
         ],
         "xaxis": "x",
         "y": [
          5.9
         ],
         "yaxis": "y"
        },
        {
         "hovertemplate": "cwe_id=CWE-552<br>Exploitability Score (v3.1)=%{x}<br>Impact Score (v3.1)=%{y}<extra></extra>",
         "legendgroup": "CWE-552",
         "marker": {
          "color": "#EF553B",
          "size": 12,
          "symbol": "circle"
         },
         "mode": "markers",
         "name": "CWE-552",
         "showlegend": true,
         "type": "scattergl",
         "x": [
          1.8,
          3.9,
          3.9,
          3.9,
          3.9
         ],
         "xaxis": "x",
         "y": [
          5.9,
          3.6,
          5.2,
          3.6,
          5.2
         ],
         "yaxis": "y"
        },
        {
         "hovertemplate": "cwe_id=CWE-611<br>Exploitability Score (v3.1)=%{x}<br>Impact Score (v3.1)=%{y}<extra></extra>",
         "legendgroup": "CWE-611",
         "marker": {
          "color": "#00cc96",
          "size": 12,
          "symbol": "circle"
         },
         "mode": "markers",
         "name": "CWE-611",
         "showlegend": true,
         "type": "scattergl",
         "x": [
          2.8,
          3.9
         ],
         "xaxis": "x",
         "y": [
          3.6,
          5.9
         ],
         "yaxis": "y"
        },
        {
         "hovertemplate": "cwe_id=CWE-288<br>Exploitability Score (v3.1)=%{x}<br>Impact Score (v3.1)=%{y}<extra></extra>",
         "legendgroup": "CWE-288",
         "marker": {
          "color": "#ab63fa",
          "size": 12,
          "symbol": "circle"
         },
         "mode": "markers",
         "name": "CWE-288",
         "showlegend": true,
         "type": "scattergl",
         "x": [
          3.9,
          3.9
         ],
         "xaxis": "x",
         "y": [
          5.9,
          5.9
         ],
         "yaxis": "y"
        },
        {
         "hovertemplate": "cwe_id=CWE-352<br>Exploitability Score (v3.1)=%{x}<br>Impact Score (v3.1)=%{y}<extra></extra>",
         "legendgroup": "CWE-352",
         "marker": {
          "color": "#FFA15A",
          "size": 12,
          "symbol": "circle"
         },
         "mode": "markers",
         "name": "CWE-352",
         "showlegend": true,
         "type": "scattergl",
         "x": [
          3.9,
          2.8,
          2.8,
          2.1,
          2.8,
          2.1
         ],
         "xaxis": "x",
         "y": [
          5.9,
          5.9,
          5.9,
          5.9,
          5.9,
          5.9
         ],
         "yaxis": "y"
        },
        {
         "hovertemplate": "cwe_id=CWE-521<br>Exploitability Score (v3.1)=%{x}<br>Impact Score (v3.1)=%{y}<extra></extra>",
         "legendgroup": "CWE-521",
         "marker": {
          "color": "#19d3f3",
          "size": 12,
          "symbol": "circle"
         },
         "mode": "markers",
         "name": "CWE-521",
         "showlegend": true,
         "type": "scattergl",
         "x": [
          1
         ],
         "xaxis": "x",
         "y": [
          5.9
         ],
         "yaxis": "y"
        },
        {
         "hovertemplate": "cwe_id=CWE-697<br>Exploitability Score (v3.1)=%{x}<br>Impact Score (v3.1)=%{y}<extra></extra>",
         "legendgroup": "CWE-697",
         "marker": {
          "color": "#FF6692",
          "size": 12,
          "symbol": "circle"
         },
         "mode": "markers",
         "name": "CWE-697",
         "showlegend": true,
         "type": "scattergl",
         "x": [
          3.9
         ],
         "xaxis": "x",
         "y": [
          3.6
         ],
         "yaxis": "y"
        },
        {
         "hovertemplate": "cwe_id=CWE-494<br>Exploitability Score (v3.1)=%{x}<br>Impact Score (v3.1)=%{y}<extra></extra>",
         "legendgroup": "CWE-494",
         "marker": {
          "color": "#B6E880",
          "size": 12,
          "symbol": "circle"
         },
         "mode": "markers",
         "name": "CWE-494",
         "showlegend": true,
         "type": "scattergl",
         "x": [
          1.8,
          1.8
         ],
         "xaxis": "x",
         "y": [
          5.9,
          1.4
         ],
         "yaxis": "y"
        },
        {
         "hovertemplate": "cwe_id=CWE-863<br>Exploitability Score (v3.1)=%{x}<br>Impact Score (v3.1)=%{y}<extra></extra>",
         "legendgroup": "CWE-863",
         "marker": {
          "color": "#FF97FF",
          "size": 12,
          "symbol": "circle"
         },
         "mode": "markers",
         "name": "CWE-863",
         "showlegend": true,
         "type": "scattergl",
         "x": [
          3.9,
          3.9,
          3.9,
          2.8,
          1.8,
          2,
          1.8,
          3.9,
          3.9,
          3.9,
          3.9
         ],
         "xaxis": "x",
         "y": [
          3.6,
          5.2,
          5.9,
          3.6,
          5.9,
          6,
          5.9,
          3.6,
          3.6,
          3.6,
          3.6
         ],
         "yaxis": "y"
        },
        {
         "hovertemplate": "cwe_id=CWE-23<br>Exploitability Score (v3.1)=%{x}<br>Impact Score (v3.1)=%{y}<extra></extra>",
         "legendgroup": "CWE-23",
         "marker": {
          "color": "#FECB52",
          "size": 12,
          "symbol": "circle"
         },
         "mode": "markers",
         "name": "CWE-23",
         "showlegend": true,
         "type": "scattergl",
         "x": [
          3.9,
          3.9
         ],
         "xaxis": "x",
         "y": [
          5.9,
          3.6
         ],
         "yaxis": "y"
        },
        {
         "hovertemplate": "cwe_id=CWE-1188<br>Exploitability Score (v3.1)=%{x}<br>Impact Score (v3.1)=%{y}<extra></extra>",
         "legendgroup": "CWE-1188",
         "marker": {
          "color": "#636efa",
          "size": 12,
          "symbol": "circle"
         },
         "mode": "markers",
         "name": "CWE-1188",
         "showlegend": true,
         "type": "scattergl",
         "x": [
          3.9,
          3.9,
          3.9,
          3.9,
          3.9,
          3.9
         ],
         "xaxis": "x",
         "y": [
          5.9,
          5.9,
          5.9,
          5.9,
          5.9,
          5.9
         ],
         "yaxis": "y"
        },
        {
         "hovertemplate": "cwe_id=CWE-1056<br>Exploitability Score (v3.1)=%{x}<br>Impact Score (v3.1)=%{y}<extra></extra>",
         "legendgroup": "CWE-1056",
         "marker": {
          "color": "#EF553B",
          "size": 12,
          "symbol": "circle"
         },
         "mode": "markers",
         "name": "CWE-1056",
         "showlegend": true,
         "type": "scattergl",
         "x": [
          3.9,
          3.9
         ],
         "xaxis": "x",
         "y": [
          5.9,
          5.9
         ],
         "yaxis": "y"
        },
        {
         "hovertemplate": "cwe_id=CWE-59<br>Exploitability Score (v3.1)=%{x}<br>Impact Score (v3.1)=%{y}<extra></extra>",
         "legendgroup": "CWE-59",
         "marker": {
          "color": "#00cc96",
          "size": 12,
          "symbol": "circle"
         },
         "mode": "markers",
         "name": "CWE-59",
         "showlegend": true,
         "type": "scattergl",
         "x": [
          1.8,
          1.8,
          1.8,
          1.8,
          1.8,
          1.8,
          1,
          1.8,
          3.9
         ],
         "xaxis": "x",
         "y": [
          5.9,
          3.6,
          5.9,
          5.9,
          5.9,
          5.9,
          5.9,
          5.9,
          3.6
         ],
         "yaxis": "y"
        },
        {
         "hovertemplate": "cwe_id=CWE-36<br>Exploitability Score (v3.1)=%{x}<br>Impact Score (v3.1)=%{y}<extra></extra>",
         "legendgroup": "CWE-36",
         "marker": {
          "color": "#ab63fa",
          "size": 12,
          "symbol": "circle"
         },
         "mode": "markers",
         "name": "CWE-36",
         "showlegend": true,
         "type": "scattergl",
         "x": [
          1.8
         ],
         "xaxis": "x",
         "y": [
          5.9
         ],
         "yaxis": "y"
        },
        {
         "hovertemplate": "cwe_id=CWE-290<br>Exploitability Score (v3.1)=%{x}<br>Impact Score (v3.1)=%{y}<extra></extra>",
         "legendgroup": "CWE-290",
         "marker": {
          "color": "#FFA15A",
          "size": 12,
          "symbol": "circle"
         },
         "mode": "markers",
         "name": "CWE-290",
         "showlegend": true,
         "type": "scattergl",
         "x": [
          3.9,
          3.9,
          3.9,
          3.9,
          3.9,
          3.9
         ],
         "xaxis": "x",
         "y": [
          5.9,
          5.2,
          5.9,
          5.2,
          5.9,
          5.9
         ],
         "yaxis": "y"
        },
        {
         "hovertemplate": "cwe_id=CWE-116<br>Exploitability Score (v3.1)=%{x}<br>Impact Score (v3.1)=%{y}<extra></extra>",
         "legendgroup": "CWE-116",
         "marker": {
          "color": "#19d3f3",
          "size": 12,
          "symbol": "circle"
         },
         "mode": "markers",
         "name": "CWE-116",
         "showlegend": true,
         "type": "scattergl",
         "x": [
          2.8
         ],
         "xaxis": "x",
         "y": [
          2.7
         ],
         "yaxis": "y"
        },
        {
         "hovertemplate": "cwe_id=CWE-1284<br>Exploitability Score (v3.1)=%{x}<br>Impact Score (v3.1)=%{y}<extra></extra>",
         "legendgroup": "CWE-1284",
         "marker": {
          "color": "#FF6692",
          "size": 12,
          "symbol": "circle"
         },
         "mode": "markers",
         "name": "CWE-1284",
         "showlegend": true,
         "type": "scattergl",
         "x": [
          3.9,
          3.9,
          1.8
         ],
         "xaxis": "x",
         "y": [
          5.9,
          6,
          5.9
         ],
         "yaxis": "y"
        },
        {
         "hovertemplate": "cwe_id=CWE-125<br>Exploitability Score (v3.1)=%{x}<br>Impact Score (v3.1)=%{y}<extra></extra>",
         "legendgroup": "CWE-125",
         "marker": {
          "color": "#B6E880",
          "size": 12,
          "symbol": "circle"
         },
         "mode": "markers",
         "name": "CWE-125",
         "showlegend": true,
         "type": "scattergl",
         "x": [
          2.8,
          1.8,
          3.9,
          3.9,
          2.8,
          2.8,
          2.8,
          1.8,
          1.8,
          2,
          1.8,
          2
         ],
         "xaxis": "x",
         "y": [
          2.5,
          3.6,
          3.6,
          3.6,
          5.9,
          5.9,
          5.9,
          5.9,
          5.9,
          4.7,
          5.9,
          4.7
         ],
         "yaxis": "y"
        },
        {
         "hovertemplate": "cwe_id=CWE-399<br>Exploitability Score (v3.1)=%{x}<br>Impact Score (v3.1)=%{y}<extra></extra>",
         "legendgroup": "CWE-399",
         "marker": {
          "color": "#FF97FF",
          "size": 12,
          "symbol": "circle"
         },
         "mode": "markers",
         "name": "CWE-399",
         "showlegend": true,
         "type": "scattergl",
         "x": [
          2.2,
          2.2,
          1.8,
          3.9,
          3.9,
          3.9,
          2.8,
          3.9,
          2.8,
          3.9
         ],
         "xaxis": "x",
         "y": [
          3.6,
          3.6,
          4,
          3.6,
          3.6,
          3.6,
          3.6,
          3.6,
          3.6,
          3.6
         ],
         "yaxis": "y"
        },
        {
         "hovertemplate": "cwe_id=CWE-401<br>Exploitability Score (v3.1)=%{x}<br>Impact Score (v3.1)=%{y}<extra></extra>",
         "legendgroup": "CWE-401",
         "marker": {
          "color": "#FECB52",
          "size": 12,
          "symbol": "circle"
         },
         "mode": "markers",
         "name": "CWE-401",
         "showlegend": true,
         "type": "scattergl",
         "x": [
          3.9
         ],
         "xaxis": "x",
         "y": [
          4
         ],
         "yaxis": "y"
        },
        {
         "hovertemplate": "cwe_id=CWE-388<br>Exploitability Score (v3.1)=%{x}<br>Impact Score (v3.1)=%{y}<extra></extra>",
         "legendgroup": "CWE-388",
         "marker": {
          "color": "#636efa",
          "size": 12,
          "symbol": "circle"
         },
         "mode": "markers",
         "name": "CWE-388",
         "showlegend": true,
         "type": "scattergl",
         "x": [
          3.9
         ],
         "xaxis": "x",
         "y": [
          4
         ],
         "yaxis": "y"
        },
        {
         "hovertemplate": "cwe_id=CWE-404<br>Exploitability Score (v3.1)=%{x}<br>Impact Score (v3.1)=%{y}<extra></extra>",
         "legendgroup": "CWE-404",
         "marker": {
          "color": "#EF553B",
          "size": 12,
          "symbol": "circle"
         },
         "mode": "markers",
         "name": "CWE-404",
         "showlegend": true,
         "type": "scattergl",
         "x": [
          3.9
         ],
         "xaxis": "x",
         "y": [
          3.6
         ],
         "yaxis": "y"
        },
        {
         "hovertemplate": "cwe_id=CWE-276<br>Exploitability Score (v3.1)=%{x}<br>Impact Score (v3.1)=%{y}<extra></extra>",
         "legendgroup": "CWE-276",
         "marker": {
          "color": "#00cc96",
          "size": 12,
          "symbol": "circle"
         },
         "mode": "markers",
         "name": "CWE-276",
         "showlegend": true,
         "type": "scattergl",
         "x": [
          3.9
         ],
         "xaxis": "x",
         "y": [
          5.9
         ],
         "yaxis": "y"
        },
        {
         "hovertemplate": "cwe_id=CWE-73<br>Exploitability Score (v3.1)=%{x}<br>Impact Score (v3.1)=%{y}<extra></extra>",
         "legendgroup": "CWE-73",
         "marker": {
          "color": "#ab63fa",
          "size": 12,
          "symbol": "circle"
         },
         "mode": "markers",
         "name": "CWE-73",
         "showlegend": true,
         "type": "scattergl",
         "x": [
          3.9,
          2.8
         ],
         "xaxis": "x",
         "y": [
          5.9,
          5.9
         ],
         "yaxis": "y"
        },
        {
         "hovertemplate": "cwe_id=CWE-425<br>Exploitability Score (v3.1)=%{x}<br>Impact Score (v3.1)=%{y}<extra></extra>",
         "legendgroup": "CWE-425",
         "marker": {
          "color": "#FFA15A",
          "size": 12,
          "symbol": "circle"
         },
         "mode": "markers",
         "name": "CWE-425",
         "showlegend": true,
         "type": "scattergl",
         "x": [
          3.9
         ],
         "xaxis": "x",
         "y": [
          1.4
         ],
         "yaxis": "y"
        },
        {
         "hovertemplate": "cwe_id=CWE-824<br>Exploitability Score (v3.1)=%{x}<br>Impact Score (v3.1)=%{y}<extra></extra>",
         "legendgroup": "CWE-824",
         "marker": {
          "color": "#19d3f3",
          "size": 12,
          "symbol": "circle"
         },
         "mode": "markers",
         "name": "CWE-824",
         "showlegend": true,
         "type": "scattergl",
         "x": [
          2.8,
          1.8
         ],
         "xaxis": "x",
         "y": [
          5.9,
          5.9
         ],
         "yaxis": "y"
        },
        {
         "hovertemplate": "cwe_id=CWE-345<br>Exploitability Score (v3.1)=%{x}<br>Impact Score (v3.1)=%{y}<extra></extra>",
         "legendgroup": "CWE-345",
         "marker": {
          "color": "#FF6692",
          "size": 12,
          "symbol": "circle"
         },
         "mode": "markers",
         "name": "CWE-345",
         "showlegend": true,
         "type": "scattergl",
         "x": [
          3.9
         ],
         "xaxis": "x",
         "y": [
          5.9
         ],
         "yaxis": "y"
        },
        {
         "hovertemplate": "cwe_id=CWE-285<br>Exploitability Score (v3.1)=%{x}<br>Impact Score (v3.1)=%{y}<extra></extra>",
         "legendgroup": "CWE-285",
         "marker": {
          "color": "#B6E880",
          "size": 12,
          "symbol": "circle"
         },
         "mode": "markers",
         "name": "CWE-285",
         "showlegend": true,
         "type": "scattergl",
         "x": [
          3.9,
          3.9
         ],
         "xaxis": "x",
         "y": [
          5.9,
          6
         ],
         "yaxis": "y"
        },
        {
         "hovertemplate": "cwe_id=CWE-782<br>Exploitability Score (v3.1)=%{x}<br>Impact Score (v3.1)=%{y}<extra></extra>",
         "legendgroup": "CWE-782",
         "marker": {
          "color": "#FF97FF",
          "size": 12,
          "symbol": "circle"
         },
         "mode": "markers",
         "name": "CWE-782",
         "showlegend": true,
         "type": "scattergl",
         "x": [
          1.8,
          2
         ],
         "xaxis": "x",
         "y": [
          5.9,
          6
         ],
         "yaxis": "y"
        },
        {
         "hovertemplate": "cwe_id=CWE-193<br>Exploitability Score (v3.1)=%{x}<br>Impact Score (v3.1)=%{y}<extra></extra>",
         "legendgroup": "CWE-193",
         "marker": {
          "color": "#FECB52",
          "size": 12,
          "symbol": "circle"
         },
         "mode": "markers",
         "name": "CWE-193",
         "showlegend": true,
         "type": "scattergl",
         "x": [
          1.8
         ],
         "xaxis": "x",
         "y": [
          5.9
         ],
         "yaxis": "y"
        },
        {
         "hovertemplate": "cwe_id=CWE-80<br>Exploitability Score (v3.1)=%{x}<br>Impact Score (v3.1)=%{y}<extra></extra>",
         "legendgroup": "CWE-80",
         "marker": {
          "color": "#636efa",
          "size": 12,
          "symbol": "circle"
         },
         "mode": "markers",
         "name": "CWE-80",
         "showlegend": true,
         "type": "scattergl",
         "x": [
          2.8,
          2.3,
          1.3
         ],
         "xaxis": "x",
         "y": [
          2.7,
          2.7,
          6
         ],
         "yaxis": "y"
        },
        {
         "hovertemplate": "cwe_id=CWE-610<br>Exploitability Score (v3.1)=%{x}<br>Impact Score (v3.1)=%{y}<extra></extra>",
         "legendgroup": "CWE-610",
         "marker": {
          "color": "#EF553B",
          "size": 12,
          "symbol": "circle"
         },
         "mode": "markers",
         "name": "CWE-610",
         "showlegend": true,
         "type": "scattergl",
         "x": [
          1.8,
          1.8
         ],
         "xaxis": "x",
         "y": [
          5.9,
          5.9
         ],
         "yaxis": "y"
        },
        {
         "hovertemplate": "cwe_id=CWE-426<br>Exploitability Score (v3.1)=%{x}<br>Impact Score (v3.1)=%{y}<extra></extra>",
         "legendgroup": "CWE-426",
         "marker": {
          "color": "#00cc96",
          "size": 12,
          "symbol": "circle"
         },
         "mode": "markers",
         "name": "CWE-426",
         "showlegend": true,
         "type": "scattergl",
         "x": [
          1.8,
          1.8
         ],
         "xaxis": "x",
         "y": [
          5.9,
          5.9
         ],
         "yaxis": "y"
        },
        {
         "hovertemplate": "cwe_id=CWE-444<br>Exploitability Score (v3.1)=%{x}<br>Impact Score (v3.1)=%{y}<extra></extra>",
         "legendgroup": "CWE-444",
         "marker": {
          "color": "#ab63fa",
          "size": 12,
          "symbol": "circle"
         },
         "mode": "markers",
         "name": "CWE-444",
         "showlegend": true,
         "type": "scattergl",
         "x": [
          3.9
         ],
         "xaxis": "x",
         "y": [
          6
         ],
         "yaxis": "y"
        },
        {
         "hovertemplate": "cwe_id=CWE-270<br>Exploitability Score (v3.1)=%{x}<br>Impact Score (v3.1)=%{y}<extra></extra>",
         "legendgroup": "CWE-270",
         "marker": {
          "color": "#FFA15A",
          "size": 12,
          "symbol": "circle"
         },
         "mode": "markers",
         "name": "CWE-270",
         "showlegend": true,
         "type": "scattergl",
         "x": [
          1.8,
          2
         ],
         "xaxis": "x",
         "y": [
          5.9,
          6
         ],
         "yaxis": "y"
        },
        {
         "hovertemplate": "cwe_id=CWE-427<br>Exploitability Score (v3.1)=%{x}<br>Impact Score (v3.1)=%{y}<extra></extra>",
         "legendgroup": "CWE-427",
         "marker": {
          "color": "#19d3f3",
          "size": 12,
          "symbol": "circle"
         },
         "mode": "markers",
         "name": "CWE-427",
         "showlegend": true,
         "type": "scattergl",
         "x": [
          1.8,
          1.8,
          1.8,
          1.8,
          2,
          2
         ],
         "xaxis": "x",
         "y": [
          5.9,
          5.9,
          5.9,
          5.9,
          4,
          4
         ],
         "yaxis": "y"
        },
        {
         "hovertemplate": "cwe_id=CWE-749<br>Exploitability Score (v3.1)=%{x}<br>Impact Score (v3.1)=%{y}<extra></extra>",
         "legendgroup": "CWE-749",
         "marker": {
          "color": "#FF6692",
          "size": 12,
          "symbol": "circle"
         },
         "mode": "markers",
         "name": "CWE-749",
         "showlegend": true,
         "type": "scattergl",
         "x": [
          1.8
         ],
         "xaxis": "x",
         "y": [
          5.9
         ],
         "yaxis": "y"
        },
        {
         "hovertemplate": "cwe_id=CWE-754<br>Exploitability Score (v3.1)=%{x}<br>Impact Score (v3.1)=%{y}<extra></extra>",
         "legendgroup": "CWE-754",
         "marker": {
          "color": "#B6E880",
          "size": 12,
          "symbol": "circle"
         },
         "mode": "markers",
         "name": "CWE-754",
         "showlegend": true,
         "type": "scattergl",
         "x": [
          1.8
         ],
         "xaxis": "x",
         "y": [
          5.9
         ],
         "yaxis": "y"
        },
        {
         "hovertemplate": "cwe_id=CWE-912<br>Exploitability Score (v3.1)=%{x}<br>Impact Score (v3.1)=%{y}<extra></extra>",
         "legendgroup": "CWE-912",
         "marker": {
          "color": "#FF97FF",
          "size": 12,
          "symbol": "circle"
         },
         "mode": "markers",
         "name": "CWE-912",
         "showlegend": true,
         "type": "scattergl",
         "x": [
          0.8,
          0.2
         ],
         "xaxis": "x",
         "y": [
          5.9,
          5.9
         ],
         "yaxis": "y"
        },
        {
         "hovertemplate": "cwe_id=CWE-703<br>Exploitability Score (v3.1)=%{x}<br>Impact Score (v3.1)=%{y}<extra></extra>",
         "legendgroup": "CWE-703",
         "marker": {
          "color": "#FECB52",
          "size": 12,
          "symbol": "circle"
         },
         "mode": "markers",
         "name": "CWE-703",
         "showlegend": true,
         "type": "scattergl",
         "x": [
          1.8,
          0.8
         ],
         "xaxis": "x",
         "y": [
          5.9,
          3.7
         ],
         "yaxis": "y"
        }
       ],
       "layout": {
        "height": 600,
        "legend": {
         "title": {
          "text": "cwe_id"
         },
         "tracegroupgap": 0
        },
        "template": {
         "data": {
          "bar": [
           {
            "error_x": {
             "color": "#2a3f5f"
            },
            "error_y": {
             "color": "#2a3f5f"
            },
            "marker": {
             "line": {
              "color": "#E5ECF6",
              "width": 0.5
             },
             "pattern": {
              "fillmode": "overlay",
              "size": 10,
              "solidity": 0.2
             }
            },
            "type": "bar"
           }
          ],
          "barpolar": [
           {
            "marker": {
             "line": {
              "color": "#E5ECF6",
              "width": 0.5
             },
             "pattern": {
              "fillmode": "overlay",
              "size": 10,
              "solidity": 0.2
             }
            },
            "type": "barpolar"
           }
          ],
          "carpet": [
           {
            "aaxis": {
             "endlinecolor": "#2a3f5f",
             "gridcolor": "white",
             "linecolor": "white",
             "minorgridcolor": "white",
             "startlinecolor": "#2a3f5f"
            },
            "baxis": {
             "endlinecolor": "#2a3f5f",
             "gridcolor": "white",
             "linecolor": "white",
             "minorgridcolor": "white",
             "startlinecolor": "#2a3f5f"
            },
            "type": "carpet"
           }
          ],
          "choropleth": [
           {
            "colorbar": {
             "outlinewidth": 0,
             "ticks": ""
            },
            "type": "choropleth"
           }
          ],
          "contour": [
           {
            "colorbar": {
             "outlinewidth": 0,
             "ticks": ""
            },
            "colorscale": [
             [
              0,
              "#0d0887"
             ],
             [
              0.1111111111111111,
              "#46039f"
             ],
             [
              0.2222222222222222,
              "#7201a8"
             ],
             [
              0.3333333333333333,
              "#9c179e"
             ],
             [
              0.4444444444444444,
              "#bd3786"
             ],
             [
              0.5555555555555556,
              "#d8576b"
             ],
             [
              0.6666666666666666,
              "#ed7953"
             ],
             [
              0.7777777777777778,
              "#fb9f3a"
             ],
             [
              0.8888888888888888,
              "#fdca26"
             ],
             [
              1,
              "#f0f921"
             ]
            ],
            "type": "contour"
           }
          ],
          "contourcarpet": [
           {
            "colorbar": {
             "outlinewidth": 0,
             "ticks": ""
            },
            "type": "contourcarpet"
           }
          ],
          "heatmap": [
           {
            "colorbar": {
             "outlinewidth": 0,
             "ticks": ""
            },
            "colorscale": [
             [
              0,
              "#0d0887"
             ],
             [
              0.1111111111111111,
              "#46039f"
             ],
             [
              0.2222222222222222,
              "#7201a8"
             ],
             [
              0.3333333333333333,
              "#9c179e"
             ],
             [
              0.4444444444444444,
              "#bd3786"
             ],
             [
              0.5555555555555556,
              "#d8576b"
             ],
             [
              0.6666666666666666,
              "#ed7953"
             ],
             [
              0.7777777777777778,
              "#fb9f3a"
             ],
             [
              0.8888888888888888,
              "#fdca26"
             ],
             [
              1,
              "#f0f921"
             ]
            ],
            "type": "heatmap"
           }
          ],
          "heatmapgl": [
           {
            "colorbar": {
             "outlinewidth": 0,
             "ticks": ""
            },
            "colorscale": [
             [
              0,
              "#0d0887"
             ],
             [
              0.1111111111111111,
              "#46039f"
             ],
             [
              0.2222222222222222,
              "#7201a8"
             ],
             [
              0.3333333333333333,
              "#9c179e"
             ],
             [
              0.4444444444444444,
              "#bd3786"
             ],
             [
              0.5555555555555556,
              "#d8576b"
             ],
             [
              0.6666666666666666,
              "#ed7953"
             ],
             [
              0.7777777777777778,
              "#fb9f3a"
             ],
             [
              0.8888888888888888,
              "#fdca26"
             ],
             [
              1,
              "#f0f921"
             ]
            ],
            "type": "heatmapgl"
           }
          ],
          "histogram": [
           {
            "marker": {
             "pattern": {
              "fillmode": "overlay",
              "size": 10,
              "solidity": 0.2
             }
            },
            "type": "histogram"
           }
          ],
          "histogram2d": [
           {
            "colorbar": {
             "outlinewidth": 0,
             "ticks": ""
            },
            "colorscale": [
             [
              0,
              "#0d0887"
             ],
             [
              0.1111111111111111,
              "#46039f"
             ],
             [
              0.2222222222222222,
              "#7201a8"
             ],
             [
              0.3333333333333333,
              "#9c179e"
             ],
             [
              0.4444444444444444,
              "#bd3786"
             ],
             [
              0.5555555555555556,
              "#d8576b"
             ],
             [
              0.6666666666666666,
              "#ed7953"
             ],
             [
              0.7777777777777778,
              "#fb9f3a"
             ],
             [
              0.8888888888888888,
              "#fdca26"
             ],
             [
              1,
              "#f0f921"
             ]
            ],
            "type": "histogram2d"
           }
          ],
          "histogram2dcontour": [
           {
            "colorbar": {
             "outlinewidth": 0,
             "ticks": ""
            },
            "colorscale": [
             [
              0,
              "#0d0887"
             ],
             [
              0.1111111111111111,
              "#46039f"
             ],
             [
              0.2222222222222222,
              "#7201a8"
             ],
             [
              0.3333333333333333,
              "#9c179e"
             ],
             [
              0.4444444444444444,
              "#bd3786"
             ],
             [
              0.5555555555555556,
              "#d8576b"
             ],
             [
              0.6666666666666666,
              "#ed7953"
             ],
             [
              0.7777777777777778,
              "#fb9f3a"
             ],
             [
              0.8888888888888888,
              "#fdca26"
             ],
             [
              1,
              "#f0f921"
             ]
            ],
            "type": "histogram2dcontour"
           }
          ],
          "mesh3d": [
           {
            "colorbar": {
             "outlinewidth": 0,
             "ticks": ""
            },
            "type": "mesh3d"
           }
          ],
          "parcoords": [
           {
            "line": {
             "colorbar": {
              "outlinewidth": 0,
              "ticks": ""
             }
            },
            "type": "parcoords"
           }
          ],
          "pie": [
           {
            "automargin": true,
            "type": "pie"
           }
          ],
          "scatter": [
           {
            "fillpattern": {
             "fillmode": "overlay",
             "size": 10,
             "solidity": 0.2
            },
            "type": "scatter"
           }
          ],
          "scatter3d": [
           {
            "line": {
             "colorbar": {
              "outlinewidth": 0,
              "ticks": ""
             }
            },
            "marker": {
             "colorbar": {
              "outlinewidth": 0,
              "ticks": ""
             }
            },
            "type": "scatter3d"
           }
          ],
          "scattercarpet": [
           {
            "marker": {
             "colorbar": {
              "outlinewidth": 0,
              "ticks": ""
             }
            },
            "type": "scattercarpet"
           }
          ],
          "scattergeo": [
           {
            "marker": {
             "colorbar": {
              "outlinewidth": 0,
              "ticks": ""
             }
            },
            "type": "scattergeo"
           }
          ],
          "scattergl": [
           {
            "marker": {
             "colorbar": {
              "outlinewidth": 0,
              "ticks": ""
             }
            },
            "type": "scattergl"
           }
          ],
          "scattermapbox": [
           {
            "marker": {
             "colorbar": {
              "outlinewidth": 0,
              "ticks": ""
             }
            },
            "type": "scattermapbox"
           }
          ],
          "scatterpolar": [
           {
            "marker": {
             "colorbar": {
              "outlinewidth": 0,
              "ticks": ""
             }
            },
            "type": "scatterpolar"
           }
          ],
          "scatterpolargl": [
           {
            "marker": {
             "colorbar": {
              "outlinewidth": 0,
              "ticks": ""
             }
            },
            "type": "scatterpolargl"
           }
          ],
          "scatterternary": [
           {
            "marker": {
             "colorbar": {
              "outlinewidth": 0,
              "ticks": ""
             }
            },
            "type": "scatterternary"
           }
          ],
          "surface": [
           {
            "colorbar": {
             "outlinewidth": 0,
             "ticks": ""
            },
            "colorscale": [
             [
              0,
              "#0d0887"
             ],
             [
              0.1111111111111111,
              "#46039f"
             ],
             [
              0.2222222222222222,
              "#7201a8"
             ],
             [
              0.3333333333333333,
              "#9c179e"
             ],
             [
              0.4444444444444444,
              "#bd3786"
             ],
             [
              0.5555555555555556,
              "#d8576b"
             ],
             [
              0.6666666666666666,
              "#ed7953"
             ],
             [
              0.7777777777777778,
              "#fb9f3a"
             ],
             [
              0.8888888888888888,
              "#fdca26"
             ],
             [
              1,
              "#f0f921"
             ]
            ],
            "type": "surface"
           }
          ],
          "table": [
           {
            "cells": {
             "fill": {
              "color": "#EBF0F8"
             },
             "line": {
              "color": "white"
             }
            },
            "header": {
             "fill": {
              "color": "#C8D4E3"
             },
             "line": {
              "color": "white"
             }
            },
            "type": "table"
           }
          ]
         },
         "layout": {
          "annotationdefaults": {
           "arrowcolor": "#2a3f5f",
           "arrowhead": 0,
           "arrowwidth": 1
          },
          "autotypenumbers": "strict",
          "coloraxis": {
           "colorbar": {
            "outlinewidth": 0,
            "ticks": ""
           }
          },
          "colorscale": {
           "diverging": [
            [
             0,
             "#8e0152"
            ],
            [
             0.1,
             "#c51b7d"
            ],
            [
             0.2,
             "#de77ae"
            ],
            [
             0.3,
             "#f1b6da"
            ],
            [
             0.4,
             "#fde0ef"
            ],
            [
             0.5,
             "#f7f7f7"
            ],
            [
             0.6,
             "#e6f5d0"
            ],
            [
             0.7,
             "#b8e186"
            ],
            [
             0.8,
             "#7fbc41"
            ],
            [
             0.9,
             "#4d9221"
            ],
            [
             1,
             "#276419"
            ]
           ],
           "sequential": [
            [
             0,
             "#0d0887"
            ],
            [
             0.1111111111111111,
             "#46039f"
            ],
            [
             0.2222222222222222,
             "#7201a8"
            ],
            [
             0.3333333333333333,
             "#9c179e"
            ],
            [
             0.4444444444444444,
             "#bd3786"
            ],
            [
             0.5555555555555556,
             "#d8576b"
            ],
            [
             0.6666666666666666,
             "#ed7953"
            ],
            [
             0.7777777777777778,
             "#fb9f3a"
            ],
            [
             0.8888888888888888,
             "#fdca26"
            ],
            [
             1,
             "#f0f921"
            ]
           ],
           "sequentialminus": [
            [
             0,
             "#0d0887"
            ],
            [
             0.1111111111111111,
             "#46039f"
            ],
            [
             0.2222222222222222,
             "#7201a8"
            ],
            [
             0.3333333333333333,
             "#9c179e"
            ],
            [
             0.4444444444444444,
             "#bd3786"
            ],
            [
             0.5555555555555556,
             "#d8576b"
            ],
            [
             0.6666666666666666,
             "#ed7953"
            ],
            [
             0.7777777777777778,
             "#fb9f3a"
            ],
            [
             0.8888888888888888,
             "#fdca26"
            ],
            [
             1,
             "#f0f921"
            ]
           ]
          },
          "colorway": [
           "#636efa",
           "#EF553B",
           "#00cc96",
           "#ab63fa",
           "#FFA15A",
           "#19d3f3",
           "#FF6692",
           "#B6E880",
           "#FF97FF",
           "#FECB52"
          ],
          "font": {
           "color": "#2a3f5f"
          },
          "geo": {
           "bgcolor": "white",
           "lakecolor": "white",
           "landcolor": "#E5ECF6",
           "showlakes": true,
           "showland": true,
           "subunitcolor": "white"
          },
          "hoverlabel": {
           "align": "left"
          },
          "hovermode": "closest",
          "mapbox": {
           "style": "light"
          },
          "paper_bgcolor": "white",
          "plot_bgcolor": "#E5ECF6",
          "polar": {
           "angularaxis": {
            "gridcolor": "white",
            "linecolor": "white",
            "ticks": ""
           },
           "bgcolor": "#E5ECF6",
           "radialaxis": {
            "gridcolor": "white",
            "linecolor": "white",
            "ticks": ""
           }
          },
          "scene": {
           "xaxis": {
            "backgroundcolor": "#E5ECF6",
            "gridcolor": "white",
            "gridwidth": 2,
            "linecolor": "white",
            "showbackground": true,
            "ticks": "",
            "zerolinecolor": "white"
           },
           "yaxis": {
            "backgroundcolor": "#E5ECF6",
            "gridcolor": "white",
            "gridwidth": 2,
            "linecolor": "white",
            "showbackground": true,
            "ticks": "",
            "zerolinecolor": "white"
           },
           "zaxis": {
            "backgroundcolor": "#E5ECF6",
            "gridcolor": "white",
            "gridwidth": 2,
            "linecolor": "white",
            "showbackground": true,
            "ticks": "",
            "zerolinecolor": "white"
           }
          },
          "shapedefaults": {
           "line": {
            "color": "#2a3f5f"
           }
          },
          "ternary": {
           "aaxis": {
            "gridcolor": "white",
            "linecolor": "white",
            "ticks": ""
           },
           "baxis": {
            "gridcolor": "white",
            "linecolor": "white",
            "ticks": ""
           },
           "bgcolor": "#E5ECF6",
           "caxis": {
            "gridcolor": "white",
            "linecolor": "white",
            "ticks": ""
           }
          },
          "title": {
           "x": 0.05
          },
          "xaxis": {
           "automargin": true,
           "gridcolor": "white",
           "linecolor": "white",
           "ticks": "",
           "title": {
            "standoff": 15
           },
           "zerolinecolor": "white",
           "zerolinewidth": 2
          },
          "yaxis": {
           "automargin": true,
           "gridcolor": "white",
           "linecolor": "white",
           "ticks": "",
           "title": {
            "standoff": 15
           },
           "zerolinecolor": "white",
           "zerolinewidth": 2
          }
         }
        },
        "title": {
         "text": "Exploitability Score vs Impact Score (v3.1)"
        },
        "xaxis": {
         "anchor": "y",
         "domain": [
          0,
          1
         ],
         "title": {
          "text": "Exploitability Score (v3.1)"
         }
        },
        "yaxis": {
         "anchor": "x",
         "domain": [
          0,
          1
         ],
         "title": {
          "text": "Impact Score (v3.1)"
         }
        }
       }
      }
     },
     "metadata": {},
     "output_type": "display_data"
    }
   ],
   "source": [
    "# Scatterplot interactivo para v3.1\n",
    "fig = px.scatter(df_full, \n",
    "                 x='exploitabilityScore_v31', y='impactScore_v31', \n",
    "                 color='cwe_id', \n",
    "                 title='Exploitability Score vs Impact Score (v3.1)',\n",
    "                 labels={'exploitabilityScore_v31': 'Exploitability Score (v3.1)', 'impactScore_v31': 'Impact Score (v3.1)'},\n",
    "                 height=600)\n",
    "\n",
    "fig.update_traces(marker=dict(size=12))\n",
    "fig.show()\n"
   ]
  }
 ],
 "metadata": {
  "kernelspec": {
   "display_name": "Python 3",
   "language": "python",
   "name": "python3"
  },
  "language_info": {
   "codemirror_mode": {
    "name": "ipython",
    "version": 3
   },
   "file_extension": ".py",
   "mimetype": "text/x-python",
   "name": "python",
   "nbconvert_exporter": "python",
   "pygments_lexer": "ipython3",
   "version": "3.9.10"
  }
 },
 "nbformat": 4,
 "nbformat_minor": 2
}
